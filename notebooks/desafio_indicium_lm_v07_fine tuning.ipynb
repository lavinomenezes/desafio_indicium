{
 "cells": [
  {
   "cell_type": "markdown",
   "id": "ec459904",
   "metadata": {},
   "source": [
    "# imports"
   ]
  },
  {
   "cell_type": "code",
   "execution_count": 1,
   "id": "ce23a0a5",
   "metadata": {
    "ExecuteTime": {
     "end_time": "2023-02-06T15:11:31.576685Z",
     "start_time": "2023-02-06T15:11:28.387057Z"
    }
   },
   "outputs": [],
   "source": [
    "#manipulação de dados\n",
    "import pandas as pd\n",
    "import numpy  as np\n",
    "\n",
    "#visualização\n",
    "import matplotlib.pyplot as plt\n",
    "import seaborn           as sns\n",
    "from IPython.core.display import HTML\n",
    "from IPython.display      import Image\n",
    "\n",
    "# processamento de dados\n",
    "from sklearn.model_selection import train_test_split\n",
    "from sklearn.utils import class_weight\n",
    "\n",
    "#machine learning models\n",
    "import xgboost as xgb\n",
    "import lightgbm as lgb\n",
    "\n",
    "#metricas\n",
    "from sklearn.metrics import accuracy_score, balanced_accuracy_score,precision_score,recall_score,roc_auc_score, confusion_matrix,f1_score"
   ]
  },
  {
   "cell_type": "markdown",
   "id": "11a50ae4",
   "metadata": {
    "heading_collapsed": true
   },
   "source": [
    "## Helper functions "
   ]
  },
  {
   "cell_type": "code",
   "execution_count": 2,
   "id": "d5de0534",
   "metadata": {
    "ExecuteTime": {
     "end_time": "2023-02-06T15:11:31.639143Z",
     "start_time": "2023-02-06T15:11:31.576685Z"
    },
    "hidden": true
   },
   "outputs": [
    {
     "name": "stdout",
     "output_type": "stream",
     "text": [
      "%pylab is deprecated, use %matplotlib inline and import the required libraries.\n",
      "Populating the interactive namespace from numpy and matplotlib\n"
     ]
    },
    {
     "data": {
      "text/html": [
       "<style>.container { width:100% !important; }</style>"
      ],
      "text/plain": [
       "<IPython.core.display.HTML object>"
      ]
     },
     "metadata": {},
     "output_type": "display_data"
    }
   ],
   "source": [
    "def jupyter_settings():\n",
    "    %matplotlib inline\n",
    "    %pylab inline\n",
    "    plt.style.use( 'bmh' )\n",
    "    plt.rcParams['figure.figsize'] = [25, 12]\n",
    "    plt.rcParams['font.size'] = 24\n",
    "    display( HTML( '<style>.container { width:100% !important; }</style>') )\n",
    "    sns.set()\n",
    "jupyter_settings()"
   ]
  },
  {
   "cell_type": "code",
   "execution_count": 3,
   "id": "c99dde21",
   "metadata": {
    "ExecuteTime": {
     "end_time": "2023-02-06T15:11:31.654769Z",
     "start_time": "2023-02-06T15:11:31.639143Z"
    },
    "hidden": true
   },
   "outputs": [],
   "source": [
    "def mult_metrics(model_name,y,yhat):\n",
    "    return pd.DataFrame({'mode_name':model_name,\n",
    "             'precison_multclass':precision_score(y,yhat,average='macro'),\n",
    "             'recall_multclass':recall_score(y,yhat,average='macro'),\n",
    "              'f1-score_multclass':f1_score(y,yhat,average='macro'),\n",
    "             'balanced_score':balanced_accuracy_score(y,yhat)},index=[0])\n",
    "    "
   ]
  },
  {
   "cell_type": "code",
   "execution_count": 4,
   "id": "44eb5810",
   "metadata": {
    "ExecuteTime": {
     "end_time": "2023-02-06T15:11:31.676923Z",
     "start_time": "2023-02-06T15:11:31.661284Z"
    },
    "hidden": true
   },
   "outputs": [],
   "source": [
    "def confusion_m(y,yhat):\n",
    "    from sklearn.metrics import confusion_matrix\n",
    "    ax= plt.subplot()\n",
    "    cm = confusion_matrix(y,yhat)\n",
    "    sns.heatmap(cm,annot=True,ax=ax,annot_kws={'size': 20})\n",
    "    ax.set_xlabel('Predicted labels');ax.set_ylabel('True labels'); \n",
    "    ax.set_title('Confusion Matrix'); \n",
    "    ax.xaxis.set_ticklabels(['Heat Dissipation Failure', 'No Failure','Overstrain Failure','Power Failure','Random Failures','Tool Wear Failure']); ax.yaxis.set_ticklabels(['Heat Dissipation Failure', 'No Failure','Overstrain Failure','Power Failure','Random Failures','Tool Wear Failure']);\n",
    "    plt.yticks(rotation=0) ;"
   ]
  },
  {
   "cell_type": "code",
   "execution_count": 5,
   "id": "0dc1298d",
   "metadata": {
    "ExecuteTime": {
     "end_time": "2023-02-06T15:11:31.708179Z",
     "start_time": "2023-02-06T15:11:31.676923Z"
    },
    "hidden": true
   },
   "outputs": [],
   "source": [
    "def performace_cross_val(data, target, model, model_name, round_n=3, splits=3, shuffle_n=True, random=42):\n",
    "    import sklearn.model_selection as ms\n",
    "    import sklearn.metrics\n",
    "    import numpy as np\n",
    "    skf = ms.StratifiedKFold(n_splits=splits, shuffle=shuffle_n, random_state=random)\n",
    "    X = data\n",
    "    y = X[target]\n",
    "    X = X.drop(columns=[target, 'product_id'])\n",
    "    precision = []\n",
    "    recall = []\n",
    "    balan_acc = []\n",
    "    f1 = []\n",
    "    for train_index, test_index in skf.split(X, y):\n",
    "        # train the model\n",
    "        model.fit(X.iloc[train_index], y.iloc[train_index])\n",
    "\n",
    "        # predict the classification\n",
    "        yhat_class = model.predict(X.iloc[test_index])\n",
    "\n",
    "        # precision and recall\n",
    "        prec = sklearn.metrics.precision_score(y.iloc[test_index], yhat_class,average='macro')\n",
    "        rec = sklearn.metrics.recall_score(y.iloc[test_index], yhat_class,average='macro')\n",
    "        balan_acc_score = sklearn.metrics.balanced_accuracy_score(y.iloc[test_index], yhat_class)\n",
    "        f1_score = sklearn.metrics.f1_score(y.iloc[test_index], yhat_class,average='macro')\n",
    "        precision.append(prec)\n",
    "        recall.append(rec)\n",
    "        balan_acc.append(balan_acc_score)\n",
    "        f1.append(f1_score)\n",
    "\n",
    "    # return a dataset with the metrics\n",
    "    return pd.DataFrame({'Model name': model_name + \" Cross_Val\",\n",
    "                         'precison_multclass_cv': np.round(np.mean(precision), round_n),\n",
    "                         'precison_std': np.round(np.std(precision), round_n),\n",
    "                         'recall_multclass_cv': np.round(np.mean(recall), round_n),\n",
    "                         'recall_cv': np.round(np.std(recall), round_n),\n",
    "                         'balanced_score_cv': np.round(np.mean(balan_acc), round_n),\n",
    "                         'balanced_std': np.round(np.std(balan_acc), round_n),\n",
    "                         'f1_score_cv': np.round(np.mean(f1), round_n),\n",
    "                         'f1_std': np.round(np.std(f1), round_n)},index=[0])\n"
   ]
  },
  {
   "cell_type": "code",
   "execution_count": 6,
   "id": "15954628",
   "metadata": {
    "ExecuteTime": {
     "end_time": "2023-02-06T15:11:31.760617Z",
     "start_time": "2023-02-06T15:11:31.714845Z"
    },
    "hidden": true
   },
   "outputs": [],
   "source": [
    "def performace_cross_val_boost(data, target, model, model_name, round_n=3, splits=3, shuffle_n=True, random=42):\n",
    "    import sklearn.model_selection as ms\n",
    "    import sklearn.metrics\n",
    "    import numpy as np\n",
    "    skf = ms.StratifiedKFold(n_splits=splits, shuffle=shuffle_n, random_state=random)\n",
    "    X = data\n",
    "    y = X[target]\n",
    "    X = X.drop(columns=[target, 'product_id'])\n",
    "    precision = []\n",
    "    recall = []\n",
    "    balan_acc = []\n",
    "    f1 = []\n",
    "    for train_index, test_index in skf.split(X, y):\n",
    "        # train the model\n",
    "        weight = class_weight.compute_sample_weight(class_weight='balanced',y=y.iloc[train_index])\n",
    "        model.fit(X.iloc[train_index], y.iloc[train_index],sample_weight=weight)\n",
    "\n",
    "        # predict the classification\n",
    "        yhat_class = model.predict(X.iloc[test_index])\n",
    "\n",
    "        # precision and recall\n",
    "        prec = sklearn.metrics.precision_score(y.iloc[test_index], yhat_class,average='macro')\n",
    "        rec = sklearn.metrics.recall_score(y.iloc[test_index], yhat_class,average='macro')\n",
    "        balan_acc_score = sklearn.metrics.balanced_accuracy_score(y.iloc[test_index], yhat_class)\n",
    "        f1_score = sklearn.metrics.f1_score(y.iloc[test_index], yhat_class,average='macro')\n",
    "        precision.append(prec)\n",
    "        recall.append(rec)\n",
    "        balan_acc.append(balan_acc_score)\n",
    "        f1.append(f1_score)\n",
    "\n",
    "    # return a dataset with the metrics\n",
    "    return pd.DataFrame({'Model name': model_name + \" Cross_Val\",\n",
    "                         'precison_multclass_cv': np.round(np.mean(precision), round_n),\n",
    "                         'precison_std': np.round(np.std(precision), round_n),\n",
    "                         'recall_multclass_cv': np.round(np.mean(recall), round_n),\n",
    "                         'recall_cv': np.round(np.std(recall), round_n),\n",
    "                         'balanced_score_cv': np.round(np.mean(balan_acc), round_n),\n",
    "                         'balanced_std': np.round(np.std(balan_acc), round_n),\n",
    "                         'f1_score_cv': np.round(np.mean(f1), round_n),\n",
    "                         'f1_std': np.round(np.std(f1), round_n)},index=[0])"
   ]
  },
  {
   "cell_type": "markdown",
   "id": "ac8a74dc",
   "metadata": {
    "heading_collapsed": true
   },
   "source": [
    "# Load data"
   ]
  },
  {
   "cell_type": "code",
   "execution_count": 7,
   "id": "e762f6a7",
   "metadata": {
    "ExecuteTime": {
     "end_time": "2023-02-06T15:11:31.808038Z",
     "start_time": "2023-02-06T15:11:31.761127Z"
    },
    "hidden": true
   },
   "outputs": [],
   "source": [
    "path_local = 'C:/Users/Lavin/Documents/desafios/desafio_indicium/'\n",
    "df4 = pd.read_csv(path_local + 'data/processed/df_train_processed.csv')"
   ]
  },
  {
   "cell_type": "code",
   "execution_count": 8,
   "id": "5261bffe",
   "metadata": {
    "ExecuteTime": {
     "end_time": "2023-02-06T15:11:31.839280Z",
     "start_time": "2023-02-06T15:11:31.808038Z"
    },
    "hidden": true,
    "scrolled": true
   },
   "outputs": [
    {
     "data": {
      "text/html": [
       "<div>\n",
       "<style scoped>\n",
       "    .dataframe tbody tr th:only-of-type {\n",
       "        vertical-align: middle;\n",
       "    }\n",
       "\n",
       "    .dataframe tbody tr th {\n",
       "        vertical-align: top;\n",
       "    }\n",
       "\n",
       "    .dataframe thead th {\n",
       "        text-align: right;\n",
       "    }\n",
       "</style>\n",
       "<table border=\"1\" class=\"dataframe\">\n",
       "  <thead>\n",
       "    <tr style=\"text-align: right;\">\n",
       "      <th></th>\n",
       "      <th>product_id</th>\n",
       "      <th>air_temperature_k</th>\n",
       "      <th>process_temperature_k</th>\n",
       "      <th>rotational_speed_rpm</th>\n",
       "      <th>torque_nm</th>\n",
       "      <th>tool_wear_min</th>\n",
       "      <th>failure_type</th>\n",
       "    </tr>\n",
       "  </thead>\n",
       "  <tbody>\n",
       "    <tr>\n",
       "      <th>0</th>\n",
       "      <td>M14860</td>\n",
       "      <td>0.304348</td>\n",
       "      <td>0.358025</td>\n",
       "      <td>0.253298</td>\n",
       "      <td>0.191176</td>\n",
       "      <td>-1.000000</td>\n",
       "      <td>1</td>\n",
       "    </tr>\n",
       "    <tr>\n",
       "      <th>1</th>\n",
       "      <td>L47181</td>\n",
       "      <td>0.315217</td>\n",
       "      <td>0.370370</td>\n",
       "      <td>-0.501319</td>\n",
       "      <td>0.448529</td>\n",
       "      <td>-0.972222</td>\n",
       "      <td>1</td>\n",
       "    </tr>\n",
       "    <tr>\n",
       "      <th>2</th>\n",
       "      <td>L47184</td>\n",
       "      <td>0.315217</td>\n",
       "      <td>0.370370</td>\n",
       "      <td>-0.501319</td>\n",
       "      <td>-0.014706</td>\n",
       "      <td>-0.916667</td>\n",
       "      <td>1</td>\n",
       "    </tr>\n",
       "    <tr>\n",
       "      <th>3</th>\n",
       "      <td>M14865</td>\n",
       "      <td>0.304348</td>\n",
       "      <td>0.358025</td>\n",
       "      <td>-0.411609</td>\n",
       "      <td>0.125000</td>\n",
       "      <td>-0.898148</td>\n",
       "      <td>1</td>\n",
       "    </tr>\n",
       "    <tr>\n",
       "      <th>4</th>\n",
       "      <td>L47186</td>\n",
       "      <td>0.304348</td>\n",
       "      <td>0.358025</td>\n",
       "      <td>0.290237</td>\n",
       "      <td>0.161765</td>\n",
       "      <td>-0.870370</td>\n",
       "      <td>1</td>\n",
       "    </tr>\n",
       "  </tbody>\n",
       "</table>\n",
       "</div>"
      ],
      "text/plain": [
       "  product_id  air_temperature_k  process_temperature_k  rotational_speed_rpm  \\\n",
       "0     M14860           0.304348               0.358025              0.253298   \n",
       "1     L47181           0.315217               0.370370             -0.501319   \n",
       "2     L47184           0.315217               0.370370             -0.501319   \n",
       "3     M14865           0.304348               0.358025             -0.411609   \n",
       "4     L47186           0.304348               0.358025              0.290237   \n",
       "\n",
       "   torque_nm  tool_wear_min  failure_type  \n",
       "0   0.191176      -1.000000             1  \n",
       "1   0.448529      -0.972222             1  \n",
       "2  -0.014706      -0.916667             1  \n",
       "3   0.125000      -0.898148             1  \n",
       "4   0.161765      -0.870370             1  "
      ]
     },
     "execution_count": 8,
     "metadata": {},
     "output_type": "execute_result"
    }
   ],
   "source": [
    "df4.head()"
   ]
  },
  {
   "cell_type": "markdown",
   "id": "e009ab6e",
   "metadata": {
    "hidden": true
   },
   "source": [
    "## Split dataframe"
   ]
  },
  {
   "cell_type": "code",
   "execution_count": 9,
   "id": "ebc1691c",
   "metadata": {
    "ExecuteTime": {
     "end_time": "2023-02-06T15:11:31.854894Z",
     "start_time": "2023-02-06T15:11:31.839280Z"
    },
    "hidden": true
   },
   "outputs": [],
   "source": [
    "X = df4.copy()\n",
    "y = X['failure_type']\n",
    "X = X.drop(columns=['failure_type','product_id'])"
   ]
  },
  {
   "cell_type": "code",
   "execution_count": 10,
   "id": "272f6970",
   "metadata": {
    "ExecuteTime": {
     "end_time": "2023-02-06T15:11:31.877043Z",
     "start_time": "2023-02-06T15:11:31.861406Z"
    },
    "hidden": true
   },
   "outputs": [],
   "source": [
    "X_train, X_val, y_train, y_val = train_test_split(X, y, test_size=0.3, random_state=42)"
   ]
  },
  {
   "cell_type": "code",
   "execution_count": 11,
   "id": "3d8b72e3",
   "metadata": {
    "ExecuteTime": {
     "end_time": "2023-02-06T15:11:31.908300Z",
     "start_time": "2023-02-06T15:11:31.877043Z"
    },
    "hidden": true
   },
   "outputs": [
    {
     "data": {
      "text/plain": [
       "(4666, 5)"
      ]
     },
     "execution_count": 11,
     "metadata": {},
     "output_type": "execute_result"
    }
   ],
   "source": [
    "X_train.shape"
   ]
  },
  {
   "cell_type": "code",
   "execution_count": 12,
   "id": "c25debf7",
   "metadata": {
    "ExecuteTime": {
     "end_time": "2023-02-06T15:11:31.923923Z",
     "start_time": "2023-02-06T15:11:31.908300Z"
    },
    "hidden": true
   },
   "outputs": [
    {
     "data": {
      "text/plain": [
       "(2001, 5)"
      ]
     },
     "execution_count": 12,
     "metadata": {},
     "output_type": "execute_result"
    }
   ],
   "source": [
    "X_val.shape"
   ]
  },
  {
   "cell_type": "markdown",
   "id": "6d2202e3",
   "metadata": {},
   "source": [
    "# Fine tuning"
   ]
  },
  {
   "cell_type": "code",
   "execution_count": 13,
   "id": "8ce2c4f0",
   "metadata": {
    "ExecuteTime": {
     "end_time": "2023-02-06T15:11:32.357881Z",
     "start_time": "2023-02-06T15:11:31.923923Z"
    }
   },
   "outputs": [],
   "source": [
    "from hyperopt import tpe, Trials, hp, fmin, STATUS_OK\n",
    "\n",
    "import warnings\n",
    "warnings.filterwarnings('ignore')"
   ]
  },
  {
   "cell_type": "code",
   "execution_count": 14,
   "id": "a0b7fafe",
   "metadata": {
    "ExecuteTime": {
     "end_time": "2023-02-06T15:11:32.378535Z",
     "start_time": "2023-02-06T15:11:32.357881Z"
    }
   },
   "outputs": [],
   "source": [
    "space={'n_estimators': hp.choice('n_estimators',np.arange(300,1000+1,250)),\n",
    "      'max_depth': hp.quniform(\"max_depth\", 3, 10, 1),\n",
    "      'colsample_bytree' : hp.uniform('colsample_bytree', 0.5,1),\n",
    "      'min_child_weight' : hp.quniform('min_child_weight', 0, 101, 2),\n",
    "      'seed': 42\n",
    "    }"
   ]
  },
  {
   "cell_type": "code",
   "execution_count": 15,
   "id": "f482e3eb",
   "metadata": {
    "ExecuteTime": {
     "end_time": "2023-02-06T15:11:32.394159Z",
     "start_time": "2023-02-06T15:11:32.378535Z"
    }
   },
   "outputs": [],
   "source": [
    "# def objective_function(space):\n",
    "#     xgb_model = xgb.XGBClassifier(n_estimators =int(space['n_estimators']),\n",
    "#                                   max_depth = int(space['max_depth']), \n",
    "#                                   min_child_weight=int(space['min_child_weight']),\n",
    "#                                   colsample_bytree=int(space['colsample_bytree']),\n",
    "#                                   seed = space['seed'])      \n",
    "#     score = performace_cross_val_boost(df4,'failure_type',xgb_model,'xgb_model',round_n=3,splits=3)\n",
    "#     print(space)\n",
    "#     print(score['f1_score_cv'][0])\n",
    "#     return {'loss': -score['f1_score_cv'][0],'status':STATUS_OK}"
   ]
  },
  {
   "cell_type": "code",
   "execution_count": 16,
   "id": "ab8f6a2d",
   "metadata": {
    "ExecuteTime": {
     "end_time": "2023-02-06T15:11:32.409783Z",
     "start_time": "2023-02-06T15:11:32.394159Z"
    }
   },
   "outputs": [],
   "source": [
    "# tpe_algorithm = tpe.suggest\n",
    "# trials = Trials()\n",
    "# num_eval = 100"
   ]
  },
  {
   "cell_type": "code",
   "execution_count": 17,
   "id": "46dbb50b",
   "metadata": {
    "ExecuteTime": {
     "end_time": "2023-02-06T15:25:07.888071Z",
     "start_time": "2023-02-06T15:11:32.409783Z"
    }
   },
   "outputs": [
    {
     "name": "stdout",
     "output_type": "stream",
     "text": [
      "{'colsample_bytree': 0.7081801033404811, 'max_depth': 4.0, 'min_child_weight': 98.0, 'n_estimators': 550, 'seed': 42}\n",
      "0.393                                                  \n",
      "{'colsample_bytree': 0.8828185312449635, 'max_depth': 8.0, 'min_child_weight': 56.0, 'n_estimators': 800, 'seed': 42}\n",
      "0.423                                                                \n",
      "{'colsample_bytree': 0.6335807600252841, 'max_depth': 8.0, 'min_child_weight': 48.0, 'n_estimators': 800, 'seed': 42}\n",
      "0.433                                                                \n",
      "{'colsample_bytree': 0.8735274147420538, 'max_depth': 5.0, 'min_child_weight': 50.0, 'n_estimators': 550, 'seed': 42}\n",
      "0.431                                                                \n",
      "{'colsample_bytree': 0.9810727407557882, 'max_depth': 7.0, 'min_child_weight': 20.0, 'n_estimators': 300, 'seed': 42}\n",
      "0.456                                                                \n",
      "{'colsample_bytree': 0.9020312691303298, 'max_depth': 10.0, 'min_child_weight': 64.0, 'n_estimators': 300, 'seed': 42}\n",
      "0.407                                                                \n",
      "{'colsample_bytree': 0.7735652762824485, 'max_depth': 4.0, 'min_child_weight': 16.0, 'n_estimators': 300, 'seed': 42}\n",
      "0.469                                                                \n",
      "{'colsample_bytree': 0.7166771354592609, 'max_depth': 7.0, 'min_child_weight': 24.0, 'n_estimators': 800, 'seed': 42}\n",
      "0.474                                                                \n",
      "{'colsample_bytree': 0.6754146559096472, 'max_depth': 9.0, 'min_child_weight': 30.0, 'n_estimators': 800, 'seed': 42}\n",
      "0.463                                                                \n",
      "{'colsample_bytree': 0.8085683705038584, 'max_depth': 6.0, 'min_child_weight': 96.0, 'n_estimators': 550, 'seed': 42}\n",
      "0.393                                                                \n",
      "{'colsample_bytree': 0.9517598938717673, 'max_depth': 6.0, 'min_child_weight': 12.0, 'n_estimators': 800, 'seed': 42}\n",
      "0.483                                                                 \n",
      "{'colsample_bytree': 0.654792922611984, 'max_depth': 5.0, 'min_child_weight': 98.0, 'n_estimators': 300, 'seed': 42}\n",
      "0.388                                                                 \n",
      "{'colsample_bytree': 0.5781934661709385, 'max_depth': 7.0, 'min_child_weight': 72.0, 'n_estimators': 550, 'seed': 42}\n",
      "0.407                                                                 \n",
      "{'colsample_bytree': 0.6098397061914791, 'max_depth': 7.0, 'min_child_weight': 12.0, 'n_estimators': 550, 'seed': 42}\n",
      "0.483                                                                 \n",
      "{'colsample_bytree': 0.839965102795568, 'max_depth': 7.0, 'min_child_weight': 54.0, 'n_estimators': 550, 'seed': 42}\n",
      "0.425                                                                 \n",
      "{'colsample_bytree': 0.6055006719803053, 'max_depth': 7.0, 'min_child_weight': 94.0, 'n_estimators': 300, 'seed': 42}\n",
      "0.39                                                                  \n",
      "{'colsample_bytree': 0.860609535338046, 'max_depth': 3.0, 'min_child_weight': 60.0, 'n_estimators': 550, 'seed': 42}\n",
      "0.426                                                                 \n",
      "{'colsample_bytree': 0.8465068397113424, 'max_depth': 7.0, 'min_child_weight': 94.0, 'n_estimators': 800, 'seed': 42}\n",
      "0.404                                                                 \n",
      "{'colsample_bytree': 0.7621907608582192, 'max_depth': 6.0, 'min_child_weight': 70.0, 'n_estimators': 550, 'seed': 42}\n",
      "0.413                                                                 \n",
      "{'colsample_bytree': 0.7253468159648095, 'max_depth': 8.0, 'min_child_weight': 82.0, 'n_estimators': 300, 'seed': 42}\n",
      "0.399                                                                 \n",
      "{'colsample_bytree': 0.5138215475445678, 'max_depth': 5.0, 'min_child_weight': 4.0, 'n_estimators': 800, 'seed': 42}\n",
      "0.493                                                                 \n",
      " 21%|██        | 21/100 [02:14<07:17,  5.47s/trial, best loss: -0.483]"
     ]
    },
    {
     "data": {
      "text/html": [
       "<b>limit_output extension: Maximum message size of 10000 exceeded with 10048 characters</b>"
      ]
     },
     "metadata": {},
     "output_type": "display_data"
    }
   ],
   "source": [
    "# best_paramns = fmin(fn=objective_function,space=space,algo=tpe_algorithm,max_evals=num_eval,trials=trials)"
   ]
  },
  {
   "cell_type": "code",
   "execution_count": 18,
   "id": "8ca96b96",
   "metadata": {
    "ExecuteTime": {
     "end_time": "2023-02-06T14:42:03.107689Z",
     "start_time": "2023-02-06T14:42:03.095691Z"
    },
    "scrolled": false
   },
   "outputs": [
    {
     "data": {
      "text/plain": [
       "{'colsample_bytree': 0.6939415415289769,\n",
       " 'max_depth': 3.0,\n",
       " 'min_child_weight': 28.0,\n",
       " 'n_estimators': 1}"
      ]
     },
     "execution_count": 18,
     "metadata": {},
     "output_type": "execute_result"
    }
   ],
   "source": [
    "# best_paramns"
   ]
  },
  {
   "cell_type": "code",
   "execution_count": 20,
   "id": "94ae2762",
   "metadata": {
    "ExecuteTime": {
     "end_time": "2023-02-06T14:42:03.139127Z",
     "start_time": "2023-02-06T14:42:03.127133Z"
    }
   },
   "outputs": [],
   "source": [
    "# {'colsample_bytree': 0.7861913023654323, 'max_depth': 3.0, 'min_child_weight': 6.0, 'n_estimators': 300, 'seed': 42} 0.576\n",
    "# {'colsample_bytree': 0.8919692193040883, 'max_depth': 3.0, 'min_child_weight': 10.0, 'n_estimators': 800, 'seed': 42} 0.588 \n",
    "#{'colsample_bytree': 0.6787531787719704, 'max_depth': 3.0, 'min_child_weight': 9.0, 'n_estimators': 300, 'seed': 42} 0.589 \n",
    "# {'colsample_bytree': 0.944694905734099, 'max_depth': 3.0, 'min_child_weight': 13.0, 'n_estimators': 800, 'seed': 42} 0.598 \n",
    "#{'colsample_bytree': 0.5177112616620141, 'max_depth': 3.0, 'min_child_weight': 13.0, 'n_estimators': 300, 'seed': 42} 0.603 \n",
    "# {'colsample_bytree': 0.6081083296444376, 'max_depth': 3.0, 'min_child_weight': 26.0, 'n_estimators': 550, 'seed': 42} 0.634"
   ]
  },
  {
   "cell_type": "code",
   "execution_count": 38,
   "id": "d1b6faaf",
   "metadata": {
    "ExecuteTime": {
     "end_time": "2023-02-06T14:54:41.817069Z",
     "start_time": "2023-02-06T14:54:41.793070Z"
    }
   },
   "outputs": [],
   "source": [
    "best_paramns_recall = [{'colsample_bytree': 0.7861913023654323, 'max_depth': 3.0, 'min_child_weight': 6.0, 'n_estimators': 300, 'seed': 42},\n",
    "{'colsample_bytree': 0.8919692193040883, 'max_depth': 3.0, 'min_child_weight': 10.0, 'n_estimators': 800, 'seed': 42}, \n",
    "{'colsample_bytree': 0.6787531787719704, 'max_depth': 3.0, 'min_child_weight': 9.0, 'n_estimators': 300, 'seed': 42}, \n",
    "{'colsample_bytree': 0.944694905734099, 'max_depth': 3.0, 'min_child_weight': 13.0, 'n_estimators': 800, 'seed': 42}, \n",
    "{'colsample_bytree': 0.5177112616620141, 'max_depth': 3.0, 'min_child_weight': 13.0, 'n_estimators': 300, 'seed': 42}, \n",
    "{'colsample_bytree': 0.6081083296444376, 'max_depth': 3.0, 'min_child_weight': 26.0, 'n_estimators': 550, 'seed': 42}]"
   ]
  },
  {
   "cell_type": "markdown",
   "id": "9c032a40",
   "metadata": {},
   "source": [
    "## XGboost"
   ]
  },
  {
   "cell_type": "code",
   "execution_count": 47,
   "id": "f3e58b37",
   "metadata": {
    "ExecuteTime": {
     "end_time": "2023-02-06T15:01:03.038279Z",
     "start_time": "2023-02-06T15:00:12.621969Z"
    }
   },
   "outputs": [],
   "source": [
    "aux_df = pd.DataFrame()\n",
    "for i in best_paramns:\n",
    "    best_paramns_select_balance_acc = dict(i)\n",
    "    xgb_model_final = xgb.XGBClassifier(n_estimators =int(best_paramns_select_balance_acc['n_estimators']),\n",
    "                                          max_depth = int(best_paramns_select_balance_acc['max_depth']), \n",
    "                                          min_child_weight=int(best_paramns_select_balance_acc['min_child_weight']),\n",
    "                                          colsample_bytree=int(best_paramns_select_balance_acc['colsample_bytree']),\n",
    "                                          seed = 42).fit(X_train,y_train)\n",
    "    aux_df = pd.concat([aux_df,performace_cross_val_boost(df4,'failure_type',xgb_model_final,'xgboost')],ignore_index=True)"
   ]
  },
  {
   "cell_type": "code",
   "execution_count": 48,
   "id": "fd944949",
   "metadata": {
    "ExecuteTime": {
     "end_time": "2023-02-06T15:01:16.522866Z",
     "start_time": "2023-02-06T15:01:16.491624Z"
    }
   },
   "outputs": [
    {
     "data": {
      "text/html": [
       "<div>\n",
       "<style scoped>\n",
       "    .dataframe tbody tr th:only-of-type {\n",
       "        vertical-align: middle;\n",
       "    }\n",
       "\n",
       "    .dataframe tbody tr th {\n",
       "        vertical-align: top;\n",
       "    }\n",
       "\n",
       "    .dataframe thead th {\n",
       "        text-align: right;\n",
       "    }\n",
       "</style>\n",
       "<table border=\"1\" class=\"dataframe\">\n",
       "  <thead>\n",
       "    <tr style=\"text-align: right;\">\n",
       "      <th></th>\n",
       "      <th>Model name</th>\n",
       "      <th>precison_multclass_cv</th>\n",
       "      <th>precison_std</th>\n",
       "      <th>recall_multclass_cv</th>\n",
       "      <th>recall_cv</th>\n",
       "      <th>balanced_score_cv</th>\n",
       "      <th>balanced_std</th>\n",
       "      <th>f1_score_cv</th>\n",
       "      <th>f1_std</th>\n",
       "    </tr>\n",
       "  </thead>\n",
       "  <tbody>\n",
       "    <tr>\n",
       "      <th>0</th>\n",
       "      <td>xgboost Cross_Val</td>\n",
       "      <td>0.448</td>\n",
       "      <td>0.022</td>\n",
       "      <td>0.576</td>\n",
       "      <td>0.039</td>\n",
       "      <td>0.576</td>\n",
       "      <td>0.039</td>\n",
       "      <td>0.497</td>\n",
       "      <td>0.026</td>\n",
       "    </tr>\n",
       "    <tr>\n",
       "      <th>1</th>\n",
       "      <td>xgboost Cross_Val</td>\n",
       "      <td>0.451</td>\n",
       "      <td>0.033</td>\n",
       "      <td>0.588</td>\n",
       "      <td>0.044</td>\n",
       "      <td>0.588</td>\n",
       "      <td>0.044</td>\n",
       "      <td>0.503</td>\n",
       "      <td>0.037</td>\n",
       "    </tr>\n",
       "    <tr>\n",
       "      <th>2</th>\n",
       "      <td>xgboost Cross_Val</td>\n",
       "      <td>0.436</td>\n",
       "      <td>0.019</td>\n",
       "      <td>0.589</td>\n",
       "      <td>0.031</td>\n",
       "      <td>0.589</td>\n",
       "      <td>0.031</td>\n",
       "      <td>0.491</td>\n",
       "      <td>0.021</td>\n",
       "    </tr>\n",
       "    <tr>\n",
       "      <th>3</th>\n",
       "      <td>xgboost Cross_Val</td>\n",
       "      <td>0.439</td>\n",
       "      <td>0.035</td>\n",
       "      <td>0.598</td>\n",
       "      <td>0.043</td>\n",
       "      <td>0.598</td>\n",
       "      <td>0.043</td>\n",
       "      <td>0.497</td>\n",
       "      <td>0.037</td>\n",
       "    </tr>\n",
       "    <tr>\n",
       "      <th>4</th>\n",
       "      <td>xgboost Cross_Val</td>\n",
       "      <td>0.420</td>\n",
       "      <td>0.030</td>\n",
       "      <td>0.603</td>\n",
       "      <td>0.038</td>\n",
       "      <td>0.603</td>\n",
       "      <td>0.038</td>\n",
       "      <td>0.481</td>\n",
       "      <td>0.032</td>\n",
       "    </tr>\n",
       "    <tr>\n",
       "      <th>5</th>\n",
       "      <td>xgboost Cross_Val</td>\n",
       "      <td>0.396</td>\n",
       "      <td>0.025</td>\n",
       "      <td>0.634</td>\n",
       "      <td>0.044</td>\n",
       "      <td>0.634</td>\n",
       "      <td>0.044</td>\n",
       "      <td>0.466</td>\n",
       "      <td>0.029</td>\n",
       "    </tr>\n",
       "  </tbody>\n",
       "</table>\n",
       "</div>"
      ],
      "text/plain": [
       "          Model name  precison_multclass_cv  precison_std  \\\n",
       "0  xgboost Cross_Val                  0.448         0.022   \n",
       "1  xgboost Cross_Val                  0.451         0.033   \n",
       "2  xgboost Cross_Val                  0.436         0.019   \n",
       "3  xgboost Cross_Val                  0.439         0.035   \n",
       "4  xgboost Cross_Val                  0.420         0.030   \n",
       "5  xgboost Cross_Val                  0.396         0.025   \n",
       "\n",
       "   recall_multclass_cv  recall_cv  balanced_score_cv  balanced_std  \\\n",
       "0                0.576      0.039              0.576         0.039   \n",
       "1                0.588      0.044              0.588         0.044   \n",
       "2                0.589      0.031              0.589         0.031   \n",
       "3                0.598      0.043              0.598         0.043   \n",
       "4                0.603      0.038              0.603         0.038   \n",
       "5                0.634      0.044              0.634         0.044   \n",
       "\n",
       "   f1_score_cv  f1_std  \n",
       "0        0.497   0.026  \n",
       "1        0.503   0.037  \n",
       "2        0.491   0.021  \n",
       "3        0.497   0.037  \n",
       "4        0.481   0.032  \n",
       "5        0.466   0.029  "
      ]
     },
     "execution_count": 48,
     "metadata": {},
     "output_type": "execute_result"
    }
   ],
   "source": [
    "aux_df"
   ]
  },
  {
   "cell_type": "code",
   "execution_count": 22,
   "id": "abab432e",
   "metadata": {
    "ExecuteTime": {
     "end_time": "2023-02-06T14:42:05.374652Z",
     "start_time": "2023-02-06T14:42:03.164217Z"
    },
    "scrolled": false
   },
   "outputs": [
    {
     "data": {
      "text/html": [
       "<div>\n",
       "<style scoped>\n",
       "    .dataframe tbody tr th:only-of-type {\n",
       "        vertical-align: middle;\n",
       "    }\n",
       "\n",
       "    .dataframe tbody tr th {\n",
       "        vertical-align: top;\n",
       "    }\n",
       "\n",
       "    .dataframe thead th {\n",
       "        text-align: right;\n",
       "    }\n",
       "</style>\n",
       "<table border=\"1\" class=\"dataframe\">\n",
       "  <thead>\n",
       "    <tr style=\"text-align: right;\">\n",
       "      <th></th>\n",
       "      <th>mode_name</th>\n",
       "      <th>precison_multclass</th>\n",
       "      <th>recall_multclass</th>\n",
       "      <th>f1-score_multclass</th>\n",
       "      <th>balanced_score</th>\n",
       "    </tr>\n",
       "  </thead>\n",
       "  <tbody>\n",
       "    <tr>\n",
       "      <th>0</th>\n",
       "      <td>xgboost</td>\n",
       "      <td>0.52194</td>\n",
       "      <td>0.581552</td>\n",
       "      <td>0.547671</td>\n",
       "      <td>0.581552</td>\n",
       "    </tr>\n",
       "  </tbody>\n",
       "</table>\n",
       "</div>"
      ],
      "text/plain": [
       "  mode_name  precison_multclass  recall_multclass  f1-score_multclass  \\\n",
       "0   xgboost             0.52194          0.581552            0.547671   \n",
       "\n",
       "   balanced_score  \n",
       "0        0.581552  "
      ]
     },
     "execution_count": 22,
     "metadata": {},
     "output_type": "execute_result"
    }
   ],
   "source": [
    "# #model\n",
    "# xgb_model = xgb.XGBClassifier(n_estimators=300,seed=42).fit(X_train,y_train,sample_weight=sample_weights)\n",
    "\n",
    "# #predict\n",
    "# yhat_xgb = xgb_model.predict(X_val)\n",
    "\n",
    "# #metrics\n",
    "# xgb_metrics = mult_metrics('xgboost',y_val,yhat_xgb)\n",
    "# xgb_metrics"
   ]
  },
  {
   "cell_type": "markdown",
   "id": "d3fbfda4",
   "metadata": {},
   "source": [
    "## lightgbm"
   ]
  },
  {
   "cell_type": "code",
   "execution_count": 23,
   "id": "c26a03c5",
   "metadata": {
    "ExecuteTime": {
     "end_time": "2023-02-06T14:42:06.945338Z",
     "start_time": "2023-02-06T14:42:05.378655Z"
    },
    "scrolled": true
   },
   "outputs": [
    {
     "data": {
      "text/html": [
       "<div>\n",
       "<style scoped>\n",
       "    .dataframe tbody tr th:only-of-type {\n",
       "        vertical-align: middle;\n",
       "    }\n",
       "\n",
       "    .dataframe tbody tr th {\n",
       "        vertical-align: top;\n",
       "    }\n",
       "\n",
       "    .dataframe thead th {\n",
       "        text-align: right;\n",
       "    }\n",
       "</style>\n",
       "<table border=\"1\" class=\"dataframe\">\n",
       "  <thead>\n",
       "    <tr style=\"text-align: right;\">\n",
       "      <th></th>\n",
       "      <th>mode_name</th>\n",
       "      <th>precison_multclass</th>\n",
       "      <th>recall_multclass</th>\n",
       "      <th>f1-score_multclass</th>\n",
       "      <th>balanced_score</th>\n",
       "    </tr>\n",
       "  </thead>\n",
       "  <tbody>\n",
       "    <tr>\n",
       "      <th>0</th>\n",
       "      <td>light</td>\n",
       "      <td>0.544234</td>\n",
       "      <td>0.521123</td>\n",
       "      <td>0.531485</td>\n",
       "      <td>0.521123</td>\n",
       "    </tr>\n",
       "  </tbody>\n",
       "</table>\n",
       "</div>"
      ],
      "text/plain": [
       "  mode_name  precison_multclass  recall_multclass  f1-score_multclass  \\\n",
       "0     light            0.544234          0.521123            0.531485   \n",
       "\n",
       "   balanced_score  \n",
       "0        0.521123  "
      ]
     },
     "execution_count": 23,
     "metadata": {},
     "output_type": "execute_result"
    }
   ],
   "source": [
    "# #model\n",
    "# lgb_model = lgb.LGBMClassifier(n_estimators=300,seed=42).fit(X_train,y_train,sample_weight=sample_weights)\n",
    "\n",
    "# #predict\n",
    "# yhat_lgb = lgb_model.predict(X_val)\n",
    "\n",
    "# #metrics\n",
    "# lgb_metrics = mult_metrics('light',y_val,yhat_lgb)\n",
    "# lgb_metrics"
   ]
  },
  {
   "cell_type": "markdown",
   "id": "854646bc",
   "metadata": {},
   "source": [
    "# Balanced comparison"
   ]
  },
  {
   "cell_type": "code",
   "execution_count": 24,
   "id": "0b6d5eac",
   "metadata": {
    "ExecuteTime": {
     "end_time": "2023-02-06T14:42:06.961337Z",
     "start_time": "2023-02-06T14:42:06.949337Z"
    }
   },
   "outputs": [],
   "source": [
    "# model_comp = pd.concat([lr_metrics,rf_metrics,et_metrics,xgb_metrics,lgb_metrics,brf_metrics])"
   ]
  },
  {
   "cell_type": "code",
   "execution_count": 25,
   "id": "139ebb78",
   "metadata": {
    "ExecuteTime": {
     "end_time": "2023-02-06T14:42:06.977336Z",
     "start_time": "2023-02-06T14:42:06.965335Z"
    }
   },
   "outputs": [],
   "source": [
    "# model_comp.sort_values(by='recall_multclass',ascending=False)"
   ]
  },
  {
   "cell_type": "markdown",
   "id": "b0ec3140",
   "metadata": {},
   "source": [
    "## cross validation"
   ]
  },
  {
   "cell_type": "code",
   "execution_count": 26,
   "id": "eb6f01be",
   "metadata": {
    "ExecuteTime": {
     "end_time": "2023-02-06T14:42:06.993343Z",
     "start_time": "2023-02-06T14:42:06.981338Z"
    }
   },
   "outputs": [],
   "source": [
    "# models = {\n",
    "#     'XGBoost':xgb_model,\n",
    "#     'Lightgbm':lgb_model\n",
    "# }"
   ]
  },
  {
   "cell_type": "code",
   "execution_count": 27,
   "id": "7b8a7d97",
   "metadata": {
    "ExecuteTime": {
     "end_time": "2023-02-06T14:42:17.219186Z",
     "start_time": "2023-02-06T14:42:06.997335Z"
    }
   },
   "outputs": [],
   "source": [
    "# models_comparison = pd.DataFrame()\n",
    "# for c, v in models.items():\n",
    "#     aux = performace_cross_val_boost(df4,'failure_type',v,c)\n",
    "#     models_comparison = pd.concat([models_comparison,aux])"
   ]
  },
  {
   "cell_type": "code",
   "execution_count": 28,
   "id": "eb150786",
   "metadata": {
    "ExecuteTime": {
     "end_time": "2023-02-06T14:42:17.263193Z",
     "start_time": "2023-02-06T14:42:17.231190Z"
    }
   },
   "outputs": [
    {
     "data": {
      "text/html": [
       "<div>\n",
       "<style scoped>\n",
       "    .dataframe tbody tr th:only-of-type {\n",
       "        vertical-align: middle;\n",
       "    }\n",
       "\n",
       "    .dataframe tbody tr th {\n",
       "        vertical-align: top;\n",
       "    }\n",
       "\n",
       "    .dataframe thead th {\n",
       "        text-align: right;\n",
       "    }\n",
       "</style>\n",
       "<table border=\"1\" class=\"dataframe\">\n",
       "  <thead>\n",
       "    <tr style=\"text-align: right;\">\n",
       "      <th></th>\n",
       "      <th>Model name</th>\n",
       "      <th>precison_multclass_cv</th>\n",
       "      <th>precison_std</th>\n",
       "      <th>recall_multclass_cv</th>\n",
       "      <th>recall_cv</th>\n",
       "      <th>balanced_score_cv</th>\n",
       "      <th>balanced_std</th>\n",
       "      <th>f1_score_cv</th>\n",
       "      <th>f1_std</th>\n",
       "    </tr>\n",
       "  </thead>\n",
       "  <tbody>\n",
       "    <tr>\n",
       "      <th>0</th>\n",
       "      <td>XGBoost Cross_Val</td>\n",
       "      <td>0.536</td>\n",
       "      <td>0.030</td>\n",
       "      <td>0.566</td>\n",
       "      <td>0.010</td>\n",
       "      <td>0.566</td>\n",
       "      <td>0.010</td>\n",
       "      <td>0.547</td>\n",
       "      <td>0.018</td>\n",
       "    </tr>\n",
       "    <tr>\n",
       "      <th>0</th>\n",
       "      <td>Lightgbm Cross_Val</td>\n",
       "      <td>0.566</td>\n",
       "      <td>0.034</td>\n",
       "      <td>0.545</td>\n",
       "      <td>0.019</td>\n",
       "      <td>0.545</td>\n",
       "      <td>0.019</td>\n",
       "      <td>0.552</td>\n",
       "      <td>0.029</td>\n",
       "    </tr>\n",
       "  </tbody>\n",
       "</table>\n",
       "</div>"
      ],
      "text/plain": [
       "           Model name  precison_multclass_cv  precison_std  \\\n",
       "0   XGBoost Cross_Val                  0.536         0.030   \n",
       "0  Lightgbm Cross_Val                  0.566         0.034   \n",
       "\n",
       "   recall_multclass_cv  recall_cv  balanced_score_cv  balanced_std  \\\n",
       "0                0.566      0.010              0.566         0.010   \n",
       "0                0.545      0.019              0.545         0.019   \n",
       "\n",
       "   f1_score_cv  f1_std  \n",
       "0        0.547   0.018  \n",
       "0        0.552   0.029  "
      ]
     },
     "execution_count": 28,
     "metadata": {},
     "output_type": "execute_result"
    }
   ],
   "source": [
    "#models_comparison.sort_values(by='recall_multclass_cv',ascending=False)"
   ]
  }
 ],
 "metadata": {
  "kernelspec": {
   "display_name": "Python 3 (ipykernel)",
   "language": "python",
   "name": "python3"
  },
  "language_info": {
   "codemirror_mode": {
    "name": "ipython",
    "version": 3
   },
   "file_extension": ".py",
   "mimetype": "text/x-python",
   "name": "python",
   "nbconvert_exporter": "python",
   "pygments_lexer": "ipython3",
   "version": "3.8.16"
  }
 },
 "nbformat": 4,
 "nbformat_minor": 5
}
