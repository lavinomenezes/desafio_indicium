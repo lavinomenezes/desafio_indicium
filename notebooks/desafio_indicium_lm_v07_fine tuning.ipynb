{
 "cells": [
  {
   "cell_type": "markdown",
   "id": "ec459904",
   "metadata": {
    "heading_collapsed": true
   },
   "source": [
    "# imports"
   ]
  },
  {
   "cell_type": "code",
   "execution_count": 37,
   "id": "ce23a0a5",
   "metadata": {
    "ExecuteTime": {
     "end_time": "2023-02-07T01:46:20.046498Z",
     "start_time": "2023-02-07T01:46:20.016326Z"
    },
    "hidden": true
   },
   "outputs": [],
   "source": [
    "#manipulação de dados\n",
    "import pandas as pd\n",
    "import numpy  as np\n",
    "\n",
    "#visualização\n",
    "import matplotlib.pyplot as plt\n",
    "import seaborn           as sns\n",
    "from IPython.core.display import HTML\n",
    "from IPython.display      import Image\n",
    "\n",
    "# processamento de dados\n",
    "from sklearn.model_selection import train_test_split\n",
    "from sklearn.utils import class_weight\n",
    "\n",
    "#machine learning models\n",
    "import xgboost as xgb\n",
    "\n",
    "#metricas\n",
    "from sklearn.metrics import accuracy_score, balanced_accuracy_score,precision_score,recall_score,roc_auc_score, confusion_matrix,f1_score"
   ]
  },
  {
   "cell_type": "markdown",
   "id": "11a50ae4",
   "metadata": {
    "heading_collapsed": true,
    "hidden": true
   },
   "source": [
    "## Helper functions "
   ]
  },
  {
   "cell_type": "code",
   "execution_count": 38,
   "id": "d5de0534",
   "metadata": {
    "ExecuteTime": {
     "end_time": "2023-02-07T01:46:20.081525Z",
     "start_time": "2023-02-07T01:46:20.046498Z"
    },
    "hidden": true
   },
   "outputs": [
    {
     "name": "stdout",
     "output_type": "stream",
     "text": [
      "%pylab is deprecated, use %matplotlib inline and import the required libraries.\n",
      "Populating the interactive namespace from numpy and matplotlib\n"
     ]
    },
    {
     "data": {
      "text/html": [
       "<style>.container { width:100% !important; }</style>"
      ],
      "text/plain": [
       "<IPython.core.display.HTML object>"
      ]
     },
     "metadata": {},
     "output_type": "display_data"
    }
   ],
   "source": [
    "def jupyter_settings():\n",
    "    %matplotlib inline\n",
    "    %pylab inline\n",
    "    plt.style.use( 'bmh' )\n",
    "    plt.rcParams['figure.figsize'] = [25, 12]\n",
    "    plt.rcParams['font.size'] = 24\n",
    "    display( HTML( '<style>.container { width:100% !important; }</style>') )\n",
    "    sns.set()\n",
    "jupyter_settings()"
   ]
  },
  {
   "cell_type": "code",
   "execution_count": 39,
   "id": "c99dde21",
   "metadata": {
    "ExecuteTime": {
     "end_time": "2023-02-07T01:46:20.101622Z",
     "start_time": "2023-02-07T01:46:20.081525Z"
    },
    "hidden": true
   },
   "outputs": [],
   "source": [
    "def mult_metrics(model_name,y,yhat):\n",
    "    return pd.DataFrame({'mode_name':model_name,\n",
    "             'precison_multclass':precision_score(y,yhat,average='macro'),\n",
    "             'recall_multclass':recall_score(y,yhat,average='macro'),\n",
    "              'f1-score_multclass':f1_score(y,yhat,average='macro'),\n",
    "             'balanced_score':balanced_accuracy_score(y,yhat)},index=[0])\n",
    "    "
   ]
  },
  {
   "cell_type": "code",
   "execution_count": 40,
   "id": "44eb5810",
   "metadata": {
    "ExecuteTime": {
     "end_time": "2023-02-07T01:46:20.121234Z",
     "start_time": "2023-02-07T01:46:20.106669Z"
    },
    "hidden": true
   },
   "outputs": [],
   "source": [
    "def confusion_m(y,yhat):\n",
    "    from sklearn.metrics import confusion_matrix\n",
    "    ax= plt.subplot()\n",
    "    cm = confusion_matrix(y,yhat)\n",
    "    sns.heatmap(cm,annot=True,ax=ax,annot_kws={'size': 20})\n",
    "    ax.set_xlabel('Predicted labels');ax.set_ylabel('True labels'); \n",
    "    ax.set_title('Confusion Matrix'); \n",
    "    ax.xaxis.set_ticklabels(['Heat Dissipation Failure', 'No Failure','Overstrain Failure','Power Failure','Random Failures','Tool Wear Failure']); ax.yaxis.set_ticklabels(['Heat Dissipation Failure', 'No Failure','Overstrain Failure','Power Failure','Random Failures','Tool Wear Failure']);\n",
    "    plt.yticks(rotation=0) ;"
   ]
  },
  {
   "cell_type": "code",
   "execution_count": 41,
   "id": "0dc1298d",
   "metadata": {
    "ExecuteTime": {
     "end_time": "2023-02-07T01:46:20.152811Z",
     "start_time": "2023-02-07T01:46:20.125812Z"
    },
    "hidden": true
   },
   "outputs": [],
   "source": [
    "def performace_cross_val(data, target, model, model_name, round_n=3, splits=3, shuffle_n=True, random=42):\n",
    "    import sklearn.model_selection as ms\n",
    "    import sklearn.metrics\n",
    "    import numpy as np\n",
    "    skf = ms.StratifiedKFold(n_splits=splits, shuffle=shuffle_n, random_state=random)\n",
    "    X = data\n",
    "    y = X[target]\n",
    "    X = X.drop(columns=[target, 'product_id'])\n",
    "    precision = []\n",
    "    recall = []\n",
    "    balan_acc = []\n",
    "    f1 = []\n",
    "    for train_index, test_index in skf.split(X, y):\n",
    "        # train the model\n",
    "        model.fit(X.iloc[train_index], y.iloc[train_index])\n",
    "\n",
    "        # predict the classification\n",
    "        yhat_class = model.predict(X.iloc[test_index])\n",
    "\n",
    "        # precision and recall\n",
    "        prec = sklearn.metrics.precision_score(y.iloc[test_index], yhat_class,average='macro')\n",
    "        rec = sklearn.metrics.recall_score(y.iloc[test_index], yhat_class,average='macro')\n",
    "        balan_acc_score = sklearn.metrics.balanced_accuracy_score(y.iloc[test_index], yhat_class)\n",
    "        f1_score = sklearn.metrics.f1_score(y.iloc[test_index], yhat_class,average='macro')\n",
    "        precision.append(prec)\n",
    "        recall.append(rec)\n",
    "        balan_acc.append(balan_acc_score)\n",
    "        f1.append(f1_score)\n",
    "\n",
    "    # return a dataset with the metrics\n",
    "    return pd.DataFrame({'Model name': model_name + \" Cross_Val\",\n",
    "                         'precison_multclass_cv': np.round(np.mean(precision), round_n),\n",
    "                         'precison_std': np.round(np.std(precision), round_n),\n",
    "                         'recall_multclass_cv': np.round(np.mean(recall), round_n),\n",
    "                         'recall_cv': np.round(np.std(recall), round_n),\n",
    "                         'balanced_score_cv': np.round(np.mean(balan_acc), round_n),\n",
    "                         'balanced_std': np.round(np.std(balan_acc), round_n),\n",
    "                         'f1_score_cv': np.round(np.mean(f1), round_n),\n",
    "                         'f1_std': np.round(np.std(f1), round_n)},index=[0])\n"
   ]
  },
  {
   "cell_type": "code",
   "execution_count": 42,
   "id": "15954628",
   "metadata": {
    "ExecuteTime": {
     "end_time": "2023-02-07T01:46:20.191576Z",
     "start_time": "2023-02-07T01:46:20.156435Z"
    },
    "hidden": true
   },
   "outputs": [],
   "source": [
    "def performace_cross_val_boost(data, target, model, model_name, round_n=3, splits=3, shuffle_n=True, random=42):\n",
    "    import sklearn.model_selection as ms\n",
    "    import sklearn.metrics\n",
    "    import numpy as np\n",
    "    skf = ms.StratifiedKFold(n_splits=splits, shuffle=shuffle_n, random_state=random)\n",
    "    X = data\n",
    "    y = X[target]\n",
    "    X = X.drop(columns=[target, 'product_id'])\n",
    "    precision = []\n",
    "    recall = []\n",
    "    balan_acc = []\n",
    "    f1 = []\n",
    "    for train_index, test_index in skf.split(X, y):\n",
    "        # train the model\n",
    "        weight = class_weight.compute_sample_weight(class_weight='balanced',y=y.iloc[train_index])\n",
    "        model.fit(X.iloc[train_index], y.iloc[train_index],sample_weight=weight)\n",
    "\n",
    "        # predict the classification\n",
    "        yhat_class = model.predict(X.iloc[test_index])\n",
    "\n",
    "        # precision and recall\n",
    "        prec = sklearn.metrics.precision_score(y.iloc[test_index], yhat_class,average='macro')\n",
    "        rec = sklearn.metrics.recall_score(y.iloc[test_index], yhat_class,average='macro')\n",
    "        balan_acc_score = sklearn.metrics.balanced_accuracy_score(y.iloc[test_index], yhat_class)\n",
    "        f1_score = sklearn.metrics.f1_score(y.iloc[test_index], yhat_class,average='macro')\n",
    "        precision.append(prec)\n",
    "        recall.append(rec)\n",
    "        balan_acc.append(balan_acc_score)\n",
    "        f1.append(f1_score)\n",
    "\n",
    "    # return a dataset with the metrics\n",
    "    return pd.DataFrame({'Model name': model_name + \" Cross_Val\",\n",
    "                         'precison_multclass_cv': np.round(np.mean(precision), round_n),\n",
    "                         'precison_std': np.round(np.std(precision), round_n),\n",
    "                         'recall_multclass_cv': np.round(np.mean(recall), round_n),\n",
    "                         'recall_cv': np.round(np.std(recall), round_n),\n",
    "                         'balanced_score_cv': np.round(np.mean(balan_acc), round_n),\n",
    "                         'balanced_std': np.round(np.std(balan_acc), round_n),\n",
    "                         'f1_score_cv': np.round(np.mean(f1), round_n),\n",
    "                         'f1_std': np.round(np.std(f1), round_n)},index=[0])"
   ]
  },
  {
   "cell_type": "markdown",
   "id": "ac8a74dc",
   "metadata": {
    "heading_collapsed": true
   },
   "source": [
    "# Load data"
   ]
  },
  {
   "cell_type": "code",
   "execution_count": 43,
   "id": "e762f6a7",
   "metadata": {
    "ExecuteTime": {
     "end_time": "2023-02-07T01:46:20.231309Z",
     "start_time": "2023-02-07T01:46:20.196666Z"
    },
    "hidden": true
   },
   "outputs": [],
   "source": [
    "path_local = 'C:/Users/Lavin/Documents/desafios/desafio_indicium/'\n",
    "df4 = pd.read_csv(path_local + 'data/processed/df_train_processed.csv')"
   ]
  },
  {
   "cell_type": "code",
   "execution_count": 44,
   "id": "5261bffe",
   "metadata": {
    "ExecuteTime": {
     "end_time": "2023-02-07T01:46:20.271523Z",
     "start_time": "2023-02-07T01:46:20.231841Z"
    },
    "hidden": true,
    "scrolled": true
   },
   "outputs": [
    {
     "data": {
      "text/html": [
       "<div>\n",
       "<style scoped>\n",
       "    .dataframe tbody tr th:only-of-type {\n",
       "        vertical-align: middle;\n",
       "    }\n",
       "\n",
       "    .dataframe tbody tr th {\n",
       "        vertical-align: top;\n",
       "    }\n",
       "\n",
       "    .dataframe thead th {\n",
       "        text-align: right;\n",
       "    }\n",
       "</style>\n",
       "<table border=\"1\" class=\"dataframe\">\n",
       "  <thead>\n",
       "    <tr style=\"text-align: right;\">\n",
       "      <th></th>\n",
       "      <th>product_id</th>\n",
       "      <th>air_temperature_k</th>\n",
       "      <th>process_temperature_k</th>\n",
       "      <th>rotational_speed_rpm</th>\n",
       "      <th>torque_nm</th>\n",
       "      <th>tool_wear_min</th>\n",
       "      <th>power_w</th>\n",
       "      <th>failure_type</th>\n",
       "    </tr>\n",
       "  </thead>\n",
       "  <tbody>\n",
       "    <tr>\n",
       "      <th>0</th>\n",
       "      <td>M14860</td>\n",
       "      <td>0.304348</td>\n",
       "      <td>0.358025</td>\n",
       "      <td>0.253298</td>\n",
       "      <td>0.191176</td>\n",
       "      <td>-1.000000</td>\n",
       "      <td>0.469475</td>\n",
       "      <td>1</td>\n",
       "    </tr>\n",
       "    <tr>\n",
       "      <th>1</th>\n",
       "      <td>L47181</td>\n",
       "      <td>0.315217</td>\n",
       "      <td>0.370370</td>\n",
       "      <td>-0.501319</td>\n",
       "      <td>0.448529</td>\n",
       "      <td>-0.972222</td>\n",
       "      <td>0.382571</td>\n",
       "      <td>1</td>\n",
       "    </tr>\n",
       "    <tr>\n",
       "      <th>2</th>\n",
       "      <td>L47184</td>\n",
       "      <td>0.315217</td>\n",
       "      <td>0.370370</td>\n",
       "      <td>-0.501319</td>\n",
       "      <td>-0.014706</td>\n",
       "      <td>-0.916667</td>\n",
       "      <td>-0.263920</td>\n",
       "      <td>1</td>\n",
       "    </tr>\n",
       "    <tr>\n",
       "      <th>3</th>\n",
       "      <td>M14865</td>\n",
       "      <td>0.304348</td>\n",
       "      <td>0.358025</td>\n",
       "      <td>-0.411609</td>\n",
       "      <td>0.125000</td>\n",
       "      <td>-0.898148</td>\n",
       "      <td>-0.017032</td>\n",
       "      <td>1</td>\n",
       "    </tr>\n",
       "    <tr>\n",
       "      <th>4</th>\n",
       "      <td>L47186</td>\n",
       "      <td>0.304348</td>\n",
       "      <td>0.358025</td>\n",
       "      <td>0.290237</td>\n",
       "      <td>0.161765</td>\n",
       "      <td>-0.870370</td>\n",
       "      <td>0.445891</td>\n",
       "      <td>1</td>\n",
       "    </tr>\n",
       "  </tbody>\n",
       "</table>\n",
       "</div>"
      ],
      "text/plain": [
       "  product_id  air_temperature_k  process_temperature_k  rotational_speed_rpm  \\\n",
       "0     M14860           0.304348               0.358025              0.253298   \n",
       "1     L47181           0.315217               0.370370             -0.501319   \n",
       "2     L47184           0.315217               0.370370             -0.501319   \n",
       "3     M14865           0.304348               0.358025             -0.411609   \n",
       "4     L47186           0.304348               0.358025              0.290237   \n",
       "\n",
       "   torque_nm  tool_wear_min   power_w  failure_type  \n",
       "0   0.191176      -1.000000  0.469475             1  \n",
       "1   0.448529      -0.972222  0.382571             1  \n",
       "2  -0.014706      -0.916667 -0.263920             1  \n",
       "3   0.125000      -0.898148 -0.017032             1  \n",
       "4   0.161765      -0.870370  0.445891             1  "
      ]
     },
     "execution_count": 44,
     "metadata": {},
     "output_type": "execute_result"
    }
   ],
   "source": [
    "df4.head()"
   ]
  },
  {
   "cell_type": "markdown",
   "id": "e009ab6e",
   "metadata": {
    "hidden": true
   },
   "source": [
    "## Split dataframe"
   ]
  },
  {
   "cell_type": "code",
   "execution_count": 45,
   "id": "ebc1691c",
   "metadata": {
    "ExecuteTime": {
     "end_time": "2023-02-07T01:46:20.291142Z",
     "start_time": "2023-02-07T01:46:20.276581Z"
    },
    "hidden": true
   },
   "outputs": [],
   "source": [
    "X = df4.copy()\n",
    "y = X['failure_type']\n",
    "X = X.drop(columns=['failure_type','product_id'])"
   ]
  },
  {
   "cell_type": "code",
   "execution_count": 46,
   "id": "272f6970",
   "metadata": {
    "ExecuteTime": {
     "end_time": "2023-02-07T01:46:20.331875Z",
     "start_time": "2023-02-07T01:46:20.301186Z"
    },
    "hidden": true
   },
   "outputs": [],
   "source": [
    "X_train, X_val, y_train, y_val = train_test_split(X, y, test_size=0.3, random_state=42,stratify=y)"
   ]
  },
  {
   "cell_type": "code",
   "execution_count": 47,
   "id": "3d8b72e3",
   "metadata": {
    "ExecuteTime": {
     "end_time": "2023-02-07T01:46:20.366106Z",
     "start_time": "2023-02-07T01:46:20.336416Z"
    },
    "hidden": true
   },
   "outputs": [
    {
     "data": {
      "text/plain": [
       "(4666, 6)"
      ]
     },
     "execution_count": 47,
     "metadata": {},
     "output_type": "execute_result"
    }
   ],
   "source": [
    "X_train.shape"
   ]
  },
  {
   "cell_type": "code",
   "execution_count": 48,
   "id": "c25debf7",
   "metadata": {
    "ExecuteTime": {
     "end_time": "2023-02-07T01:46:20.386225Z",
     "start_time": "2023-02-07T01:46:20.376149Z"
    },
    "hidden": true
   },
   "outputs": [
    {
     "data": {
      "text/plain": [
       "(2001, 6)"
      ]
     },
     "execution_count": 48,
     "metadata": {},
     "output_type": "execute_result"
    }
   ],
   "source": [
    "X_val.shape"
   ]
  },
  {
   "cell_type": "markdown",
   "id": "6d2202e3",
   "metadata": {},
   "source": [
    "# Fine tuning"
   ]
  },
  {
   "cell_type": "code",
   "execution_count": 49,
   "id": "8ce2c4f0",
   "metadata": {
    "ExecuteTime": {
     "end_time": "2023-02-07T01:46:20.406321Z",
     "start_time": "2023-02-07T01:46:20.386225Z"
    }
   },
   "outputs": [],
   "source": [
    "from hyperopt import tpe, Trials, hp, fmin, STATUS_OK\n",
    "\n",
    "import warnings\n",
    "warnings.filterwarnings('ignore')"
   ]
  },
  {
   "cell_type": "code",
   "execution_count": 50,
   "id": "a0b7fafe",
   "metadata": {
    "ExecuteTime": {
     "end_time": "2023-02-07T01:46:20.426432Z",
     "start_time": "2023-02-07T01:46:20.406321Z"
    }
   },
   "outputs": [],
   "source": [
    "# space={'n_estimators': hp.choice('n_estimators',np.arange(300,1000+1,250)),\n",
    "#       'max_depth': hp.quniform(\"max_depth\", 3, 10, 1),\n",
    "#       'colsample_bytree' : hp.uniform('colsample_bytree', 0.5,1),\n",
    "#       'min_child_weight' : hp.quniform('min_child_weight', 0, 12, 1),\n",
    "#       'seed': 42\n",
    "#     }"
   ]
  },
  {
   "cell_type": "code",
   "execution_count": 51,
   "id": "f482e3eb",
   "metadata": {
    "ExecuteTime": {
     "end_time": "2023-02-07T01:46:20.446098Z",
     "start_time": "2023-02-07T01:46:20.426432Z"
    }
   },
   "outputs": [],
   "source": [
    "# def objective_function(space):\n",
    "#     xgb_model = xgb.XGBClassifier(n_estimators =int(space['n_estimators']),\n",
    "#                                   max_depth = int(space['max_depth']), \n",
    "#                                   min_child_weight=int(space['min_child_weight']),\n",
    "#                                   colsample_bytree=int(space['colsample_bytree']),\n",
    "#                                   seed = space['seed'])      \n",
    "#     score = performace_cross_val_boost(df4,'failure_type',xgb_model,'xgb_model',round_n=3,splits=3)\n",
    "#     print(space)\n",
    "#     print('f1-score:',score['f1_score_cv'][0],'recall:',score['recall_multclass_cv'][0],'precision:',score['precison_multclass_cv'][0])\n",
    "#     return {'loss': -score['recall_multclass_cv'][0],'status':STATUS_OK}"
   ]
  },
  {
   "cell_type": "code",
   "execution_count": 52,
   "id": "ab8f6a2d",
   "metadata": {
    "ExecuteTime": {
     "end_time": "2023-02-07T01:46:20.466225Z",
     "start_time": "2023-02-07T01:46:20.451108Z"
    }
   },
   "outputs": [],
   "source": [
    "# tpe_algorithm = tpe.suggest\n",
    "# trials = Trials()\n",
    "# num_eval = 100"
   ]
  },
  {
   "cell_type": "code",
   "execution_count": 53,
   "id": "46dbb50b",
   "metadata": {
    "ExecuteTime": {
     "end_time": "2023-02-07T01:46:20.486366Z",
     "start_time": "2023-02-07T01:46:20.466225Z"
    },
    "scrolled": true
   },
   "outputs": [],
   "source": [
    "#best_paramns = fmin(fn=objective_function,space=space,algo=tpe_algorithm,max_evals=num_eval,trials=trials)"
   ]
  },
  {
   "cell_type": "code",
   "execution_count": 54,
   "id": "8ca96b96",
   "metadata": {
    "ExecuteTime": {
     "end_time": "2023-02-07T01:46:20.501431Z",
     "start_time": "2023-02-07T01:46:20.486366Z"
    },
    "scrolled": true
   },
   "outputs": [],
   "source": [
    "# best_paramns"
   ]
  },
  {
   "cell_type": "code",
   "execution_count": 57,
   "id": "94ae2762",
   "metadata": {
    "ExecuteTime": {
     "end_time": "2023-02-07T01:46:20.556320Z",
     "start_time": "2023-02-07T01:46:20.546179Z"
    }
   },
   "outputs": [],
   "source": [
    "# best_paramns = [{'colsample_bytree': 0.8774451839157555, 'max_depth': 4.0, 'min_child_weight': 2.0, 'n_estimators': 550, 'seed': 42},                                                                \n",
    "# {'colsample_bytree': 0.8645721620898453, 'max_depth': 3.0, 'min_child_weight': 0.0, 'n_estimators': 550, 'seed': 42}, \n",
    "# {'colsample_bytree': 0.9702875370053183, 'max_depth': 3.0, 'min_child_weight': 7.0, 'n_estimators': 550, 'seed': 42},\n",
    "# {'colsample_bytree': 0.5611699511926991, 'max_depth': 4.0, 'min_child_weight': 3.0, 'n_estimators': 550, 'seed': 42},\n",
    "# {'colsample_bytree': 0.7336051564716887, 'max_depth': 3.0, 'min_child_weight': 5.0, 'n_estimators': 300, 'seed': 42}]"
   ]
  },
  {
   "cell_type": "code",
   "execution_count": 83,
   "id": "d1b6faaf",
   "metadata": {
    "ExecuteTime": {
     "end_time": "2023-02-07T01:58:59.609137Z",
     "start_time": "2023-02-07T01:58:59.593557Z"
    }
   },
   "outputs": [],
   "source": [
    "best_paramns = [{'colsample_bytree': 0.8774451839157555, 'max_depth': 4.0, 'min_child_weight': 2.0, 'n_estimators': 550, 'seed': 42},                                                                \n",
    "{'colsample_bytree': 0.8645721620898453, 'max_depth': 3.0, 'min_child_weight': 0.0, 'n_estimators': 550, 'seed': 42}, \n",
    "{'colsample_bytree': 0.9702875370053183, 'max_depth': 3.0, 'min_child_weight': 7.0, 'n_estimators': 550, 'seed': 42},\n",
    "{'colsample_bytree': 0.5611699511926991, 'max_depth': 4.0, 'min_child_weight': 3.0, 'n_estimators': 550, 'seed': 42},\n",
    "{'colsample_bytree': 0.7336051564716887, 'max_depth': 3.0, 'min_child_weight': 5.0, 'n_estimators': 300, 'seed': 42}]"
   ]
  },
  {
   "cell_type": "markdown",
   "id": "9c032a40",
   "metadata": {},
   "source": [
    "## XGboost"
   ]
  },
  {
   "cell_type": "code",
   "execution_count": 59,
   "id": "f3e58b37",
   "metadata": {
    "ExecuteTime": {
     "end_time": "2023-02-07T01:48:13.832784Z",
     "start_time": "2023-02-07T01:46:20.581481Z"
    }
   },
   "outputs": [],
   "source": [
    "aux_df = pd.DataFrame()\n",
    "for i in best_paramns:\n",
    "    best_paramns_select_balance_acc = dict(i)\n",
    "    xgb_model_final = xgb.XGBClassifier(n_estimators =int(best_paramns_select_balance_acc['n_estimators']),\n",
    "                                          max_depth = int(best_paramns_select_balance_acc['max_depth']), \n",
    "                                          min_child_weight=int(best_paramns_select_balance_acc['min_child_weight']),\n",
    "                                          colsample_bytree=int(best_paramns_select_balance_acc['colsample_bytree']),\n",
    "                                          seed = 42).fit(X_train,y_train)\n",
    "    aux_df = pd.concat([aux_df,performace_cross_val_boost(df4,'failure_type',xgb_model_final,'xgboost')],ignore_index=True)"
   ]
  },
  {
   "cell_type": "code",
   "execution_count": 60,
   "id": "fd944949",
   "metadata": {
    "ExecuteTime": {
     "end_time": "2023-02-07T01:48:13.883542Z",
     "start_time": "2023-02-07T01:48:13.836823Z"
    },
    "scrolled": false
   },
   "outputs": [
    {
     "data": {
      "text/html": [
       "<div>\n",
       "<style scoped>\n",
       "    .dataframe tbody tr th:only-of-type {\n",
       "        vertical-align: middle;\n",
       "    }\n",
       "\n",
       "    .dataframe tbody tr th {\n",
       "        vertical-align: top;\n",
       "    }\n",
       "\n",
       "    .dataframe thead th {\n",
       "        text-align: right;\n",
       "    }\n",
       "</style>\n",
       "<table border=\"1\" class=\"dataframe\">\n",
       "  <thead>\n",
       "    <tr style=\"text-align: right;\">\n",
       "      <th></th>\n",
       "      <th>Model name</th>\n",
       "      <th>precison_multclass_cv</th>\n",
       "      <th>precison_std</th>\n",
       "      <th>recall_multclass_cv</th>\n",
       "      <th>recall_cv</th>\n",
       "      <th>balanced_score_cv</th>\n",
       "      <th>balanced_std</th>\n",
       "      <th>f1_score_cv</th>\n",
       "      <th>f1_std</th>\n",
       "    </tr>\n",
       "  </thead>\n",
       "  <tbody>\n",
       "    <tr>\n",
       "      <th>0</th>\n",
       "      <td>xgboost Cross_Val</td>\n",
       "      <td>0.529</td>\n",
       "      <td>0.028</td>\n",
       "      <td>0.549</td>\n",
       "      <td>0.017</td>\n",
       "      <td>0.549</td>\n",
       "      <td>0.017</td>\n",
       "      <td>0.537</td>\n",
       "      <td>0.022</td>\n",
       "    </tr>\n",
       "    <tr>\n",
       "      <th>1</th>\n",
       "      <td>xgboost Cross_Val</td>\n",
       "      <td>0.551</td>\n",
       "      <td>0.024</td>\n",
       "      <td>0.541</td>\n",
       "      <td>0.021</td>\n",
       "      <td>0.541</td>\n",
       "      <td>0.021</td>\n",
       "      <td>0.544</td>\n",
       "      <td>0.023</td>\n",
       "    </tr>\n",
       "    <tr>\n",
       "      <th>2</th>\n",
       "      <td>xgboost Cross_Val</td>\n",
       "      <td>0.499</td>\n",
       "      <td>0.028</td>\n",
       "      <td>0.603</td>\n",
       "      <td>0.036</td>\n",
       "      <td>0.603</td>\n",
       "      <td>0.036</td>\n",
       "      <td>0.541</td>\n",
       "      <td>0.029</td>\n",
       "    </tr>\n",
       "    <tr>\n",
       "      <th>3</th>\n",
       "      <td>xgboost Cross_Val</td>\n",
       "      <td>0.522</td>\n",
       "      <td>0.028</td>\n",
       "      <td>0.554</td>\n",
       "      <td>0.022</td>\n",
       "      <td>0.554</td>\n",
       "      <td>0.022</td>\n",
       "      <td>0.536</td>\n",
       "      <td>0.025</td>\n",
       "    </tr>\n",
       "    <tr>\n",
       "      <th>4</th>\n",
       "      <td>xgboost Cross_Val</td>\n",
       "      <td>0.507</td>\n",
       "      <td>0.021</td>\n",
       "      <td>0.594</td>\n",
       "      <td>0.033</td>\n",
       "      <td>0.594</td>\n",
       "      <td>0.033</td>\n",
       "      <td>0.542</td>\n",
       "      <td>0.023</td>\n",
       "    </tr>\n",
       "  </tbody>\n",
       "</table>\n",
       "</div>"
      ],
      "text/plain": [
       "          Model name  precison_multclass_cv  precison_std  \\\n",
       "0  xgboost Cross_Val                  0.529         0.028   \n",
       "1  xgboost Cross_Val                  0.551         0.024   \n",
       "2  xgboost Cross_Val                  0.499         0.028   \n",
       "3  xgboost Cross_Val                  0.522         0.028   \n",
       "4  xgboost Cross_Val                  0.507         0.021   \n",
       "\n",
       "   recall_multclass_cv  recall_cv  balanced_score_cv  balanced_std  \\\n",
       "0                0.549      0.017              0.549         0.017   \n",
       "1                0.541      0.021              0.541         0.021   \n",
       "2                0.603      0.036              0.603         0.036   \n",
       "3                0.554      0.022              0.554         0.022   \n",
       "4                0.594      0.033              0.594         0.033   \n",
       "\n",
       "   f1_score_cv  f1_std  \n",
       "0        0.537   0.022  \n",
       "1        0.544   0.023  \n",
       "2        0.541   0.029  \n",
       "3        0.536   0.025  \n",
       "4        0.542   0.023  "
      ]
     },
     "execution_count": 60,
     "metadata": {},
     "output_type": "execute_result"
    }
   ],
   "source": [
    "aux_df"
   ]
  },
  {
   "cell_type": "code",
   "execution_count": 89,
   "id": "ab87152e",
   "metadata": {
    "ExecuteTime": {
     "end_time": "2023-02-07T02:01:39.577723Z",
     "start_time": "2023-02-07T02:01:39.546470Z"
    }
   },
   "outputs": [],
   "source": [
    "best_paramns = {'colsample_bytree': 0.7336051564716887, 'max_depth': 3.0, 'min_child_weight': 5.0, 'n_estimators': 300, 'seed': 42}"
   ]
  },
  {
   "cell_type": "code",
   "execution_count": 72,
   "id": "a1cc4611",
   "metadata": {
    "ExecuteTime": {
     "end_time": "2023-02-07T01:56:48.012421Z",
     "start_time": "2023-02-07T01:56:47.996776Z"
    }
   },
   "outputs": [],
   "source": [
    "sample_weights = class_weight.compute_sample_weight(class_weight='balanced',y=y_train)"
   ]
  },
  {
   "cell_type": "code",
   "execution_count": 90,
   "id": "abab432e",
   "metadata": {
    "ExecuteTime": {
     "end_time": "2023-02-07T02:01:41.382897Z",
     "start_time": "2023-02-07T02:01:41.320360Z"
    },
    "scrolled": false
   },
   "outputs": [
    {
     "ename": "ValueError",
     "evalue": "dictionary update sequence element #0 has length 1; 2 is required",
     "output_type": "error",
     "traceback": [
      "\u001b[1;31m---------------------------------------------------------------------------\u001b[0m",
      "\u001b[1;31mValueError\u001b[0m                                Traceback (most recent call last)",
      "Cell \u001b[1;32mIn[90], line 4\u001b[0m\n\u001b[0;32m      2\u001b[0m aux_df \u001b[38;5;241m=\u001b[39m pd\u001b[38;5;241m.\u001b[39mDataFrame()\n\u001b[0;32m      3\u001b[0m \u001b[38;5;28;01mfor\u001b[39;00m i \u001b[38;5;129;01min\u001b[39;00m best_paramns:\n\u001b[1;32m----> 4\u001b[0m     best_paramns \u001b[38;5;241m=\u001b[39m \u001b[38;5;28;43mdict\u001b[39;49m\u001b[43m(\u001b[49m\u001b[43mi\u001b[49m\u001b[43m)\u001b[49m\n\u001b[0;32m      5\u001b[0m     xgb_model_final \u001b[38;5;241m=\u001b[39m xgb\u001b[38;5;241m.\u001b[39mXGBClassifier(n_estimators \u001b[38;5;241m=\u001b[39m\u001b[38;5;28mint\u001b[39m(best_paramns[\u001b[38;5;124m'\u001b[39m\u001b[38;5;124mn_estimators\u001b[39m\u001b[38;5;124m'\u001b[39m]),\n\u001b[0;32m      6\u001b[0m                                           max_depth \u001b[38;5;241m=\u001b[39m \u001b[38;5;28mint\u001b[39m(best_paramns[\u001b[38;5;124m'\u001b[39m\u001b[38;5;124mmax_depth\u001b[39m\u001b[38;5;124m'\u001b[39m]), \n\u001b[0;32m      7\u001b[0m                                           min_child_weight\u001b[38;5;241m=\u001b[39m\u001b[38;5;28mint\u001b[39m(best_paramns[\u001b[38;5;124m'\u001b[39m\u001b[38;5;124mmin_child_weight\u001b[39m\u001b[38;5;124m'\u001b[39m]),\n\u001b[0;32m      8\u001b[0m                                           colsample_bytree\u001b[38;5;241m=\u001b[39m\u001b[38;5;28mint\u001b[39m(best_paramns[\u001b[38;5;124m'\u001b[39m\u001b[38;5;124mcolsample_bytree\u001b[39m\u001b[38;5;124m'\u001b[39m]),\n\u001b[0;32m      9\u001b[0m                                           seed \u001b[38;5;241m=\u001b[39m \u001b[38;5;241m42\u001b[39m)\u001b[38;5;241m.\u001b[39mfit(X_train,y_train,sample_weight\u001b[38;5;241m=\u001b[39msample_weights)\n\u001b[0;32m     10\u001b[0m \u001b[38;5;66;03m# #predict\u001b[39;00m\n",
      "\u001b[1;31mValueError\u001b[0m: dictionary update sequence element #0 has length 1; 2 is required"
     ]
    }
   ],
   "source": [
    "# #model\n",
    "aux_df = pd.DataFrame()\n",
    "for i in best_paramns:\n",
    "    best_paramns = dict(i)\n",
    "    xgb_model_final = xgb.XGBClassifier(n_estimators =int(best_paramns['n_estimators']),\n",
    "                                          max_depth = int(best_paramns['max_depth']), \n",
    "                                          min_child_weight=int(best_paramns['min_child_weight']),\n",
    "                                          colsample_bytree=int(best_paramns['colsample_bytree']),\n",
    "                                          seed = 42).fit(X_train,y_train,sample_weight=sample_weights)\n",
    "# #predict\n",
    "    yhat_xgb = xgb_model_final.predict(X_val)\n",
    "\n",
    "# #metrics\n",
    "    aux_df = pd.concat([aux_df,mult_metrics('xgboost',y_val,yhat_xgb)],ignore_index=True)"
   ]
  },
  {
   "cell_type": "code",
   "execution_count": 88,
   "id": "0f36fcbc",
   "metadata": {
    "ExecuteTime": {
     "end_time": "2023-02-07T01:59:57.168039Z",
     "start_time": "2023-02-07T01:59:57.138474Z"
    }
   },
   "outputs": [
    {
     "data": {
      "text/html": [
       "<div>\n",
       "<style scoped>\n",
       "    .dataframe tbody tr th:only-of-type {\n",
       "        vertical-align: middle;\n",
       "    }\n",
       "\n",
       "    .dataframe tbody tr th {\n",
       "        vertical-align: top;\n",
       "    }\n",
       "\n",
       "    .dataframe thead th {\n",
       "        text-align: right;\n",
       "    }\n",
       "</style>\n",
       "<table border=\"1\" class=\"dataframe\">\n",
       "  <thead>\n",
       "    <tr style=\"text-align: right;\">\n",
       "      <th></th>\n",
       "      <th>mode_name</th>\n",
       "      <th>precison_multclass</th>\n",
       "      <th>recall_multclass</th>\n",
       "      <th>f1-score_multclass</th>\n",
       "      <th>balanced_score</th>\n",
       "    </tr>\n",
       "  </thead>\n",
       "  <tbody>\n",
       "    <tr>\n",
       "      <th>0</th>\n",
       "      <td>xgboost</td>\n",
       "      <td>0.500102</td>\n",
       "      <td>0.535557</td>\n",
       "      <td>0.516092</td>\n",
       "      <td>0.535557</td>\n",
       "    </tr>\n",
       "    <tr>\n",
       "      <th>1</th>\n",
       "      <td>xgboost</td>\n",
       "      <td>0.498477</td>\n",
       "      <td>0.524873</td>\n",
       "      <td>0.510465</td>\n",
       "      <td>0.524873</td>\n",
       "    </tr>\n",
       "    <tr>\n",
       "      <th>2</th>\n",
       "      <td>xgboost</td>\n",
       "      <td>0.480031</td>\n",
       "      <td>0.567759</td>\n",
       "      <td>0.515661</td>\n",
       "      <td>0.567759</td>\n",
       "    </tr>\n",
       "    <tr>\n",
       "      <th>3</th>\n",
       "      <td>xgboost</td>\n",
       "      <td>0.485623</td>\n",
       "      <td>0.542528</td>\n",
       "      <td>0.510607</td>\n",
       "      <td>0.542528</td>\n",
       "    </tr>\n",
       "    <tr>\n",
       "      <th>4</th>\n",
       "      <td>xgboost</td>\n",
       "      <td>0.490911</td>\n",
       "      <td>0.582738</td>\n",
       "      <td>0.525884</td>\n",
       "      <td>0.582738</td>\n",
       "    </tr>\n",
       "  </tbody>\n",
       "</table>\n",
       "</div>"
      ],
      "text/plain": [
       "  mode_name  precison_multclass  recall_multclass  f1-score_multclass  \\\n",
       "0   xgboost            0.500102          0.535557            0.516092   \n",
       "1   xgboost            0.498477          0.524873            0.510465   \n",
       "2   xgboost            0.480031          0.567759            0.515661   \n",
       "3   xgboost            0.485623          0.542528            0.510607   \n",
       "4   xgboost            0.490911          0.582738            0.525884   \n",
       "\n",
       "   balanced_score  \n",
       "0        0.535557  \n",
       "1        0.524873  \n",
       "2        0.567759  \n",
       "3        0.542528  \n",
       "4        0.582738  "
      ]
     },
     "execution_count": 88,
     "metadata": {},
     "output_type": "execute_result"
    }
   ],
   "source": [
    "aux_df"
   ]
  }
 ],
 "metadata": {
  "kernelspec": {
   "display_name": "Python 3 (ipykernel)",
   "language": "python",
   "name": "python3"
  },
  "language_info": {
   "codemirror_mode": {
    "name": "ipython",
    "version": 3
   },
   "file_extension": ".py",
   "mimetype": "text/x-python",
   "name": "python",
   "nbconvert_exporter": "python",
   "pygments_lexer": "ipython3",
   "version": "3.8.16"
  }
 },
 "nbformat": 4,
 "nbformat_minor": 5
}
