{
 "cells": [
  {
   "cell_type": "markdown",
   "id": "ec459904",
   "metadata": {},
   "source": [
    "# imports"
   ]
  },
  {
   "cell_type": "code",
   "execution_count": 34,
   "id": "ce23a0a5",
   "metadata": {
    "ExecuteTime": {
     "end_time": "2023-02-07T13:41:31.984437Z",
     "start_time": "2023-02-07T13:41:31.946660Z"
    }
   },
   "outputs": [],
   "source": [
    "#manipulação de dados\n",
    "import pandas as pd\n",
    "import numpy  as np\n",
    "\n",
    "#visualização\n",
    "import matplotlib.pyplot as plt\n",
    "import seaborn           as sns\n",
    "from IPython.core.display import HTML\n",
    "from IPython.display      import Image\n",
    "\n",
    "# processamento de dados\n",
    "from sklearn.model_selection import train_test_split\n",
    "from sklearn.utils import class_weight\n",
    "import pickle\n",
    "\n",
    "#machine learning models\n",
    "import xgboost as xgb\n",
    "\n",
    "#metricas\n",
    "from sklearn.metrics import accuracy_score, balanced_accuracy_score,precision_score,recall_score,roc_auc_score, confusion_matrix,f1_score"
   ]
  },
  {
   "cell_type": "markdown",
   "id": "11a50ae4",
   "metadata": {
    "heading_collapsed": true
   },
   "source": [
    "## Helper functions "
   ]
  },
  {
   "cell_type": "code",
   "execution_count": 2,
   "id": "d5de0534",
   "metadata": {
    "ExecuteTime": {
     "end_time": "2023-02-07T13:18:51.012225Z",
     "start_time": "2023-02-07T13:18:50.943198Z"
    },
    "hidden": true
   },
   "outputs": [
    {
     "name": "stdout",
     "output_type": "stream",
     "text": [
      "%pylab is deprecated, use %matplotlib inline and import the required libraries.\n",
      "Populating the interactive namespace from numpy and matplotlib\n"
     ]
    },
    {
     "data": {
      "text/html": [
       "<style>.container { width:100% !important; }</style>"
      ],
      "text/plain": [
       "<IPython.core.display.HTML object>"
      ]
     },
     "metadata": {},
     "output_type": "display_data"
    }
   ],
   "source": [
    "def jupyter_settings():\n",
    "    %matplotlib inline\n",
    "    %pylab inline\n",
    "    plt.style.use( 'bmh' )\n",
    "    plt.rcParams['figure.figsize'] = [25, 12]\n",
    "    plt.rcParams['font.size'] = 24\n",
    "    display( HTML( '<style>.container { width:100% !important; }</style>') )\n",
    "    sns.set()\n",
    "jupyter_settings()"
   ]
  },
  {
   "cell_type": "code",
   "execution_count": 3,
   "id": "c99dde21",
   "metadata": {
    "ExecuteTime": {
     "end_time": "2023-02-07T13:18:51.027855Z",
     "start_time": "2023-02-07T13:18:51.012225Z"
    },
    "hidden": true
   },
   "outputs": [],
   "source": [
    "def mult_metrics(model_name,y,yhat):\n",
    "    return pd.DataFrame({'mode_name':model_name,\n",
    "             'precison_multclass':precision_score(y,yhat,average='macro'),\n",
    "             'recall_multclass':recall_score(y,yhat,average='macro'),\n",
    "              'f1-score_multclass':f1_score(y,yhat,average='macro'),\n",
    "             'balanced_score':balanced_accuracy_score(y,yhat)},index=[0])\n",
    "    "
   ]
  },
  {
   "cell_type": "code",
   "execution_count": 4,
   "id": "44eb5810",
   "metadata": {
    "ExecuteTime": {
     "end_time": "2023-02-07T13:18:51.065647Z",
     "start_time": "2023-02-07T13:18:51.027855Z"
    },
    "hidden": true
   },
   "outputs": [],
   "source": [
    "def confusion_m(y,yhat):\n",
    "    from sklearn.metrics import confusion_matrix\n",
    "    ax= plt.subplot()\n",
    "    cm = confusion_matrix(y,yhat)\n",
    "    sns.heatmap(cm,annot=True,ax=ax,annot_kws={'size': 20})\n",
    "    ax.set_xlabel('Predicted labels');ax.set_ylabel('True labels'); \n",
    "    ax.set_title('Confusion Matrix'); \n",
    "    ax.xaxis.set_ticklabels(['Heat Dissipation Failure', 'No Failure','Overstrain Failure','Power Failure','Random Failures','Tool Wear Failure']); ax.yaxis.set_ticklabels(['Heat Dissipation Failure', 'No Failure','Overstrain Failure','Power Failure','Random Failures','Tool Wear Failure']);\n",
    "    plt.yticks(rotation=0) ;"
   ]
  },
  {
   "cell_type": "code",
   "execution_count": 5,
   "id": "0dc1298d",
   "metadata": {
    "ExecuteTime": {
     "end_time": "2023-02-07T13:18:51.117967Z",
     "start_time": "2023-02-07T13:18:51.071302Z"
    },
    "hidden": true
   },
   "outputs": [],
   "source": [
    "def performace_cross_val(data, target, model, model_name, round_n=3, splits=3, shuffle_n=True, random=42):\n",
    "    import sklearn.model_selection as ms\n",
    "    import sklearn.metrics\n",
    "    import numpy as np\n",
    "    skf = ms.StratifiedKFold(n_splits=splits, shuffle=shuffle_n, random_state=random)\n",
    "    X = data\n",
    "    y = X[target]\n",
    "    X = X.drop(columns=[target, 'product_id'])\n",
    "    precision = []\n",
    "    recall = []\n",
    "    balan_acc = []\n",
    "    f1 = []\n",
    "    for train_index, test_index in skf.split(X, y):\n",
    "        # train the model\n",
    "        model.fit(X.iloc[train_index], y.iloc[train_index])\n",
    "\n",
    "        # predict the classification\n",
    "        yhat_class = model.predict(X.iloc[test_index])\n",
    "\n",
    "        # precision and recall\n",
    "        prec = sklearn.metrics.precision_score(y.iloc[test_index], yhat_class,average='macro')\n",
    "        rec = sklearn.metrics.recall_score(y.iloc[test_index], yhat_class,average='macro')\n",
    "        balan_acc_score = sklearn.metrics.balanced_accuracy_score(y.iloc[test_index], yhat_class)\n",
    "        f1_score = sklearn.metrics.f1_score(y.iloc[test_index], yhat_class,average='macro')\n",
    "        precision.append(prec)\n",
    "        recall.append(rec)\n",
    "        balan_acc.append(balan_acc_score)\n",
    "        f1.append(f1_score)\n",
    "\n",
    "    # return a dataset with the metrics\n",
    "    return pd.DataFrame({'Model name': model_name + \" Cross_Val\",\n",
    "                         'precison_multclass_cv': np.round(np.mean(precision), round_n),\n",
    "                         'precison_std': np.round(np.std(precision), round_n),\n",
    "                         'recall_multclass_cv': np.round(np.mean(recall), round_n),\n",
    "                         'recall_cv': np.round(np.std(recall), round_n),\n",
    "                         'balanced_score_cv': np.round(np.mean(balan_acc), round_n),\n",
    "                         'balanced_std': np.round(np.std(balan_acc), round_n),\n",
    "                         'f1_score_cv': np.round(np.mean(f1), round_n),\n",
    "                         'f1_std': np.round(np.std(f1), round_n)},index=[0])\n"
   ]
  },
  {
   "cell_type": "code",
   "execution_count": 6,
   "id": "15954628",
   "metadata": {
    "ExecuteTime": {
     "end_time": "2023-02-07T13:18:51.165976Z",
     "start_time": "2023-02-07T13:18:51.117967Z"
    },
    "hidden": true
   },
   "outputs": [],
   "source": [
    "def performace_cross_val_boost(data, target, model, model_name, round_n=3, splits=3, shuffle_n=True, random=42):\n",
    "    import sklearn.model_selection as ms\n",
    "    import sklearn.metrics\n",
    "    import numpy as np\n",
    "    skf = ms.StratifiedKFold(n_splits=splits, shuffle=shuffle_n, random_state=random)\n",
    "    X = data\n",
    "    y = X[target]\n",
    "    X = X.drop(columns=[target, 'product_id'])\n",
    "    precision = []\n",
    "    recall = []\n",
    "    balan_acc = []\n",
    "    f1 = []\n",
    "    for train_index, test_index in skf.split(X, y):\n",
    "        # train the model\n",
    "        weight = class_weight.compute_sample_weight(class_weight='balanced',y=y.iloc[train_index])\n",
    "        model.fit(X.iloc[train_index], y.iloc[train_index],sample_weight=weight)\n",
    "\n",
    "        # predict the classification\n",
    "        yhat_class = model.predict(X.iloc[test_index])\n",
    "\n",
    "        # precision and recall\n",
    "        prec = sklearn.metrics.precision_score(y.iloc[test_index], yhat_class,average='macro')\n",
    "        rec = sklearn.metrics.recall_score(y.iloc[test_index], yhat_class,average='macro')\n",
    "        balan_acc_score = sklearn.metrics.balanced_accuracy_score(y.iloc[test_index], yhat_class)\n",
    "        f1_score = sklearn.metrics.f1_score(y.iloc[test_index], yhat_class,average='macro')\n",
    "        precision.append(prec)\n",
    "        recall.append(rec)\n",
    "        balan_acc.append(balan_acc_score)\n",
    "        f1.append(f1_score)\n",
    "\n",
    "    # return a dataset with the metrics\n",
    "    return pd.DataFrame({'Model name': model_name + \" Cross_Val\",\n",
    "                         'precison_multclass_cv': np.round(np.mean(precision), round_n),\n",
    "                         'precison_std': np.round(np.std(precision), round_n),\n",
    "                         'recall_multclass_cv': np.round(np.mean(recall), round_n),\n",
    "                         'recall_cv': np.round(np.std(recall), round_n),\n",
    "                         'balanced_score_cv': np.round(np.mean(balan_acc), round_n),\n",
    "                         'balanced_std': np.round(np.std(balan_acc), round_n),\n",
    "                         'f1_score_cv': np.round(np.mean(f1), round_n),\n",
    "                         'f1_std': np.round(np.std(f1), round_n)},index=[0])"
   ]
  },
  {
   "cell_type": "markdown",
   "id": "ac8a74dc",
   "metadata": {},
   "source": [
    "# Load data"
   ]
  },
  {
   "cell_type": "code",
   "execution_count": 7,
   "id": "e762f6a7",
   "metadata": {
    "ExecuteTime": {
     "end_time": "2023-02-07T13:18:51.266286Z",
     "start_time": "2023-02-07T13:18:51.165976Z"
    }
   },
   "outputs": [],
   "source": [
    "path_local = 'C:/Users/Lavin/Documents/desafios/desafio_indicium/'\n",
    "df4 = pd.read_csv(path_local + 'data/processed/df_train_processed.csv')"
   ]
  },
  {
   "cell_type": "code",
   "execution_count": 8,
   "id": "5261bffe",
   "metadata": {
    "ExecuteTime": {
     "end_time": "2023-02-07T13:18:51.344411Z",
     "start_time": "2023-02-07T13:18:51.266286Z"
    },
    "scrolled": true
   },
   "outputs": [
    {
     "data": {
      "text/html": [
       "<div>\n",
       "<style scoped>\n",
       "    .dataframe tbody tr th:only-of-type {\n",
       "        vertical-align: middle;\n",
       "    }\n",
       "\n",
       "    .dataframe tbody tr th {\n",
       "        vertical-align: top;\n",
       "    }\n",
       "\n",
       "    .dataframe thead th {\n",
       "        text-align: right;\n",
       "    }\n",
       "</style>\n",
       "<table border=\"1\" class=\"dataframe\">\n",
       "  <thead>\n",
       "    <tr style=\"text-align: right;\">\n",
       "      <th></th>\n",
       "      <th>product_id</th>\n",
       "      <th>air_temperature_k</th>\n",
       "      <th>process_temperature_k</th>\n",
       "      <th>rotational_speed_rpm</th>\n",
       "      <th>torque_nm</th>\n",
       "      <th>tool_wear_min</th>\n",
       "      <th>power_w</th>\n",
       "      <th>failure_type</th>\n",
       "    </tr>\n",
       "  </thead>\n",
       "  <tbody>\n",
       "    <tr>\n",
       "      <th>0</th>\n",
       "      <td>M14860</td>\n",
       "      <td>0.304348</td>\n",
       "      <td>0.358025</td>\n",
       "      <td>0.253298</td>\n",
       "      <td>0.191176</td>\n",
       "      <td>-1.000000</td>\n",
       "      <td>0.469475</td>\n",
       "      <td>1</td>\n",
       "    </tr>\n",
       "    <tr>\n",
       "      <th>1</th>\n",
       "      <td>L47181</td>\n",
       "      <td>0.315217</td>\n",
       "      <td>0.370370</td>\n",
       "      <td>-0.501319</td>\n",
       "      <td>0.448529</td>\n",
       "      <td>-0.972222</td>\n",
       "      <td>0.382571</td>\n",
       "      <td>1</td>\n",
       "    </tr>\n",
       "    <tr>\n",
       "      <th>2</th>\n",
       "      <td>L47184</td>\n",
       "      <td>0.315217</td>\n",
       "      <td>0.370370</td>\n",
       "      <td>-0.501319</td>\n",
       "      <td>-0.014706</td>\n",
       "      <td>-0.916667</td>\n",
       "      <td>-0.263920</td>\n",
       "      <td>1</td>\n",
       "    </tr>\n",
       "    <tr>\n",
       "      <th>3</th>\n",
       "      <td>M14865</td>\n",
       "      <td>0.304348</td>\n",
       "      <td>0.358025</td>\n",
       "      <td>-0.411609</td>\n",
       "      <td>0.125000</td>\n",
       "      <td>-0.898148</td>\n",
       "      <td>-0.017032</td>\n",
       "      <td>1</td>\n",
       "    </tr>\n",
       "    <tr>\n",
       "      <th>4</th>\n",
       "      <td>L47186</td>\n",
       "      <td>0.304348</td>\n",
       "      <td>0.358025</td>\n",
       "      <td>0.290237</td>\n",
       "      <td>0.161765</td>\n",
       "      <td>-0.870370</td>\n",
       "      <td>0.445891</td>\n",
       "      <td>1</td>\n",
       "    </tr>\n",
       "  </tbody>\n",
       "</table>\n",
       "</div>"
      ],
      "text/plain": [
       "  product_id  air_temperature_k  process_temperature_k  rotational_speed_rpm  \\\n",
       "0     M14860           0.304348               0.358025              0.253298   \n",
       "1     L47181           0.315217               0.370370             -0.501319   \n",
       "2     L47184           0.315217               0.370370             -0.501319   \n",
       "3     M14865           0.304348               0.358025             -0.411609   \n",
       "4     L47186           0.304348               0.358025              0.290237   \n",
       "\n",
       "   torque_nm  tool_wear_min   power_w  failure_type  \n",
       "0   0.191176      -1.000000  0.469475             1  \n",
       "1   0.448529      -0.972222  0.382571             1  \n",
       "2  -0.014706      -0.916667 -0.263920             1  \n",
       "3   0.125000      -0.898148 -0.017032             1  \n",
       "4   0.161765      -0.870370  0.445891             1  "
      ]
     },
     "execution_count": 8,
     "metadata": {},
     "output_type": "execute_result"
    }
   ],
   "source": [
    "df4.head()"
   ]
  },
  {
   "cell_type": "markdown",
   "id": "e009ab6e",
   "metadata": {},
   "source": [
    "## Split dataframe"
   ]
  },
  {
   "cell_type": "code",
   "execution_count": 9,
   "id": "ebc1691c",
   "metadata": {
    "ExecuteTime": {
     "end_time": "2023-02-07T13:18:51.366560Z",
     "start_time": "2023-02-07T13:18:51.344411Z"
    }
   },
   "outputs": [],
   "source": [
    "X = df4.copy()\n",
    "y = X['failure_type']\n",
    "X = X.drop(columns=['failure_type','product_id'])"
   ]
  },
  {
   "cell_type": "code",
   "execution_count": 10,
   "id": "272f6970",
   "metadata": {
    "ExecuteTime": {
     "end_time": "2023-02-07T13:18:51.397811Z",
     "start_time": "2023-02-07T13:18:51.366560Z"
    }
   },
   "outputs": [],
   "source": [
    "X_train, X_val, y_train, y_val = train_test_split(X, y, test_size=0.3, random_state=42,stratify=y)"
   ]
  },
  {
   "cell_type": "code",
   "execution_count": 11,
   "id": "3d8b72e3",
   "metadata": {
    "ExecuteTime": {
     "end_time": "2023-02-07T13:18:51.429061Z",
     "start_time": "2023-02-07T13:18:51.397811Z"
    }
   },
   "outputs": [
    {
     "data": {
      "text/plain": [
       "(4666, 6)"
      ]
     },
     "execution_count": 11,
     "metadata": {},
     "output_type": "execute_result"
    }
   ],
   "source": [
    "X_train.shape"
   ]
  },
  {
   "cell_type": "code",
   "execution_count": 12,
   "id": "c25debf7",
   "metadata": {
    "ExecuteTime": {
     "end_time": "2023-02-07T13:18:51.444686Z",
     "start_time": "2023-02-07T13:18:51.429061Z"
    }
   },
   "outputs": [
    {
     "data": {
      "text/plain": [
       "(2001, 6)"
      ]
     },
     "execution_count": 12,
     "metadata": {},
     "output_type": "execute_result"
    }
   ],
   "source": [
    "X_val.shape"
   ]
  },
  {
   "cell_type": "markdown",
   "id": "6d2202e3",
   "metadata": {},
   "source": [
    "# 9.0 Fine tuning"
   ]
  },
  {
   "cell_type": "code",
   "execution_count": 13,
   "id": "8ce2c4f0",
   "metadata": {
    "ExecuteTime": {
     "end_time": "2023-02-07T13:18:52.233649Z",
     "start_time": "2023-02-07T13:18:51.444686Z"
    }
   },
   "outputs": [],
   "source": [
    "# biblioteca para o fine-tuning método baysiano\n",
    "from hyperopt import tpe, Trials, hp, fmin, STATUS_OK\n",
    "\n",
    "import warnings\n",
    "warnings.filterwarnings('ignore')"
   ]
  },
  {
   "cell_type": "code",
   "execution_count": 14,
   "id": "a0b7fafe",
   "metadata": {
    "ExecuteTime": {
     "end_time": "2023-02-07T13:18:52.267886Z",
     "start_time": "2023-02-07T13:18:52.233649Z"
    }
   },
   "outputs": [],
   "source": [
    "#definição do espaço\n",
    "# space={'n_estimators': hp.choice('n_estimators',np.arange(300,1000+1,250)),\n",
    "#       'max_depth': hp.quniform(\"max_depth\", 3, 10, 1),\n",
    "#       'colsample_bytree' : hp.uniform('colsample_bytree', 0.5,1),\n",
    "#       'min_child_weight' : hp.quniform('min_child_weight', 0, 12, 1),\n",
    "#       'seed': 42\n",
    "#     }"
   ]
  },
  {
   "cell_type": "code",
   "execution_count": 15,
   "id": "f482e3eb",
   "metadata": {
    "ExecuteTime": {
     "end_time": "2023-02-07T13:18:52.283508Z",
     "start_time": "2023-02-07T13:18:52.267886Z"
    }
   },
   "outputs": [],
   "source": [
    "#definição do modelo\n",
    "# def objective_function(space):\n",
    "#     xgb_model = xgb.XGBClassifier(n_estimators =int(space['n_estimators']),\n",
    "#                                   max_depth = int(space['max_depth']), \n",
    "#                                   min_child_weight=int(space['min_child_weight']),\n",
    "#                                   colsample_bytree=int(space['colsample_bytree']),\n",
    "#                                   seed = space['seed'])      \n",
    "#     score = performace_cross_val_boost(df4,'failure_type',xgb_model,'xgb_model',round_n=3,splits=3)\n",
    "#     print(space)\n",
    "#     print('f1-score:',score['f1_score_cv'][0],'recall:',score['recall_multclass_cv'][0],'precision:',score['precison_multclass_cv'][0])\n",
    "#     return {'loss': -score['recall_multclass_cv'][0],'status':STATUS_OK}"
   ]
  },
  {
   "cell_type": "code",
   "execution_count": 16,
   "id": "ab8f6a2d",
   "metadata": {
    "ExecuteTime": {
     "end_time": "2023-02-07T13:18:52.299134Z",
     "start_time": "2023-02-07T13:18:52.283508Z"
    }
   },
   "outputs": [],
   "source": [
    "# definição da função\n",
    "# tpe_algorithm = tpe.suggest\n",
    "# trials = Trials()\n",
    "# num_eval = 100"
   ]
  },
  {
   "cell_type": "code",
   "execution_count": 17,
   "id": "46dbb50b",
   "metadata": {
    "ExecuteTime": {
     "end_time": "2023-02-07T13:18:52.314759Z",
     "start_time": "2023-02-07T13:18:52.299134Z"
    },
    "scrolled": true
   },
   "outputs": [],
   "source": [
    "# teste dos parâmetros\n",
    "#best_paramns = fmin(fn=objective_function,space=space,algo=tpe_algorithm,max_evals=num_eval,trials=trials)"
   ]
  },
  {
   "cell_type": "code",
   "execution_count": 18,
   "id": "8ca96b96",
   "metadata": {
    "ExecuteTime": {
     "end_time": "2023-02-07T13:18:52.346017Z",
     "start_time": "2023-02-07T13:18:52.314759Z"
    },
    "scrolled": true
   },
   "outputs": [],
   "source": [
    "# best_paramns"
   ]
  },
  {
   "cell_type": "code",
   "execution_count": 20,
   "id": "d1b6faaf",
   "metadata": {
    "ExecuteTime": {
     "end_time": "2023-02-07T13:18:52.399426Z",
     "start_time": "2023-02-07T13:18:52.368173Z"
    }
   },
   "outputs": [],
   "source": [
    "best_paramns = [{'colsample_bytree': 0.8774451839157555, 'max_depth': 4.0, 'min_child_weight': 2.0, 'n_estimators': 550, 'seed': 42},                                                                \n",
    "{'colsample_bytree': 0.8645721620898453, 'max_depth': 3.0, 'min_child_weight': 0.0, 'n_estimators': 550, 'seed': 42}, \n",
    "{'colsample_bytree': 0.9702875370053183, 'max_depth': 3.0, 'min_child_weight': 7.0, 'n_estimators': 550, 'seed': 42},\n",
    "{'colsample_bytree': 0.5611699511926991, 'max_depth': 4.0, 'min_child_weight': 3.0, 'n_estimators': 550, 'seed': 42},\n",
    "{'colsample_bytree': 0.7336051564716887, 'max_depth': 3.0, 'min_child_weight': 5.0, 'n_estimators': 300, 'seed': 42}]"
   ]
  },
  {
   "cell_type": "markdown",
   "id": "9c032a40",
   "metadata": {},
   "source": [
    "## 9.1 XGboost"
   ]
  },
  {
   "cell_type": "code",
   "execution_count": 21,
   "id": "f3e58b37",
   "metadata": {
    "ExecuteTime": {
     "end_time": "2023-02-07T13:19:45.647522Z",
     "start_time": "2023-02-07T13:18:52.399426Z"
    }
   },
   "outputs": [],
   "source": [
    "aux_df = pd.DataFrame()\n",
    "for i in best_paramns:\n",
    "    best_paramns_select_balance_acc = dict(i)\n",
    "    xgb_model_final = xgb.XGBClassifier(n_estimators =int(best_paramns_select_balance_acc['n_estimators']),\n",
    "                                          max_depth = int(best_paramns_select_balance_acc['max_depth']), \n",
    "                                          min_child_weight=int(best_paramns_select_balance_acc['min_child_weight']),\n",
    "                                          colsample_bytree=int(best_paramns_select_balance_acc['colsample_bytree']),\n",
    "                                          seed = 42).fit(X_train,y_train)\n",
    "    aux_df = pd.concat([aux_df,performace_cross_val_boost(df4,'failure_type',xgb_model_final,'xgboost')],ignore_index=True)"
   ]
  },
  {
   "cell_type": "code",
   "execution_count": 22,
   "id": "fd944949",
   "metadata": {
    "ExecuteTime": {
     "end_time": "2023-02-07T13:19:45.698060Z",
     "start_time": "2023-02-07T13:19:45.651817Z"
    },
    "scrolled": false
   },
   "outputs": [
    {
     "data": {
      "text/html": [
       "<div>\n",
       "<style scoped>\n",
       "    .dataframe tbody tr th:only-of-type {\n",
       "        vertical-align: middle;\n",
       "    }\n",
       "\n",
       "    .dataframe tbody tr th {\n",
       "        vertical-align: top;\n",
       "    }\n",
       "\n",
       "    .dataframe thead th {\n",
       "        text-align: right;\n",
       "    }\n",
       "</style>\n",
       "<table border=\"1\" class=\"dataframe\">\n",
       "  <thead>\n",
       "    <tr style=\"text-align: right;\">\n",
       "      <th></th>\n",
       "      <th>Model name</th>\n",
       "      <th>precison_multclass_cv</th>\n",
       "      <th>precison_std</th>\n",
       "      <th>recall_multclass_cv</th>\n",
       "      <th>recall_cv</th>\n",
       "      <th>balanced_score_cv</th>\n",
       "      <th>balanced_std</th>\n",
       "      <th>f1_score_cv</th>\n",
       "      <th>f1_std</th>\n",
       "    </tr>\n",
       "  </thead>\n",
       "  <tbody>\n",
       "    <tr>\n",
       "      <th>0</th>\n",
       "      <td>xgboost Cross_Val</td>\n",
       "      <td>0.529</td>\n",
       "      <td>0.028</td>\n",
       "      <td>0.549</td>\n",
       "      <td>0.017</td>\n",
       "      <td>0.549</td>\n",
       "      <td>0.017</td>\n",
       "      <td>0.537</td>\n",
       "      <td>0.022</td>\n",
       "    </tr>\n",
       "    <tr>\n",
       "      <th>1</th>\n",
       "      <td>xgboost Cross_Val</td>\n",
       "      <td>0.551</td>\n",
       "      <td>0.024</td>\n",
       "      <td>0.541</td>\n",
       "      <td>0.021</td>\n",
       "      <td>0.541</td>\n",
       "      <td>0.021</td>\n",
       "      <td>0.544</td>\n",
       "      <td>0.023</td>\n",
       "    </tr>\n",
       "    <tr>\n",
       "      <th>2</th>\n",
       "      <td>xgboost Cross_Val</td>\n",
       "      <td>0.499</td>\n",
       "      <td>0.028</td>\n",
       "      <td>0.603</td>\n",
       "      <td>0.036</td>\n",
       "      <td>0.603</td>\n",
       "      <td>0.036</td>\n",
       "      <td>0.541</td>\n",
       "      <td>0.029</td>\n",
       "    </tr>\n",
       "    <tr>\n",
       "      <th>3</th>\n",
       "      <td>xgboost Cross_Val</td>\n",
       "      <td>0.522</td>\n",
       "      <td>0.028</td>\n",
       "      <td>0.554</td>\n",
       "      <td>0.022</td>\n",
       "      <td>0.554</td>\n",
       "      <td>0.022</td>\n",
       "      <td>0.536</td>\n",
       "      <td>0.025</td>\n",
       "    </tr>\n",
       "    <tr>\n",
       "      <th>4</th>\n",
       "      <td>xgboost Cross_Val</td>\n",
       "      <td>0.507</td>\n",
       "      <td>0.021</td>\n",
       "      <td>0.594</td>\n",
       "      <td>0.033</td>\n",
       "      <td>0.594</td>\n",
       "      <td>0.033</td>\n",
       "      <td>0.542</td>\n",
       "      <td>0.023</td>\n",
       "    </tr>\n",
       "  </tbody>\n",
       "</table>\n",
       "</div>"
      ],
      "text/plain": [
       "          Model name  precison_multclass_cv  precison_std  \\\n",
       "0  xgboost Cross_Val                  0.529         0.028   \n",
       "1  xgboost Cross_Val                  0.551         0.024   \n",
       "2  xgboost Cross_Val                  0.499         0.028   \n",
       "3  xgboost Cross_Val                  0.522         0.028   \n",
       "4  xgboost Cross_Val                  0.507         0.021   \n",
       "\n",
       "   recall_multclass_cv  recall_cv  balanced_score_cv  balanced_std  \\\n",
       "0                0.549      0.017              0.549         0.017   \n",
       "1                0.541      0.021              0.541         0.021   \n",
       "2                0.603      0.036              0.603         0.036   \n",
       "3                0.554      0.022              0.554         0.022   \n",
       "4                0.594      0.033              0.594         0.033   \n",
       "\n",
       "   f1_score_cv  f1_std  \n",
       "0        0.537   0.022  \n",
       "1        0.544   0.023  \n",
       "2        0.541   0.029  \n",
       "3        0.536   0.025  \n",
       "4        0.542   0.023  "
      ]
     },
     "execution_count": 22,
     "metadata": {},
     "output_type": "execute_result"
    }
   ],
   "source": [
    "aux_df"
   ]
  },
  {
   "cell_type": "code",
   "execution_count": 23,
   "id": "ab87152e",
   "metadata": {
    "ExecuteTime": {
     "end_time": "2023-02-07T13:19:45.718263Z",
     "start_time": "2023-02-07T13:19:45.700117Z"
    }
   },
   "outputs": [],
   "source": [
    "best_paramns = {'colsample_bytree': 0.7336051564716887, 'max_depth': 3.0, 'min_child_weight': 5.0, 'n_estimators': 300, 'seed': 42}"
   ]
  },
  {
   "cell_type": "code",
   "execution_count": 24,
   "id": "a1cc4611",
   "metadata": {
    "ExecuteTime": {
     "end_time": "2023-02-07T13:19:45.738458Z",
     "start_time": "2023-02-07T13:19:45.720310Z"
    }
   },
   "outputs": [],
   "source": [
    "sample_weights = class_weight.compute_sample_weight(class_weight='balanced',y=y_train)"
   ]
  },
  {
   "cell_type": "code",
   "execution_count": 27,
   "id": "abab432e",
   "metadata": {
    "ExecuteTime": {
     "end_time": "2023-02-07T13:24:45.071845Z",
     "start_time": "2023-02-07T13:24:43.851427Z"
    },
    "scrolled": false
   },
   "outputs": [
    {
     "data": {
      "text/html": [
       "<div>\n",
       "<style scoped>\n",
       "    .dataframe tbody tr th:only-of-type {\n",
       "        vertical-align: middle;\n",
       "    }\n",
       "\n",
       "    .dataframe tbody tr th {\n",
       "        vertical-align: top;\n",
       "    }\n",
       "\n",
       "    .dataframe thead th {\n",
       "        text-align: right;\n",
       "    }\n",
       "</style>\n",
       "<table border=\"1\" class=\"dataframe\">\n",
       "  <thead>\n",
       "    <tr style=\"text-align: right;\">\n",
       "      <th></th>\n",
       "      <th>mode_name</th>\n",
       "      <th>precison_multclass</th>\n",
       "      <th>recall_multclass</th>\n",
       "      <th>f1-score_multclass</th>\n",
       "      <th>balanced_score</th>\n",
       "    </tr>\n",
       "  </thead>\n",
       "  <tbody>\n",
       "    <tr>\n",
       "      <th>0</th>\n",
       "      <td>xgboost</td>\n",
       "      <td>0.557618</td>\n",
       "      <td>0.587289</td>\n",
       "      <td>0.571533</td>\n",
       "      <td>0.587289</td>\n",
       "    </tr>\n",
       "  </tbody>\n",
       "</table>\n",
       "</div>"
      ],
      "text/plain": [
       "  mode_name  precison_multclass  recall_multclass  f1-score_multclass  \\\n",
       "0   xgboost            0.557618          0.587289            0.571533   \n",
       "\n",
       "   balanced_score  \n",
       "0        0.587289  "
      ]
     },
     "execution_count": 27,
     "metadata": {},
     "output_type": "execute_result"
    }
   ],
   "source": [
    "# #model\n",
    "xgb_model_final = xgb.XGBClassifier(seed = 42).fit(X_train,y_train,sample_weight=sample_weights)\n",
    "# #predict\n",
    "yhat_xgb = xgb_model_final.predict(X_val)\n",
    "\n",
    "# #metrics\n",
    "mult_metrics('xgboost',y_val,yhat_xgb)"
   ]
  },
  {
   "cell_type": "markdown",
   "id": "eaaffe11",
   "metadata": {
    "ExecuteTime": {
     "end_time": "2023-02-07T13:27:46.454898Z",
     "start_time": "2023-02-07T13:27:46.442901Z"
    }
   },
   "source": [
    "**Na etapa de fine tuning o XGboost Não apresentou alguma melhoria, portante foi treinado com os parametros autómaticos do mesmo.**"
   ]
  },
  {
   "cell_type": "markdown",
   "id": "b0931e47",
   "metadata": {},
   "source": [
    "# 10.0 Modelo final "
   ]
  },
  {
   "cell_type": "code",
   "execution_count": 32,
   "id": "58ee0e3e",
   "metadata": {
    "ExecuteTime": {
     "end_time": "2023-02-07T13:39:46.918418Z",
     "start_time": "2023-02-07T13:39:45.148648Z"
    }
   },
   "outputs": [],
   "source": [
    "#peso das categorias de todo dataset\n",
    "sample_weights = class_weight.compute_sample_weight(class_weight='balanced',y=y)\n",
    "\n",
    "#model\n",
    "xgb_model_final = xgb.XGBClassifier(seed = 42).fit(X,y,sample_weight=sample_weights)"
   ]
  },
  {
   "cell_type": "code",
   "execution_count": 35,
   "id": "5fda741a",
   "metadata": {
    "ExecuteTime": {
     "end_time": "2023-02-07T13:41:35.424595Z",
     "start_time": "2023-02-07T13:41:35.377702Z"
    }
   },
   "outputs": [],
   "source": [
    "# salvando o modelo em pickle\n",
    "# pickle.dump(xgb_model_final,open(path_local +'src/models/xgb_model_final.pkl','wb'))"
   ]
  }
 ],
 "metadata": {
  "kernelspec": {
   "display_name": "Python 3 (ipykernel)",
   "language": "python",
   "name": "python3"
  },
  "language_info": {
   "codemirror_mode": {
    "name": "ipython",
    "version": 3
   },
   "file_extension": ".py",
   "mimetype": "text/x-python",
   "name": "python",
   "nbconvert_exporter": "python",
   "pygments_lexer": "ipython3",
   "version": "3.8.16"
  }
 },
 "nbformat": 4,
 "nbformat_minor": 5
}
