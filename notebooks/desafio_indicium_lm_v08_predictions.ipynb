{
 "cells": [
  {
   "cell_type": "markdown",
   "id": "ec459904",
   "metadata": {},
   "source": [
    "# imports"
   ]
  },
  {
   "cell_type": "code",
   "execution_count": 2,
   "id": "ce23a0a5",
   "metadata": {
    "ExecuteTime": {
     "end_time": "2023-02-07T13:47:29.287100Z",
     "start_time": "2023-02-07T13:47:26.477328Z"
    }
   },
   "outputs": [],
   "source": [
    "#manipulação de dados\n",
    "import pandas as pd\n",
    "import numpy  as np\n",
    "\n",
    "#visualização\n",
    "import matplotlib.pyplot as plt\n",
    "import seaborn           as sns\n",
    "from IPython.core.display import HTML\n",
    "from IPython.display      import Image\n",
    "\n",
    "# processamento de dados\n",
    "from sklearn.model_selection import train_test_split\n",
    "from sklearn.utils import class_weight\n",
    "import pickle\n",
    "\n",
    "#machine learning models\n",
    "import xgboost as xgb\n",
    "\n",
    "#metricas\n",
    "from sklearn.metrics import accuracy_score, balanced_accuracy_score,precision_score,recall_score,roc_auc_score, confusion_matrix,f1_score"
   ]
  },
  {
   "cell_type": "markdown",
   "id": "11a50ae4",
   "metadata": {
    "heading_collapsed": true
   },
   "source": [
    "## Helper functions "
   ]
  },
  {
   "cell_type": "code",
   "execution_count": 3,
   "id": "d5de0534",
   "metadata": {
    "ExecuteTime": {
     "end_time": "2023-02-07T13:47:29.368215Z",
     "start_time": "2023-02-07T13:47:29.287100Z"
    },
    "hidden": true
   },
   "outputs": [
    {
     "name": "stdout",
     "output_type": "stream",
     "text": [
      "%pylab is deprecated, use %matplotlib inline and import the required libraries.\n",
      "Populating the interactive namespace from numpy and matplotlib\n"
     ]
    },
    {
     "data": {
      "text/html": [
       "<style>.container { width:100% !important; }</style>"
      ],
      "text/plain": [
       "<IPython.core.display.HTML object>"
      ]
     },
     "metadata": {},
     "output_type": "display_data"
    }
   ],
   "source": [
    "def jupyter_settings():\n",
    "    %matplotlib inline\n",
    "    %pylab inline\n",
    "    plt.style.use( 'bmh' )\n",
    "    plt.rcParams['figure.figsize'] = [25, 12]\n",
    "    plt.rcParams['font.size'] = 24\n",
    "    display( HTML( '<style>.container { width:100% !important; }</style>') )\n",
    "    sns.set()\n",
    "jupyter_settings()"
   ]
  },
  {
   "cell_type": "code",
   "execution_count": 4,
   "id": "c99dde21",
   "metadata": {
    "ExecuteTime": {
     "end_time": "2023-02-07T13:47:29.386866Z",
     "start_time": "2023-02-07T13:47:29.371228Z"
    },
    "hidden": true
   },
   "outputs": [],
   "source": [
    "def mult_metrics(model_name,y,yhat):\n",
    "    return pd.DataFrame({'mode_name':model_name,\n",
    "             'precison_multclass':precision_score(y,yhat,average='macro'),\n",
    "             'recall_multclass':recall_score(y,yhat,average='macro'),\n",
    "              'f1-score_multclass':f1_score(y,yhat,average='macro'),\n",
    "             'balanced_score':balanced_accuracy_score(y,yhat)},index=[0])\n",
    "    "
   ]
  },
  {
   "cell_type": "code",
   "execution_count": 5,
   "id": "44eb5810",
   "metadata": {
    "ExecuteTime": {
     "end_time": "2023-02-07T13:47:29.418130Z",
     "start_time": "2023-02-07T13:47:29.386866Z"
    },
    "hidden": true
   },
   "outputs": [],
   "source": [
    "def confusion_m(y,yhat):\n",
    "    from sklearn.metrics import confusion_matrix\n",
    "    ax= plt.subplot()\n",
    "    cm = confusion_matrix(y,yhat)\n",
    "    sns.heatmap(cm,annot=True,ax=ax,annot_kws={'size': 20})\n",
    "    ax.set_xlabel('Predicted labels');ax.set_ylabel('True labels'); \n",
    "    ax.set_title('Confusion Matrix'); \n",
    "    ax.xaxis.set_ticklabels(['Heat Dissipation Failure', 'No Failure','Overstrain Failure','Power Failure','Random Failures','Tool Wear Failure']); ax.yaxis.set_ticklabels(['Heat Dissipation Failure', 'No Failure','Overstrain Failure','Power Failure','Random Failures','Tool Wear Failure']);\n",
    "    plt.yticks(rotation=0) ;"
   ]
  },
  {
   "cell_type": "code",
   "execution_count": 6,
   "id": "0dc1298d",
   "metadata": {
    "ExecuteTime": {
     "end_time": "2023-02-07T13:47:29.464992Z",
     "start_time": "2023-02-07T13:47:29.433790Z"
    },
    "hidden": true
   },
   "outputs": [],
   "source": [
    "def performace_cross_val(data, target, model, model_name, round_n=3, splits=3, shuffle_n=True, random=42):\n",
    "    import sklearn.model_selection as ms\n",
    "    import sklearn.metrics\n",
    "    import numpy as np\n",
    "    skf = ms.StratifiedKFold(n_splits=splits, shuffle=shuffle_n, random_state=random)\n",
    "    X = data\n",
    "    y = X[target]\n",
    "    X = X.drop(columns=[target, 'product_id'])\n",
    "    precision = []\n",
    "    recall = []\n",
    "    balan_acc = []\n",
    "    f1 = []\n",
    "    for train_index, test_index in skf.split(X, y):\n",
    "        # train the model\n",
    "        model.fit(X.iloc[train_index], y.iloc[train_index])\n",
    "\n",
    "        # predict the classification\n",
    "        yhat_class = model.predict(X.iloc[test_index])\n",
    "\n",
    "        # precision and recall\n",
    "        prec = sklearn.metrics.precision_score(y.iloc[test_index], yhat_class,average='macro')\n",
    "        rec = sklearn.metrics.recall_score(y.iloc[test_index], yhat_class,average='macro')\n",
    "        balan_acc_score = sklearn.metrics.balanced_accuracy_score(y.iloc[test_index], yhat_class)\n",
    "        f1_score = sklearn.metrics.f1_score(y.iloc[test_index], yhat_class,average='macro')\n",
    "        precision.append(prec)\n",
    "        recall.append(rec)\n",
    "        balan_acc.append(balan_acc_score)\n",
    "        f1.append(f1_score)\n",
    "\n",
    "    # return a dataset with the metrics\n",
    "    return pd.DataFrame({'Model name': model_name + \" Cross_Val\",\n",
    "                         'precison_multclass_cv': np.round(np.mean(precision), round_n),\n",
    "                         'precison_std': np.round(np.std(precision), round_n),\n",
    "                         'recall_multclass_cv': np.round(np.mean(recall), round_n),\n",
    "                         'recall_cv': np.round(np.std(recall), round_n),\n",
    "                         'balanced_score_cv': np.round(np.mean(balan_acc), round_n),\n",
    "                         'balanced_std': np.round(np.std(balan_acc), round_n),\n",
    "                         'f1_score_cv': np.round(np.mean(f1), round_n),\n",
    "                         'f1_std': np.round(np.std(f1), round_n)},index=[0])\n"
   ]
  },
  {
   "cell_type": "code",
   "execution_count": 7,
   "id": "15954628",
   "metadata": {
    "ExecuteTime": {
     "end_time": "2023-02-07T13:47:29.501849Z",
     "start_time": "2023-02-07T13:47:29.464992Z"
    },
    "hidden": true
   },
   "outputs": [],
   "source": [
    "def performace_cross_val_boost(data, target, model, model_name, round_n=3, splits=3, shuffle_n=True, random=42):\n",
    "    import sklearn.model_selection as ms\n",
    "    import sklearn.metrics\n",
    "    import numpy as np\n",
    "    skf = ms.StratifiedKFold(n_splits=splits, shuffle=shuffle_n, random_state=random)\n",
    "    X = data\n",
    "    y = X[target]\n",
    "    X = X.drop(columns=[target, 'product_id'])\n",
    "    precision = []\n",
    "    recall = []\n",
    "    balan_acc = []\n",
    "    f1 = []\n",
    "    for train_index, test_index in skf.split(X, y):\n",
    "        # train the model\n",
    "        weight = class_weight.compute_sample_weight(class_weight='balanced',y=y.iloc[train_index])\n",
    "        model.fit(X.iloc[train_index], y.iloc[train_index],sample_weight=weight)\n",
    "\n",
    "        # predict the classification\n",
    "        yhat_class = model.predict(X.iloc[test_index])\n",
    "\n",
    "        # precision and recall\n",
    "        prec = sklearn.metrics.precision_score(y.iloc[test_index], yhat_class,average='macro')\n",
    "        rec = sklearn.metrics.recall_score(y.iloc[test_index], yhat_class,average='macro')\n",
    "        balan_acc_score = sklearn.metrics.balanced_accuracy_score(y.iloc[test_index], yhat_class)\n",
    "        f1_score = sklearn.metrics.f1_score(y.iloc[test_index], yhat_class,average='macro')\n",
    "        precision.append(prec)\n",
    "        recall.append(rec)\n",
    "        balan_acc.append(balan_acc_score)\n",
    "        f1.append(f1_score)\n",
    "\n",
    "    # return a dataset with the metrics\n",
    "    return pd.DataFrame({'Model name': model_name + \" Cross_Val\",\n",
    "                         'precison_multclass_cv': np.round(np.mean(precision), round_n),\n",
    "                         'precison_std': np.round(np.std(precision), round_n),\n",
    "                         'recall_multclass_cv': np.round(np.mean(recall), round_n),\n",
    "                         'recall_cv': np.round(np.std(recall), round_n),\n",
    "                         'balanced_score_cv': np.round(np.mean(balan_acc), round_n),\n",
    "                         'balanced_std': np.round(np.std(balan_acc), round_n),\n",
    "                         'f1_score_cv': np.round(np.mean(f1), round_n),\n",
    "                         'f1_std': np.round(np.std(f1), round_n)},index=[0])"
   ]
  },
  {
   "cell_type": "markdown",
   "id": "ac8a74dc",
   "metadata": {},
   "source": [
    "# Load test data"
   ]
  },
  {
   "cell_type": "code",
   "execution_count": 8,
   "id": "e762f6a7",
   "metadata": {
    "ExecuteTime": {
     "end_time": "2023-02-07T13:47:37.149812Z",
     "start_time": "2023-02-07T13:47:37.103503Z"
    }
   },
   "outputs": [],
   "source": [
    "path_local = 'C:/Users/Lavin/Documents/desafios/desafio_indicium/'\n",
    "df_test = pd.read_csv(path_local + 'data/raw/desafio_manutencao_preditiva_teste.csv')"
   ]
  },
  {
   "cell_type": "code",
   "execution_count": 9,
   "id": "5261bffe",
   "metadata": {
    "ExecuteTime": {
     "end_time": "2023-02-07T13:47:42.044482Z",
     "start_time": "2023-02-07T13:47:41.997878Z"
    },
    "scrolled": true
   },
   "outputs": [
    {
     "data": {
      "text/html": [
       "<div>\n",
       "<style scoped>\n",
       "    .dataframe tbody tr th:only-of-type {\n",
       "        vertical-align: middle;\n",
       "    }\n",
       "\n",
       "    .dataframe tbody tr th {\n",
       "        vertical-align: top;\n",
       "    }\n",
       "\n",
       "    .dataframe thead th {\n",
       "        text-align: right;\n",
       "    }\n",
       "</style>\n",
       "<table border=\"1\" class=\"dataframe\">\n",
       "  <thead>\n",
       "    <tr style=\"text-align: right;\">\n",
       "      <th></th>\n",
       "      <th>udi</th>\n",
       "      <th>product_id</th>\n",
       "      <th>type</th>\n",
       "      <th>air_temperature_k</th>\n",
       "      <th>process_temperature_k</th>\n",
       "      <th>rotational_speed_rpm</th>\n",
       "      <th>torque_nm</th>\n",
       "      <th>tool_wear_min</th>\n",
       "    </tr>\n",
       "  </thead>\n",
       "  <tbody>\n",
       "    <tr>\n",
       "      <th>0</th>\n",
       "      <td>446</td>\n",
       "      <td>L47625</td>\n",
       "      <td>L</td>\n",
       "      <td>297.5</td>\n",
       "      <td>308.6</td>\n",
       "      <td>1793</td>\n",
       "      <td>26.7</td>\n",
       "      <td>70</td>\n",
       "    </tr>\n",
       "    <tr>\n",
       "      <th>1</th>\n",
       "      <td>7076</td>\n",
       "      <td>L54255</td>\n",
       "      <td>L</td>\n",
       "      <td>300.7</td>\n",
       "      <td>310.5</td>\n",
       "      <td>1536</td>\n",
       "      <td>47.4</td>\n",
       "      <td>192</td>\n",
       "    </tr>\n",
       "    <tr>\n",
       "      <th>2</th>\n",
       "      <td>1191</td>\n",
       "      <td>L48370</td>\n",
       "      <td>L</td>\n",
       "      <td>297.2</td>\n",
       "      <td>308.4</td>\n",
       "      <td>1460</td>\n",
       "      <td>42.1</td>\n",
       "      <td>41</td>\n",
       "    </tr>\n",
       "    <tr>\n",
       "      <th>3</th>\n",
       "      <td>2618</td>\n",
       "      <td>L49797</td>\n",
       "      <td>L</td>\n",
       "      <td>299.4</td>\n",
       "      <td>309.1</td>\n",
       "      <td>1670</td>\n",
       "      <td>35.9</td>\n",
       "      <td>68</td>\n",
       "    </tr>\n",
       "    <tr>\n",
       "      <th>4</th>\n",
       "      <td>5067</td>\n",
       "      <td>L52246</td>\n",
       "      <td>L</td>\n",
       "      <td>304.1</td>\n",
       "      <td>313.1</td>\n",
       "      <td>1550</td>\n",
       "      <td>30.9</td>\n",
       "      <td>9</td>\n",
       "    </tr>\n",
       "    <tr>\n",
       "      <th>...</th>\n",
       "      <td>...</td>\n",
       "      <td>...</td>\n",
       "      <td>...</td>\n",
       "      <td>...</td>\n",
       "      <td>...</td>\n",
       "      <td>...</td>\n",
       "      <td>...</td>\n",
       "      <td>...</td>\n",
       "    </tr>\n",
       "    <tr>\n",
       "      <th>3328</th>\n",
       "      <td>5554</td>\n",
       "      <td>L52733</td>\n",
       "      <td>L</td>\n",
       "      <td>302.5</td>\n",
       "      <td>311.9</td>\n",
       "      <td>1306</td>\n",
       "      <td>59.7</td>\n",
       "      <td>172</td>\n",
       "    </tr>\n",
       "    <tr>\n",
       "      <th>3329</th>\n",
       "      <td>6961</td>\n",
       "      <td>L54140</td>\n",
       "      <td>L</td>\n",
       "      <td>300.7</td>\n",
       "      <td>311.0</td>\n",
       "      <td>1413</td>\n",
       "      <td>52.0</td>\n",
       "      <td>91</td>\n",
       "    </tr>\n",
       "    <tr>\n",
       "      <th>3330</th>\n",
       "      <td>6914</td>\n",
       "      <td>L54093</td>\n",
       "      <td>L</td>\n",
       "      <td>300.8</td>\n",
       "      <td>311.2</td>\n",
       "      <td>1481</td>\n",
       "      <td>38.5</td>\n",
       "      <td>181</td>\n",
       "    </tr>\n",
       "    <tr>\n",
       "      <th>3331</th>\n",
       "      <td>5510</td>\n",
       "      <td>L52689</td>\n",
       "      <td>L</td>\n",
       "      <td>302.8</td>\n",
       "      <td>312.2</td>\n",
       "      <td>1509</td>\n",
       "      <td>36.5</td>\n",
       "      <td>52</td>\n",
       "    </tr>\n",
       "    <tr>\n",
       "      <th>3332</th>\n",
       "      <td>3066</td>\n",
       "      <td>M17925</td>\n",
       "      <td>M</td>\n",
       "      <td>300.1</td>\n",
       "      <td>309.2</td>\n",
       "      <td>1687</td>\n",
       "      <td>27.7</td>\n",
       "      <td>95</td>\n",
       "    </tr>\n",
       "  </tbody>\n",
       "</table>\n",
       "<p>3333 rows × 8 columns</p>\n",
       "</div>"
      ],
      "text/plain": [
       "       udi product_id type  air_temperature_k  process_temperature_k  \\\n",
       "0      446     L47625    L              297.5                  308.6   \n",
       "1     7076     L54255    L              300.7                  310.5   \n",
       "2     1191     L48370    L              297.2                  308.4   \n",
       "3     2618     L49797    L              299.4                  309.1   \n",
       "4     5067     L52246    L              304.1                  313.1   \n",
       "...    ...        ...  ...                ...                    ...   \n",
       "3328  5554     L52733    L              302.5                  311.9   \n",
       "3329  6961     L54140    L              300.7                  311.0   \n",
       "3330  6914     L54093    L              300.8                  311.2   \n",
       "3331  5510     L52689    L              302.8                  312.2   \n",
       "3332  3066     M17925    M              300.1                  309.2   \n",
       "\n",
       "      rotational_speed_rpm  torque_nm  tool_wear_min  \n",
       "0                     1793       26.7             70  \n",
       "1                     1536       47.4            192  \n",
       "2                     1460       42.1             41  \n",
       "3                     1670       35.9             68  \n",
       "4                     1550       30.9              9  \n",
       "...                    ...        ...            ...  \n",
       "3328                  1306       59.7            172  \n",
       "3329                  1413       52.0             91  \n",
       "3330                  1481       38.5            181  \n",
       "3331                  1509       36.5             52  \n",
       "3332                  1687       27.7             95  \n",
       "\n",
       "[3333 rows x 8 columns]"
      ]
     },
     "execution_count": 9,
     "metadata": {},
     "output_type": "execute_result"
    }
   ],
   "source": [
    "df_test"
   ]
  },
  {
   "cell_type": "markdown",
   "id": "e009ab6e",
   "metadata": {},
   "source": [
    "# Prepare data"
   ]
  },
  {
   "cell_type": "code",
   "execution_count": 9,
   "id": "ebc1691c",
   "metadata": {
    "ExecuteTime": {
     "end_time": "2023-02-07T13:18:51.366560Z",
     "start_time": "2023-02-07T13:18:51.344411Z"
    }
   },
   "outputs": [],
   "source": [
    "def feature"
   ]
  },
  {
   "cell_type": "code",
   "execution_count": 10,
   "id": "272f6970",
   "metadata": {
    "ExecuteTime": {
     "end_time": "2023-02-07T13:18:51.397811Z",
     "start_time": "2023-02-07T13:18:51.366560Z"
    }
   },
   "outputs": [],
   "source": [
    "X_train, X_val, y_train, y_val = train_test_split(X, y, test_size=0.3, random_state=42,stratify=y)"
   ]
  },
  {
   "cell_type": "code",
   "execution_count": 11,
   "id": "3d8b72e3",
   "metadata": {
    "ExecuteTime": {
     "end_time": "2023-02-07T13:18:51.429061Z",
     "start_time": "2023-02-07T13:18:51.397811Z"
    }
   },
   "outputs": [
    {
     "data": {
      "text/plain": [
       "(4666, 6)"
      ]
     },
     "execution_count": 11,
     "metadata": {},
     "output_type": "execute_result"
    }
   ],
   "source": [
    "X_train.shape"
   ]
  },
  {
   "cell_type": "code",
   "execution_count": 12,
   "id": "c25debf7",
   "metadata": {
    "ExecuteTime": {
     "end_time": "2023-02-07T13:18:51.444686Z",
     "start_time": "2023-02-07T13:18:51.429061Z"
    }
   },
   "outputs": [
    {
     "data": {
      "text/plain": [
       "(2001, 6)"
      ]
     },
     "execution_count": 12,
     "metadata": {},
     "output_type": "execute_result"
    }
   ],
   "source": [
    "X_val.shape"
   ]
  },
  {
   "cell_type": "markdown",
   "id": "b0931e47",
   "metadata": {},
   "source": [
    "# 10.0 Modelo final "
   ]
  },
  {
   "cell_type": "code",
   "execution_count": 32,
   "id": "58ee0e3e",
   "metadata": {
    "ExecuteTime": {
     "end_time": "2023-02-07T13:39:46.918418Z",
     "start_time": "2023-02-07T13:39:45.148648Z"
    }
   },
   "outputs": [],
   "source": [
    "#peso das categorias de todo dataset\n",
    "sample_weights = class_weight.compute_sample_weight(class_weight='balanced',y=y)\n",
    "\n",
    "#model\n",
    "xgb_model_final = xgb.XGBClassifier(seed = 42).fit(X,y,sample_weight=sample_weights)"
   ]
  },
  {
   "cell_type": "code",
   "execution_count": 35,
   "id": "5fda741a",
   "metadata": {
    "ExecuteTime": {
     "end_time": "2023-02-07T13:41:35.424595Z",
     "start_time": "2023-02-07T13:41:35.377702Z"
    }
   },
   "outputs": [],
   "source": [
    "# salvando o modelo em pickle\n",
    "pickle.dump(xgb_model_final,open(path_local +'src/models/xgb_model_final.pkl','wb'))"
   ]
  }
 ],
 "metadata": {
  "kernelspec": {
   "display_name": "Python 3 (ipykernel)",
   "language": "python",
   "name": "python3"
  },
  "language_info": {
   "codemirror_mode": {
    "name": "ipython",
    "version": 3
   },
   "file_extension": ".py",
   "mimetype": "text/x-python",
   "name": "python",
   "nbconvert_exporter": "python",
   "pygments_lexer": "ipython3",
   "version": "3.8.16"
  }
 },
 "nbformat": 4,
 "nbformat_minor": 5
}
