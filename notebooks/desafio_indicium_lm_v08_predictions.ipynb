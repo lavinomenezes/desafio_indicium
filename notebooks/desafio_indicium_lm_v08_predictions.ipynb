{
 "cells": [
  {
   "cell_type": "markdown",
   "id": "ec459904",
   "metadata": {},
   "source": [
    "# imports"
   ]
  },
  {
   "cell_type": "code",
   "execution_count": 1,
   "id": "ce23a0a5",
   "metadata": {
    "ExecuteTime": {
     "end_time": "2023-02-07T21:25:49.615908Z",
     "start_time": "2023-02-07T21:25:46.894310Z"
    }
   },
   "outputs": [],
   "source": [
    "#manipulação de dados\n",
    "import pandas as pd\n",
    "import numpy  as np\n",
    "\n",
    "#visualização\n",
    "import matplotlib.pyplot as plt\n",
    "import seaborn           as sns\n",
    "from IPython.core.display import HTML\n",
    "from IPython.display      import Image\n",
    "\n",
    "# processamento de dados\n",
    "from sklearn.model_selection import train_test_split\n",
    "from sklearn.utils import class_weight\n",
    "import pickle\n",
    "\n",
    "#machine learning models\n",
    "import xgboost as xgb\n",
    "\n",
    "#metricas\n",
    "from sklearn.metrics import accuracy_score, balanced_accuracy_score,precision_score,recall_score,roc_auc_score, confusion_matrix,f1_score"
   ]
  },
  {
   "cell_type": "markdown",
   "id": "11a50ae4",
   "metadata": {
    "heading_collapsed": true
   },
   "source": [
    "## Helper functions "
   ]
  },
  {
   "cell_type": "code",
   "execution_count": 2,
   "id": "d5de0534",
   "metadata": {
    "ExecuteTime": {
     "end_time": "2023-02-07T21:25:49.716200Z",
     "start_time": "2023-02-07T21:25:49.631542Z"
    },
    "hidden": true
   },
   "outputs": [
    {
     "name": "stdout",
     "output_type": "stream",
     "text": [
      "%pylab is deprecated, use %matplotlib inline and import the required libraries.\n",
      "Populating the interactive namespace from numpy and matplotlib\n"
     ]
    },
    {
     "data": {
      "text/html": [
       "<style>.container { width:100% !important; }</style>"
      ],
      "text/plain": [
       "<IPython.core.display.HTML object>"
      ]
     },
     "metadata": {},
     "output_type": "display_data"
    }
   ],
   "source": [
    "def jupyter_settings():\n",
    "    %matplotlib inline\n",
    "    %pylab inline\n",
    "    plt.style.use( 'bmh' )\n",
    "    plt.rcParams['figure.figsize'] = [25, 12]\n",
    "    plt.rcParams['font.size'] = 24\n",
    "    display( HTML( '<style>.container { width:100% !important; }</style>') )\n",
    "    sns.set()\n",
    "jupyter_settings()"
   ]
  },
  {
   "cell_type": "code",
   "execution_count": 3,
   "id": "c99dde21",
   "metadata": {
    "ExecuteTime": {
     "end_time": "2023-02-07T21:25:49.747435Z",
     "start_time": "2023-02-07T21:25:49.716200Z"
    },
    "hidden": true
   },
   "outputs": [],
   "source": [
    "def mult_metrics(model_name,y,yhat):\n",
    "    return pd.DataFrame({'mode_name':model_name,\n",
    "             'precison_multclass':precision_score(y,yhat,average='macro'),\n",
    "             'recall_multclass':recall_score(y,yhat,average='macro'),\n",
    "              'f1-score_multclass':f1_score(y,yhat,average='macro'),\n",
    "             'balanced_score':balanced_accuracy_score(y,yhat)},index=[0])\n",
    "    "
   ]
  },
  {
   "cell_type": "code",
   "execution_count": 4,
   "id": "44eb5810",
   "metadata": {
    "ExecuteTime": {
     "end_time": "2023-02-07T21:25:49.778689Z",
     "start_time": "2023-02-07T21:25:49.747435Z"
    },
    "hidden": true
   },
   "outputs": [],
   "source": [
    "def confusion_m(y,yhat):\n",
    "    from sklearn.metrics import confusion_matrix\n",
    "    ax= plt.subplot()\n",
    "    cm = confusion_matrix(y,yhat)\n",
    "    sns.heatmap(cm,annot=True,ax=ax,annot_kws={'size': 20})\n",
    "    ax.set_xlabel('Predicted labels');ax.set_ylabel('True labels'); \n",
    "    ax.set_title('Confusion Matrix'); \n",
    "    ax.xaxis.set_ticklabels(['Heat Dissipation Failure', 'No Failure','Overstrain Failure','Power Failure','Random Failures','Tool Wear Failure']); ax.yaxis.set_ticklabels(['Heat Dissipation Failure', 'No Failure','Overstrain Failure','Power Failure','Random Failures','Tool Wear Failure']);\n",
    "    plt.yticks(rotation=0) ;"
   ]
  },
  {
   "cell_type": "code",
   "execution_count": 5,
   "id": "0dc1298d",
   "metadata": {
    "ExecuteTime": {
     "end_time": "2023-02-07T21:25:49.816466Z",
     "start_time": "2023-02-07T21:25:49.778689Z"
    },
    "hidden": true
   },
   "outputs": [],
   "source": [
    "def performace_cross_val(data, target, model, model_name, round_n=3, splits=3, shuffle_n=True, random=42):\n",
    "    import sklearn.model_selection as ms\n",
    "    import sklearn.metrics\n",
    "    import numpy as np\n",
    "    skf = ms.StratifiedKFold(n_splits=splits, shuffle=shuffle_n, random_state=random)\n",
    "    X = data\n",
    "    y = X[target]\n",
    "    X = X.drop(columns=[target, 'product_id'])\n",
    "    precision = []\n",
    "    recall = []\n",
    "    balan_acc = []\n",
    "    f1 = []\n",
    "    for train_index, test_index in skf.split(X, y):\n",
    "        # train the model\n",
    "        model.fit(X.iloc[train_index], y.iloc[train_index])\n",
    "\n",
    "        # predict the classification\n",
    "        yhat_class = model.predict(X.iloc[test_index])\n",
    "\n",
    "        # precision and recall\n",
    "        prec = sklearn.metrics.precision_score(y.iloc[test_index], yhat_class,average='macro')\n",
    "        rec = sklearn.metrics.recall_score(y.iloc[test_index], yhat_class,average='macro')\n",
    "        balan_acc_score = sklearn.metrics.balanced_accuracy_score(y.iloc[test_index], yhat_class)\n",
    "        f1_score = sklearn.metrics.f1_score(y.iloc[test_index], yhat_class,average='macro')\n",
    "        precision.append(prec)\n",
    "        recall.append(rec)\n",
    "        balan_acc.append(balan_acc_score)\n",
    "        f1.append(f1_score)\n",
    "\n",
    "    # return a dataset with the metrics\n",
    "    return pd.DataFrame({'Model name': model_name + \" Cross_Val\",\n",
    "                         'precison_multclass_cv': np.round(np.mean(precision), round_n),\n",
    "                         'precison_std': np.round(np.std(precision), round_n),\n",
    "                         'recall_multclass_cv': np.round(np.mean(recall), round_n),\n",
    "                         'recall_cv': np.round(np.std(recall), round_n),\n",
    "                         'balanced_score_cv': np.round(np.mean(balan_acc), round_n),\n",
    "                         'balanced_std': np.round(np.std(balan_acc), round_n),\n",
    "                         'f1_score_cv': np.round(np.mean(f1), round_n),\n",
    "                         'f1_std': np.round(np.std(f1), round_n)},index=[0])\n"
   ]
  },
  {
   "cell_type": "code",
   "execution_count": 6,
   "id": "15954628",
   "metadata": {
    "ExecuteTime": {
     "end_time": "2023-02-07T21:25:49.863348Z",
     "start_time": "2023-02-07T21:25:49.816466Z"
    },
    "hidden": true
   },
   "outputs": [],
   "source": [
    "def performace_cross_val_boost(data, target, model, model_name, round_n=3, splits=3, shuffle_n=True, random=42):\n",
    "    import sklearn.model_selection as ms\n",
    "    import sklearn.metrics\n",
    "    import numpy as np\n",
    "    skf = ms.StratifiedKFold(n_splits=splits, shuffle=shuffle_n, random_state=random)\n",
    "    X = data\n",
    "    y = X[target]\n",
    "    X = X.drop(columns=[target, 'product_id'])\n",
    "    precision = []\n",
    "    recall = []\n",
    "    balan_acc = []\n",
    "    f1 = []\n",
    "    for train_index, test_index in skf.split(X, y):\n",
    "        # train the model\n",
    "        weight = class_weight.compute_sample_weight(class_weight='balanced',y=y.iloc[train_index])\n",
    "        model.fit(X.iloc[train_index], y.iloc[train_index],sample_weight=weight)\n",
    "\n",
    "        # predict the classification\n",
    "        yhat_class = model.predict(X.iloc[test_index])\n",
    "\n",
    "        # precision and recall\n",
    "        prec = sklearn.metrics.precision_score(y.iloc[test_index], yhat_class,average='macro')\n",
    "        rec = sklearn.metrics.recall_score(y.iloc[test_index], yhat_class,average='macro')\n",
    "        balan_acc_score = sklearn.metrics.balanced_accuracy_score(y.iloc[test_index], yhat_class)\n",
    "        f1_score = sklearn.metrics.f1_score(y.iloc[test_index], yhat_class,average='macro')\n",
    "        precision.append(prec)\n",
    "        recall.append(rec)\n",
    "        balan_acc.append(balan_acc_score)\n",
    "        f1.append(f1_score)\n",
    "\n",
    "    # return a dataset with the metrics\n",
    "    return pd.DataFrame({'Model name': model_name + \" Cross_Val\",\n",
    "                         'precison_multclass_cv': np.round(np.mean(precision), round_n),\n",
    "                         'precison_std': np.round(np.std(precision), round_n),\n",
    "                         'recall_multclass_cv': np.round(np.mean(recall), round_n),\n",
    "                         'recall_cv': np.round(np.std(recall), round_n),\n",
    "                         'balanced_score_cv': np.round(np.mean(balan_acc), round_n),\n",
    "                         'balanced_std': np.round(np.std(balan_acc), round_n),\n",
    "                         'f1_score_cv': np.round(np.mean(f1), round_n),\n",
    "                         'f1_std': np.round(np.std(f1), round_n)},index=[0])"
   ]
  },
  {
   "cell_type": "markdown",
   "id": "ac8a74dc",
   "metadata": {
    "heading_collapsed": true
   },
   "source": [
    "# Load test data"
   ]
  },
  {
   "cell_type": "code",
   "execution_count": 7,
   "id": "e762f6a7",
   "metadata": {
    "ExecuteTime": {
     "end_time": "2023-02-07T21:25:49.894592Z",
     "start_time": "2023-02-07T21:25:49.863348Z"
    },
    "hidden": true
   },
   "outputs": [],
   "source": [
    "path_local = 'C:/Users/Lavin/Documents/desafios/desafio_indicium/'\n",
    "df_test = pd.read_csv(path_local + 'data/raw/desafio_manutencao_preditiva_teste.csv')"
   ]
  },
  {
   "cell_type": "code",
   "execution_count": 8,
   "id": "5261bffe",
   "metadata": {
    "ExecuteTime": {
     "end_time": "2023-02-07T21:25:49.953844Z",
     "start_time": "2023-02-07T21:25:49.899924Z"
    },
    "hidden": true,
    "scrolled": true
   },
   "outputs": [
    {
     "data": {
      "text/html": [
       "<div>\n",
       "<style scoped>\n",
       "    .dataframe tbody tr th:only-of-type {\n",
       "        vertical-align: middle;\n",
       "    }\n",
       "\n",
       "    .dataframe tbody tr th {\n",
       "        vertical-align: top;\n",
       "    }\n",
       "\n",
       "    .dataframe thead th {\n",
       "        text-align: right;\n",
       "    }\n",
       "</style>\n",
       "<table border=\"1\" class=\"dataframe\">\n",
       "  <thead>\n",
       "    <tr style=\"text-align: right;\">\n",
       "      <th></th>\n",
       "      <th>udi</th>\n",
       "      <th>product_id</th>\n",
       "      <th>type</th>\n",
       "      <th>air_temperature_k</th>\n",
       "      <th>process_temperature_k</th>\n",
       "      <th>rotational_speed_rpm</th>\n",
       "      <th>torque_nm</th>\n",
       "      <th>tool_wear_min</th>\n",
       "    </tr>\n",
       "  </thead>\n",
       "  <tbody>\n",
       "    <tr>\n",
       "      <th>0</th>\n",
       "      <td>446</td>\n",
       "      <td>L47625</td>\n",
       "      <td>L</td>\n",
       "      <td>297.5</td>\n",
       "      <td>308.6</td>\n",
       "      <td>1793</td>\n",
       "      <td>26.7</td>\n",
       "      <td>70</td>\n",
       "    </tr>\n",
       "    <tr>\n",
       "      <th>1</th>\n",
       "      <td>7076</td>\n",
       "      <td>L54255</td>\n",
       "      <td>L</td>\n",
       "      <td>300.7</td>\n",
       "      <td>310.5</td>\n",
       "      <td>1536</td>\n",
       "      <td>47.4</td>\n",
       "      <td>192</td>\n",
       "    </tr>\n",
       "    <tr>\n",
       "      <th>2</th>\n",
       "      <td>1191</td>\n",
       "      <td>L48370</td>\n",
       "      <td>L</td>\n",
       "      <td>297.2</td>\n",
       "      <td>308.4</td>\n",
       "      <td>1460</td>\n",
       "      <td>42.1</td>\n",
       "      <td>41</td>\n",
       "    </tr>\n",
       "    <tr>\n",
       "      <th>3</th>\n",
       "      <td>2618</td>\n",
       "      <td>L49797</td>\n",
       "      <td>L</td>\n",
       "      <td>299.4</td>\n",
       "      <td>309.1</td>\n",
       "      <td>1670</td>\n",
       "      <td>35.9</td>\n",
       "      <td>68</td>\n",
       "    </tr>\n",
       "    <tr>\n",
       "      <th>4</th>\n",
       "      <td>5067</td>\n",
       "      <td>L52246</td>\n",
       "      <td>L</td>\n",
       "      <td>304.1</td>\n",
       "      <td>313.1</td>\n",
       "      <td>1550</td>\n",
       "      <td>30.9</td>\n",
       "      <td>9</td>\n",
       "    </tr>\n",
       "    <tr>\n",
       "      <th>...</th>\n",
       "      <td>...</td>\n",
       "      <td>...</td>\n",
       "      <td>...</td>\n",
       "      <td>...</td>\n",
       "      <td>...</td>\n",
       "      <td>...</td>\n",
       "      <td>...</td>\n",
       "      <td>...</td>\n",
       "    </tr>\n",
       "    <tr>\n",
       "      <th>3328</th>\n",
       "      <td>5554</td>\n",
       "      <td>L52733</td>\n",
       "      <td>L</td>\n",
       "      <td>302.5</td>\n",
       "      <td>311.9</td>\n",
       "      <td>1306</td>\n",
       "      <td>59.7</td>\n",
       "      <td>172</td>\n",
       "    </tr>\n",
       "    <tr>\n",
       "      <th>3329</th>\n",
       "      <td>6961</td>\n",
       "      <td>L54140</td>\n",
       "      <td>L</td>\n",
       "      <td>300.7</td>\n",
       "      <td>311.0</td>\n",
       "      <td>1413</td>\n",
       "      <td>52.0</td>\n",
       "      <td>91</td>\n",
       "    </tr>\n",
       "    <tr>\n",
       "      <th>3330</th>\n",
       "      <td>6914</td>\n",
       "      <td>L54093</td>\n",
       "      <td>L</td>\n",
       "      <td>300.8</td>\n",
       "      <td>311.2</td>\n",
       "      <td>1481</td>\n",
       "      <td>38.5</td>\n",
       "      <td>181</td>\n",
       "    </tr>\n",
       "    <tr>\n",
       "      <th>3331</th>\n",
       "      <td>5510</td>\n",
       "      <td>L52689</td>\n",
       "      <td>L</td>\n",
       "      <td>302.8</td>\n",
       "      <td>312.2</td>\n",
       "      <td>1509</td>\n",
       "      <td>36.5</td>\n",
       "      <td>52</td>\n",
       "    </tr>\n",
       "    <tr>\n",
       "      <th>3332</th>\n",
       "      <td>3066</td>\n",
       "      <td>M17925</td>\n",
       "      <td>M</td>\n",
       "      <td>300.1</td>\n",
       "      <td>309.2</td>\n",
       "      <td>1687</td>\n",
       "      <td>27.7</td>\n",
       "      <td>95</td>\n",
       "    </tr>\n",
       "  </tbody>\n",
       "</table>\n",
       "<p>3333 rows × 8 columns</p>\n",
       "</div>"
      ],
      "text/plain": [
       "       udi product_id type  air_temperature_k  process_temperature_k  \\\n",
       "0      446     L47625    L              297.5                  308.6   \n",
       "1     7076     L54255    L              300.7                  310.5   \n",
       "2     1191     L48370    L              297.2                  308.4   \n",
       "3     2618     L49797    L              299.4                  309.1   \n",
       "4     5067     L52246    L              304.1                  313.1   \n",
       "...    ...        ...  ...                ...                    ...   \n",
       "3328  5554     L52733    L              302.5                  311.9   \n",
       "3329  6961     L54140    L              300.7                  311.0   \n",
       "3330  6914     L54093    L              300.8                  311.2   \n",
       "3331  5510     L52689    L              302.8                  312.2   \n",
       "3332  3066     M17925    M              300.1                  309.2   \n",
       "\n",
       "      rotational_speed_rpm  torque_nm  tool_wear_min  \n",
       "0                     1793       26.7             70  \n",
       "1                     1536       47.4            192  \n",
       "2                     1460       42.1             41  \n",
       "3                     1670       35.9             68  \n",
       "4                     1550       30.9              9  \n",
       "...                    ...        ...            ...  \n",
       "3328                  1306       59.7            172  \n",
       "3329                  1413       52.0             91  \n",
       "3330                  1481       38.5            181  \n",
       "3331                  1509       36.5             52  \n",
       "3332                  1687       27.7             95  \n",
       "\n",
       "[3333 rows x 8 columns]"
      ]
     },
     "execution_count": 8,
     "metadata": {},
     "output_type": "execute_result"
    }
   ],
   "source": [
    "df_test"
   ]
  },
  {
   "cell_type": "markdown",
   "id": "e009ab6e",
   "metadata": {},
   "source": [
    "# Indicium class"
   ]
  },
  {
   "cell_type": "code",
   "execution_count": 9,
   "id": "ebc1691c",
   "metadata": {
    "ExecuteTime": {
     "end_time": "2023-02-07T21:25:50.000714Z",
     "start_time": "2023-02-07T21:25:49.953844Z"
    }
   },
   "outputs": [],
   "source": [
    "import pickle\n",
    "import numpy  as np\n",
    "import pandas as pd\n",
    "\n",
    "class indicium:\n",
    "    \n",
    "    def __init__( self ):\n",
    "        self.home_path = 'C:/Users/Lavin/Documents/desafios/desafio_indicium/'\n",
    "        self.rotational_speed_rpm_scaler =   pickle.load(open(self.home_path + 'src/features/rotational_speed_rpm_scaler.pkl','rb'))\n",
    "        self.torque_nm_scaler =              pickle.load(open(self.home_path + 'src/features/torque_nm_scaler.pkl','rb'))\n",
    "        self.air_temperature_k_scaler =      pickle.load(open(self.home_path + 'src/features/air_temperature_k_scaler.pkl','rb'))\n",
    "        self.process_temperature_k_scaler =  pickle.load(open(self.home_path + 'src/features/process_temperature_k_scaler.pkl','rb'))\n",
    "        self.tool_wear_min_scaler =          pickle.load(open(self.home_path + 'src/features/tool_wear_min_scaler.pkl','rb')) \n",
    "        self.power_w_scaler =                pickle.load(open(self.home_path + 'src/features/power_w_scaler.pkl','rb'))\n",
    "        self.encoding_failure_type =         pickle.load(open(self.home_path + 'src/features/encoding_failure_type.pkl','rb')) \n",
    "                                           \n",
    "    def data_cleaning(self,df1):\n",
    "        # nenhum processo de limpeza nesse ciclo\n",
    "                                           \n",
    "        return df1\n",
    "    \n",
    "    def feature_engineering(self,df2):\n",
    "           \n",
    "        # Nova coluna power_w\n",
    "        df2['power_w'] = df2['torque_nm'] * df2['rotational_speed_rpm'] * np.pi / 30                                    \n",
    "                                           \n",
    "        return df2\n",
    "    \n",
    "    def data_preparation(self,df3):\n",
    "    \n",
    "        #robustscaler\n",
    "        #aplicando a escala previamente salva\n",
    "        df3['rotational_speed_rpm'] = self.rotational_speed_rpm_scaler.transform(df3[['rotational_speed_rpm']].values)\n",
    "\n",
    "\n",
    "        #aplicando a escala previamente salva\n",
    "        df3['torque_nm'] =  self.torque_nm_scaler.transform(df3[['torque_nm']].values)\n",
    "\n",
    "        #min-max scaler\n",
    "        # aplicando a escala previamente salva\n",
    "        df3['air_temperature_k'] = self.air_temperature_k_scaler.transform(df3[['air_temperature_k']].values)\n",
    "\n",
    "\n",
    "        # aplicando a escala previamente salva\n",
    "        df3['process_temperature_k'] = self.process_temperature_k_scaler.transform(df3[['process_temperature_k']].values)\n",
    "\n",
    "\n",
    "        # aplicando a escala previamente salva\n",
    "        df3['tool_wear_min'] = self.tool_wear_min_scaler.transform(df3[['tool_wear_min']].values)\n",
    "\n",
    "        # aplicando a escala previamente salva\n",
    "        df3['power_w'] = self.power_w_scaler.transform(df3[['power_w']].values)\n",
    "\n",
    "\n",
    "\n",
    "        #frequêncy encoding\n",
    "        freq = np.round_(df3['type'].value_counts(normalize=True),2).to_dict()\n",
    "        df3['type'] = df3['type'].map(freq)\n",
    "                                           \n",
    "        #feature selection\n",
    "        cols_select_final = ['air_temperature_k',\n",
    "                             'process_temperature_k', \n",
    "                             'rotational_speed_rpm', \n",
    "                             'torque_nm','tool_wear_min', \n",
    "                             'power_w']\n",
    "        \n",
    "        return df3[cols_select_final]\n",
    "\n",
    "    def get_prediction( self, model, original_data, test_data ):\n",
    "        # model prediction\n",
    "        pred = model.predict( test_data )\n",
    "        \n",
    "        # join prediction into original data\n",
    "        original_data['predictedValues'] = pred\n",
    "        original_data['predictedValues'] = self.encoding_failure_type.inverse_transform(original_data[['prediction']])\n",
    "        \n",
    "        return original_data\n",
    "                                       "
   ]
  },
  {
   "cell_type": "markdown",
   "id": "b0931e47",
   "metadata": {},
   "source": [
    "# 10.0 previsão"
   ]
  },
  {
   "cell_type": "code",
   "execution_count": 10,
   "id": "58ee0e3e",
   "metadata": {
    "ExecuteTime": {
     "end_time": "2023-02-07T21:25:50.063736Z",
     "start_time": "2023-02-07T21:25:50.001223Z"
    }
   },
   "outputs": [],
   "source": [
    "model = pickle.load(open(path_local +'src/models/xgb_model_final.pkl','rb'))"
   ]
  },
  {
   "cell_type": "code",
   "execution_count": 11,
   "id": "5fda741a",
   "metadata": {
    "ExecuteTime": {
     "end_time": "2023-02-07T21:25:50.192729Z",
     "start_time": "2023-02-07T21:25:50.063736Z"
    },
    "scrolled": true
   },
   "outputs": [
    {
     "name": "stderr",
     "output_type": "stream",
     "text": [
      "C:\\Users\\Lavin\\anaconda3\\envs\\desafio-incidium\\lib\\site-packages\\sklearn\\base.py:420: UserWarning: X does not have valid feature names, but RobustScaler was fitted with feature names\n",
      "  warnings.warn(\n",
      "C:\\Users\\Lavin\\anaconda3\\envs\\desafio-incidium\\lib\\site-packages\\sklearn\\base.py:420: UserWarning: X does not have valid feature names, but RobustScaler was fitted with feature names\n",
      "  warnings.warn(\n",
      "C:\\Users\\Lavin\\anaconda3\\envs\\desafio-incidium\\lib\\site-packages\\sklearn\\base.py:420: UserWarning: X does not have valid feature names, but MinMaxScaler was fitted with feature names\n",
      "  warnings.warn(\n",
      "C:\\Users\\Lavin\\anaconda3\\envs\\desafio-incidium\\lib\\site-packages\\sklearn\\base.py:420: UserWarning: X does not have valid feature names, but MinMaxScaler was fitted with feature names\n",
      "  warnings.warn(\n",
      "C:\\Users\\Lavin\\anaconda3\\envs\\desafio-incidium\\lib\\site-packages\\sklearn\\base.py:420: UserWarning: X does not have valid feature names, but MinMaxScaler was fitted with feature names\n",
      "  warnings.warn(\n",
      "C:\\Users\\Lavin\\anaconda3\\envs\\desafio-incidium\\lib\\site-packages\\sklearn\\base.py:420: UserWarning: X does not have valid feature names, but MinMaxScaler was fitted with feature names\n",
      "  warnings.warn(\n",
      "C:\\Users\\Lavin\\anaconda3\\envs\\desafio-incidium\\lib\\site-packages\\sklearn\\preprocessing\\_label.py:155: DataConversionWarning: A column-vector y was passed when a 1d array was expected. Please change the shape of y to (n_samples, ), for example using ravel().\n",
      "  y = column_or_1d(y, warn=True)\n"
     ]
    }
   ],
   "source": [
    "from indicium import indicium\n",
    "\n",
    "\n",
    "pipeline = indicium()\n",
    "\n",
    "df1 = pipeline.data_cleaning( df_test )\n",
    "        \n",
    "        # feature engineering\n",
    "df2 = pipeline.feature_engineering( df1 )\n",
    "        \n",
    "        # data preparation\n",
    "df3 = pipeline.data_preparation( df2 )\n",
    "        \n",
    "        # prediction\n",
    "df_response = pipeline.get_prediction( model, df_test, df3 )\n"
   ]
  },
  {
   "cell_type": "code",
   "execution_count": 23,
   "id": "ee49c6a9",
   "metadata": {
    "ExecuteTime": {
     "end_time": "2023-02-07T22:09:13.623331Z",
     "start_time": "2023-02-07T22:09:13.577056Z"
    }
   },
   "outputs": [
    {
     "data": {
      "text/html": [
       "<div>\n",
       "<style scoped>\n",
       "    .dataframe tbody tr th:only-of-type {\n",
       "        vertical-align: middle;\n",
       "    }\n",
       "\n",
       "    .dataframe tbody tr th {\n",
       "        vertical-align: top;\n",
       "    }\n",
       "\n",
       "    .dataframe thead th {\n",
       "        text-align: right;\n",
       "    }\n",
       "</style>\n",
       "<table border=\"1\" class=\"dataframe\">\n",
       "  <thead>\n",
       "    <tr style=\"text-align: right;\">\n",
       "      <th></th>\n",
       "      <th>udi</th>\n",
       "      <th>product_id</th>\n",
       "      <th>type</th>\n",
       "      <th>air_temperature_k</th>\n",
       "      <th>process_temperature_k</th>\n",
       "      <th>rotational_speed_rpm</th>\n",
       "      <th>torque_nm</th>\n",
       "      <th>tool_wear_min</th>\n",
       "      <th>power_w</th>\n",
       "      <th>predictedValues</th>\n",
       "    </tr>\n",
       "  </thead>\n",
       "  <tbody>\n",
       "    <tr>\n",
       "      <th>0</th>\n",
       "      <td>446</td>\n",
       "      <td>L47625</td>\n",
       "      <td>0.59</td>\n",
       "      <td>0.239130</td>\n",
       "      <td>0.358025</td>\n",
       "      <td>1.530343</td>\n",
       "      <td>-0.992647</td>\n",
       "      <td>-29.098765</td>\n",
       "      <td>581.180162</td>\n",
       "      <td>Power Failure</td>\n",
       "    </tr>\n",
       "    <tr>\n",
       "      <th>1</th>\n",
       "      <td>7076</td>\n",
       "      <td>L54255</td>\n",
       "      <td>0.59</td>\n",
       "      <td>0.586957</td>\n",
       "      <td>0.592593</td>\n",
       "      <td>0.174142</td>\n",
       "      <td>0.529412</td>\n",
       "      <td>-14.037037</td>\n",
       "      <td>903.526960</td>\n",
       "      <td>Power Failure</td>\n",
       "    </tr>\n",
       "    <tr>\n",
       "      <th>2</th>\n",
       "      <td>1191</td>\n",
       "      <td>L48370</td>\n",
       "      <td>0.59</td>\n",
       "      <td>0.206522</td>\n",
       "      <td>0.333333</td>\n",
       "      <td>-0.226913</td>\n",
       "      <td>0.139706</td>\n",
       "      <td>-32.679012</td>\n",
       "      <td>756.914132</td>\n",
       "      <td>Power Failure</td>\n",
       "    </tr>\n",
       "    <tr>\n",
       "      <th>3</th>\n",
       "      <td>2618</td>\n",
       "      <td>L49797</td>\n",
       "      <td>0.59</td>\n",
       "      <td>0.445652</td>\n",
       "      <td>0.419753</td>\n",
       "      <td>0.881266</td>\n",
       "      <td>-0.316176</td>\n",
       "      <td>-29.345679</td>\n",
       "      <td>737.353516</td>\n",
       "      <td>Power Failure</td>\n",
       "    </tr>\n",
       "    <tr>\n",
       "      <th>4</th>\n",
       "      <td>5067</td>\n",
       "      <td>L52246</td>\n",
       "      <td>0.59</td>\n",
       "      <td>0.956522</td>\n",
       "      <td>0.913580</td>\n",
       "      <td>0.248021</td>\n",
       "      <td>-0.683824</td>\n",
       "      <td>-36.629630</td>\n",
       "      <td>581.463293</td>\n",
       "      <td>Power Failure</td>\n",
       "    </tr>\n",
       "  </tbody>\n",
       "</table>\n",
       "</div>"
      ],
      "text/plain": [
       "    udi product_id  type  air_temperature_k  process_temperature_k  \\\n",
       "0   446     L47625  0.59           0.239130               0.358025   \n",
       "1  7076     L54255  0.59           0.586957               0.592593   \n",
       "2  1191     L48370  0.59           0.206522               0.333333   \n",
       "3  2618     L49797  0.59           0.445652               0.419753   \n",
       "4  5067     L52246  0.59           0.956522               0.913580   \n",
       "\n",
       "   rotational_speed_rpm  torque_nm  tool_wear_min     power_w predictedValues  \n",
       "0              1.530343  -0.992647     -29.098765  581.180162   Power Failure  \n",
       "1              0.174142   0.529412     -14.037037  903.526960   Power Failure  \n",
       "2             -0.226913   0.139706     -32.679012  756.914132   Power Failure  \n",
       "3              0.881266  -0.316176     -29.345679  737.353516   Power Failure  \n",
       "4              0.248021  -0.683824     -36.629630  581.463293   Power Failure  "
      ]
     },
     "execution_count": 23,
     "metadata": {},
     "output_type": "execute_result"
    }
   ],
   "source": [
    "df_response.head()"
   ]
  },
  {
   "cell_type": "code",
   "execution_count": 24,
   "id": "6ffebdd0",
   "metadata": {
    "ExecuteTime": {
     "end_time": "2023-02-07T22:09:18.360164Z",
     "start_time": "2023-02-07T22:09:18.329265Z"
    }
   },
   "outputs": [],
   "source": [
    "df = df_response[['udi','predictedValues']]"
   ]
  },
  {
   "cell_type": "code",
   "execution_count": 28,
   "id": "a79091da",
   "metadata": {
    "ExecuteTime": {
     "end_time": "2023-02-07T22:10:59.485986Z",
     "start_time": "2023-02-07T22:10:59.454716Z"
    }
   },
   "outputs": [],
   "source": [
    "#df.to_csv('../predicted.csv',index=False)"
   ]
  }
 ],
 "metadata": {
  "kernelspec": {
   "display_name": "Python 3 (ipykernel)",
   "language": "python",
   "name": "python3"
  },
  "language_info": {
   "codemirror_mode": {
    "name": "ipython",
    "version": 3
   },
   "file_extension": ".py",
   "mimetype": "text/x-python",
   "name": "python",
   "nbconvert_exporter": "python",
   "pygments_lexer": "ipython3",
   "version": "3.8.16"
  }
 },
 "nbformat": 4,
 "nbformat_minor": 5
}
