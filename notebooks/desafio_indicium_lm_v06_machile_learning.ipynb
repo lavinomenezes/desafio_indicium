{
 "cells": [
  {
   "cell_type": "markdown",
   "id": "ec459904",
   "metadata": {},
   "source": [
    "# imports"
   ]
  },
  {
   "cell_type": "code",
   "execution_count": 27,
   "id": "ce23a0a5",
   "metadata": {
    "ExecuteTime": {
     "end_time": "2023-02-04T23:53:11.418792Z",
     "start_time": "2023-02-04T23:53:11.403789Z"
    }
   },
   "outputs": [],
   "source": [
    "#manipulação de dados\n",
    "import pandas as pd\n",
    "import numpy  as np\n",
    "\n",
    "#visualização\n",
    "import matplotlib.pyplot as plt\n",
    "import seaborn           as sns\n",
    "from IPython.core.display import HTML\n",
    "from IPython.display      import Image\n",
    "\n",
    "# processamento de dados\n",
    "from sklearn.model_selection import train_test_split\n",
    "\n",
    "#machine learning models\n",
    "from lazypredict.Supervised import LazyClassifier\n",
    "import xgboost as xgb\n",
    "from sklearn.ensemble import RandomForestClassifier\n",
    "from sklearn.ensemble import ExtraTreesClassifier\n",
    "from sklearn.neighbors import KNeighborsClassifier\n",
    "\n",
    "#metricas\n",
    "from sklearn.metrics import accuracy_score, balanced_accuracy_score,precision_score,recall_score,roc_auc_score"
   ]
  },
  {
   "cell_type": "markdown",
   "id": "11a50ae4",
   "metadata": {},
   "source": [
    "## Helper functions "
   ]
  },
  {
   "cell_type": "code",
   "execution_count": 2,
   "id": "d5de0534",
   "metadata": {
    "ExecuteTime": {
     "end_time": "2023-02-04T23:26:19.890644Z",
     "start_time": "2023-02-04T23:26:19.821504Z"
    }
   },
   "outputs": [
    {
     "name": "stdout",
     "output_type": "stream",
     "text": [
      "%pylab is deprecated, use %matplotlib inline and import the required libraries.\n",
      "Populating the interactive namespace from numpy and matplotlib\n"
     ]
    },
    {
     "data": {
      "text/html": [
       "<style>.container { width:100% !important; }</style>"
      ],
      "text/plain": [
       "<IPython.core.display.HTML object>"
      ]
     },
     "metadata": {},
     "output_type": "display_data"
    }
   ],
   "source": [
    "def jupyter_settings():\n",
    "    %matplotlib inline\n",
    "    %pylab inline\n",
    "    plt.style.use( 'bmh' )\n",
    "    plt.rcParams['figure.figsize'] = [25, 12]\n",
    "    plt.rcParams['font.size'] = 24\n",
    "    display( HTML( '<style>.container { width:100% !important; }</style>') )\n",
    "    sns.set()\n",
    "jupyter_settings()"
   ]
  },
  {
   "cell_type": "markdown",
   "id": "ac8a74dc",
   "metadata": {},
   "source": [
    "# Load data"
   ]
  },
  {
   "cell_type": "code",
   "execution_count": 4,
   "id": "e762f6a7",
   "metadata": {
    "ExecuteTime": {
     "end_time": "2023-02-04T23:28:05.072810Z",
     "start_time": "2023-02-04T23:28:05.023540Z"
    }
   },
   "outputs": [],
   "source": [
    "path_local = 'C:/Users/Lavin/Documents/desafios/desafio_indicium/'\n",
    "df4 = pd.read_csv(path_local + 'data/processed/df_train_processed.csv')"
   ]
  },
  {
   "cell_type": "code",
   "execution_count": 5,
   "id": "5261bffe",
   "metadata": {
    "ExecuteTime": {
     "end_time": "2023-02-04T23:28:09.318660Z",
     "start_time": "2023-02-04T23:28:09.262126Z"
    },
    "scrolled": true
   },
   "outputs": [
    {
     "data": {
      "text/html": [
       "<div>\n",
       "<style scoped>\n",
       "    .dataframe tbody tr th:only-of-type {\n",
       "        vertical-align: middle;\n",
       "    }\n",
       "\n",
       "    .dataframe tbody tr th {\n",
       "        vertical-align: top;\n",
       "    }\n",
       "\n",
       "    .dataframe thead th {\n",
       "        text-align: right;\n",
       "    }\n",
       "</style>\n",
       "<table border=\"1\" class=\"dataframe\">\n",
       "  <thead>\n",
       "    <tr style=\"text-align: right;\">\n",
       "      <th></th>\n",
       "      <th>product_id</th>\n",
       "      <th>air_temperature_k</th>\n",
       "      <th>process_temperature_k</th>\n",
       "      <th>rotational_speed_rpm</th>\n",
       "      <th>torque_nm</th>\n",
       "      <th>tool_wear_min</th>\n",
       "      <th>failure_type</th>\n",
       "    </tr>\n",
       "  </thead>\n",
       "  <tbody>\n",
       "    <tr>\n",
       "      <th>0</th>\n",
       "      <td>M14860</td>\n",
       "      <td>0.304348</td>\n",
       "      <td>0.358025</td>\n",
       "      <td>0.253298</td>\n",
       "      <td>0.191176</td>\n",
       "      <td>-1.000000</td>\n",
       "      <td>1</td>\n",
       "    </tr>\n",
       "    <tr>\n",
       "      <th>1</th>\n",
       "      <td>L47181</td>\n",
       "      <td>0.315217</td>\n",
       "      <td>0.370370</td>\n",
       "      <td>-0.501319</td>\n",
       "      <td>0.448529</td>\n",
       "      <td>-0.972222</td>\n",
       "      <td>1</td>\n",
       "    </tr>\n",
       "    <tr>\n",
       "      <th>2</th>\n",
       "      <td>L47184</td>\n",
       "      <td>0.315217</td>\n",
       "      <td>0.370370</td>\n",
       "      <td>-0.501319</td>\n",
       "      <td>-0.014706</td>\n",
       "      <td>-0.916667</td>\n",
       "      <td>1</td>\n",
       "    </tr>\n",
       "    <tr>\n",
       "      <th>3</th>\n",
       "      <td>M14865</td>\n",
       "      <td>0.304348</td>\n",
       "      <td>0.358025</td>\n",
       "      <td>-0.411609</td>\n",
       "      <td>0.125000</td>\n",
       "      <td>-0.898148</td>\n",
       "      <td>1</td>\n",
       "    </tr>\n",
       "    <tr>\n",
       "      <th>4</th>\n",
       "      <td>L47186</td>\n",
       "      <td>0.304348</td>\n",
       "      <td>0.358025</td>\n",
       "      <td>0.290237</td>\n",
       "      <td>0.161765</td>\n",
       "      <td>-0.870370</td>\n",
       "      <td>1</td>\n",
       "    </tr>\n",
       "  </tbody>\n",
       "</table>\n",
       "</div>"
      ],
      "text/plain": [
       "  product_id  air_temperature_k  process_temperature_k  rotational_speed_rpm  \\\n",
       "0     M14860           0.304348               0.358025              0.253298   \n",
       "1     L47181           0.315217               0.370370             -0.501319   \n",
       "2     L47184           0.315217               0.370370             -0.501319   \n",
       "3     M14865           0.304348               0.358025             -0.411609   \n",
       "4     L47186           0.304348               0.358025              0.290237   \n",
       "\n",
       "   torque_nm  tool_wear_min  failure_type  \n",
       "0   0.191176      -1.000000             1  \n",
       "1   0.448529      -0.972222             1  \n",
       "2  -0.014706      -0.916667             1  \n",
       "3   0.125000      -0.898148             1  \n",
       "4   0.161765      -0.870370             1  "
      ]
     },
     "execution_count": 5,
     "metadata": {},
     "output_type": "execute_result"
    }
   ],
   "source": [
    "df4.head()"
   ]
  },
  {
   "cell_type": "markdown",
   "id": "e009ab6e",
   "metadata": {},
   "source": [
    "## Split dataframe"
   ]
  },
  {
   "cell_type": "code",
   "execution_count": 10,
   "id": "ebc1691c",
   "metadata": {
    "ExecuteTime": {
     "end_time": "2023-02-04T23:33:12.148492Z",
     "start_time": "2023-02-04T23:33:12.109496Z"
    }
   },
   "outputs": [],
   "source": [
    "X = df4.copy()\n",
    "y = X['failure_type']\n",
    "X = X.drop(columns=['failure_type','product_id'])"
   ]
  },
  {
   "cell_type": "code",
   "execution_count": 44,
   "id": "272f6970",
   "metadata": {
    "ExecuteTime": {
     "end_time": "2023-02-05T00:01:26.543590Z",
     "start_time": "2023-02-05T00:01:26.520594Z"
    }
   },
   "outputs": [],
   "source": [
    "X_train, X_val, y_train, y_val = train_test_split(X, y, test_size=0.3, random_state=42)"
   ]
  },
  {
   "cell_type": "code",
   "execution_count": 46,
   "id": "3d8b72e3",
   "metadata": {
    "ExecuteTime": {
     "end_time": "2023-02-05T00:02:04.485098Z",
     "start_time": "2023-02-05T00:02:04.465098Z"
    }
   },
   "outputs": [
    {
     "data": {
      "text/plain": [
       "(4666, 5)"
      ]
     },
     "execution_count": 46,
     "metadata": {},
     "output_type": "execute_result"
    }
   ],
   "source": [
    "X_train.shape"
   ]
  },
  {
   "cell_type": "code",
   "execution_count": 13,
   "id": "c25debf7",
   "metadata": {
    "ExecuteTime": {
     "end_time": "2023-02-04T23:33:31.282164Z",
     "start_time": "2023-02-04T23:33:31.251988Z"
    }
   },
   "outputs": [
    {
     "data": {
      "text/plain": [
       "(2001, 5)"
      ]
     },
     "execution_count": 13,
     "metadata": {},
     "output_type": "execute_result"
    }
   ],
   "source": [
    "X_val.shape"
   ]
  },
  {
   "cell_type": "markdown",
   "id": "690e807f",
   "metadata": {},
   "source": [
    "#  Machine learning model"
   ]
  },
  {
   "cell_type": "code",
   "execution_count": 21,
   "id": "42efa9de",
   "metadata": {
    "ExecuteTime": {
     "end_time": "2023-02-04T23:43:23.952009Z",
     "start_time": "2023-02-04T23:43:15.809652Z"
    }
   },
   "outputs": [
    {
     "name": "stderr",
     "output_type": "stream",
     "text": [
      "100%|██████████| 29/29 [00:07<00:00,  3.67it/s]\n"
     ]
    },
    {
     "ename": "AttributeError",
     "evalue": "'list' object has no attribute '__name__'",
     "output_type": "error",
     "traceback": [
      "\u001b[1;31m---------------------------------------------------------------------------\u001b[0m",
      "\u001b[1;31mAttributeError\u001b[0m                            Traceback (most recent call last)",
      "Cell \u001b[1;32mIn[21], line 2\u001b[0m\n\u001b[0;32m      1\u001b[0m clf \u001b[38;5;241m=\u001b[39m LazyClassifier(verbose\u001b[38;5;241m=\u001b[39m\u001b[38;5;241m0\u001b[39m,ignore_warnings\u001b[38;5;241m=\u001b[39m\u001b[38;5;28;01mTrue\u001b[39;00m, custom_metric\u001b[38;5;241m=\u001b[39m[\u001b[38;5;124m'\u001b[39m\u001b[38;5;124mprecision\u001b[39m\u001b[38;5;124m'\u001b[39m,\u001b[38;5;124m'\u001b[39m\u001b[38;5;124mrecall\u001b[39m\u001b[38;5;124m'\u001b[39m])\n\u001b[1;32m----> 2\u001b[0m models,predictions \u001b[38;5;241m=\u001b[39m \u001b[43mclf\u001b[49m\u001b[38;5;241;43m.\u001b[39;49m\u001b[43mfit\u001b[49m\u001b[43m(\u001b[49m\u001b[43mX_train\u001b[49m\u001b[43m,\u001b[49m\u001b[43m \u001b[49m\u001b[43mX_val\u001b[49m\u001b[43m,\u001b[49m\u001b[43m \u001b[49m\u001b[43my_train\u001b[49m\u001b[43m,\u001b[49m\u001b[43m \u001b[49m\u001b[43my_val\u001b[49m\u001b[43m)\u001b[49m\n",
      "File \u001b[1;32m~\\anaconda3\\envs\\desafio-incidium\\lib\\site-packages\\lazypredict\\Supervised.py:374\u001b[0m, in \u001b[0;36mLazyClassifier.fit\u001b[1;34m(self, X_train, X_test, y_train, y_test)\u001b[0m\n\u001b[0;32m    356\u001b[0m     scores \u001b[38;5;241m=\u001b[39m pd\u001b[38;5;241m.\u001b[39mDataFrame(\n\u001b[0;32m    357\u001b[0m         {\n\u001b[0;32m    358\u001b[0m             \u001b[38;5;124m\"\u001b[39m\u001b[38;5;124mModel\u001b[39m\u001b[38;5;124m\"\u001b[39m: names,\n\u001b[1;32m   (...)\u001b[0m\n\u001b[0;32m    364\u001b[0m         }\n\u001b[0;32m    365\u001b[0m     )\n\u001b[0;32m    366\u001b[0m \u001b[38;5;28;01melse\u001b[39;00m:\n\u001b[0;32m    367\u001b[0m     scores \u001b[38;5;241m=\u001b[39m pd\u001b[38;5;241m.\u001b[39mDataFrame(\n\u001b[0;32m    368\u001b[0m         {\n\u001b[0;32m    369\u001b[0m             \u001b[38;5;124m\"\u001b[39m\u001b[38;5;124mModel\u001b[39m\u001b[38;5;124m\"\u001b[39m: names,\n\u001b[0;32m    370\u001b[0m             \u001b[38;5;124m\"\u001b[39m\u001b[38;5;124mAccuracy\u001b[39m\u001b[38;5;124m\"\u001b[39m: Accuracy,\n\u001b[0;32m    371\u001b[0m             \u001b[38;5;124m\"\u001b[39m\u001b[38;5;124mBalanced Accuracy\u001b[39m\u001b[38;5;124m\"\u001b[39m: B_Accuracy,\n\u001b[0;32m    372\u001b[0m             \u001b[38;5;124m\"\u001b[39m\u001b[38;5;124mROC AUC\u001b[39m\u001b[38;5;124m\"\u001b[39m: ROC_AUC,\n\u001b[0;32m    373\u001b[0m             \u001b[38;5;124m\"\u001b[39m\u001b[38;5;124mF1 Score\u001b[39m\u001b[38;5;124m\"\u001b[39m: F1,\n\u001b[1;32m--> 374\u001b[0m             \u001b[38;5;28;43mself\u001b[39;49m\u001b[38;5;241;43m.\u001b[39;49m\u001b[43mcustom_metric\u001b[49m\u001b[38;5;241;43m.\u001b[39;49m\u001b[38;5;18;43m__name__\u001b[39;49m: CUSTOM_METRIC,\n\u001b[0;32m    375\u001b[0m             \u001b[38;5;124m\"\u001b[39m\u001b[38;5;124mTime Taken\u001b[39m\u001b[38;5;124m\"\u001b[39m: TIME,\n\u001b[0;32m    376\u001b[0m         }\n\u001b[0;32m    377\u001b[0m     )\n\u001b[0;32m    378\u001b[0m scores \u001b[38;5;241m=\u001b[39m scores\u001b[38;5;241m.\u001b[39msort_values(by\u001b[38;5;241m=\u001b[39m\u001b[38;5;124m\"\u001b[39m\u001b[38;5;124mBalanced Accuracy\u001b[39m\u001b[38;5;124m\"\u001b[39m, ascending\u001b[38;5;241m=\u001b[39m\u001b[38;5;28;01mFalse\u001b[39;00m)\u001b[38;5;241m.\u001b[39mset_index(\n\u001b[0;32m    379\u001b[0m     \u001b[38;5;124m\"\u001b[39m\u001b[38;5;124mModel\u001b[39m\u001b[38;5;124m\"\u001b[39m\n\u001b[0;32m    380\u001b[0m )\n\u001b[0;32m    382\u001b[0m \u001b[38;5;28;01mif\u001b[39;00m \u001b[38;5;28mself\u001b[39m\u001b[38;5;241m.\u001b[39mpredictions:\n",
      "\u001b[1;31mAttributeError\u001b[0m: 'list' object has no attribute '__name__'"
     ]
    }
   ],
   "source": [
    "clf = LazyClassifier(verbose=0,ignore_warnings=True, custom_metric=)\n",
    "models,predictions = clf.fit(X_train, X_val, y_train, y_val)"
   ]
  },
  {
   "cell_type": "code",
   "execution_count": 22,
   "id": "612e9ead",
   "metadata": {
    "ExecuteTime": {
     "end_time": "2023-02-04T23:43:25.987099Z",
     "start_time": "2023-02-04T23:43:25.961996Z"
    }
   },
   "outputs": [
    {
     "name": "stdout",
     "output_type": "stream",
     "text": [
      "                               Accuracy  Balanced Accuracy ROC AUC  F1 Score  \\\n",
      "Model                                                                          \n",
      "NearestCentroid                    0.44               0.62    None      0.59   \n",
      "QuadraticDiscriminantAnalysis      0.98               0.54    None      0.98   \n",
      "XGBClassifier                      0.98               0.52    None      0.98   \n",
      "LGBMClassifier                     0.98               0.51    None      0.98   \n",
      "BaggingClassifier                  0.98               0.50    None      0.98   \n",
      "DecisionTreeClassifier             0.97               0.50    None      0.97   \n",
      "RandomForestClassifier             0.98               0.50    None      0.98   \n",
      "ExtraTreeClassifier                0.97               0.49    None      0.97   \n",
      "GaussianNB                         0.96               0.46    None      0.96   \n",
      "Perceptron                         0.98               0.44    None      0.97   \n",
      "LogisticRegression                 0.98               0.38    None      0.97   \n",
      "SGDClassifier                      0.98               0.37    None      0.97   \n",
      "ExtraTreesClassifier               0.98               0.35    None      0.97   \n",
      "LinearDiscriminantAnalysis         0.97               0.31    None      0.96   \n",
      "PassiveAggressiveClassifier        0.97               0.31    None      0.96   \n",
      "AdaBoostClassifier                 0.90               0.30    None      0.92   \n",
      "KNeighborsClassifier               0.97               0.30    None      0.96   \n",
      "LabelSpreading                     0.96               0.30    None      0.96   \n",
      "LabelPropagation                   0.96               0.30    None      0.96   \n",
      "CalibratedClassifierCV             0.97               0.24    None      0.96   \n",
      "LinearSVC                          0.97               0.22    None      0.96   \n",
      "SVC                                0.97               0.21    None      0.96   \n",
      "DummyClassifier                    0.97               0.17    None      0.95   \n",
      "RidgeClassifier                    0.97               0.17    None      0.95   \n",
      "RidgeClassifierCV                  0.97               0.17    None      0.95   \n",
      "BernoulliNB                        0.97               0.17    None      0.95   \n",
      "\n",
      "                               Time Taken  \n",
      "Model                                      \n",
      "NearestCentroid                      0.02  \n",
      "QuadraticDiscriminantAnalysis        0.04  \n",
      "XGBClassifier                        1.06  \n",
      "LGBMClassifier                       1.01  \n",
      "BaggingClassifier                    0.18  \n",
      "DecisionTreeClassifier               0.04  \n",
      "RandomForestClassifier               0.76  \n",
      "ExtraTreeClassifier                  0.02  \n",
      "GaussianNB                           0.02  \n",
      "Perceptron                           0.03  \n",
      "LogisticRegression                   0.16  \n",
      "SGDClassifier                        0.04  \n",
      "ExtraTreesClassifier                 0.41  \n",
      "LinearDiscriminantAnalysis           0.08  \n",
      "PassiveAggressiveClassifier          0.04  \n",
      "AdaBoostClassifier                   0.43  \n",
      "KNeighborsClassifier                 0.12  \n",
      "LabelSpreading                       1.49  \n",
      "LabelPropagation                     0.89  \n",
      "CalibratedClassifierCV               1.16  \n",
      "LinearSVC                            0.29  \n",
      "SVC                                  0.29  \n",
      "DummyClassifier                      0.02  \n",
      "RidgeClassifier                      0.03  \n",
      "RidgeClassifierCV                    0.02  \n",
      "BernoulliNB                          0.03  \n"
     ]
    }
   ],
   "source": [
    "print(models)"
   ]
  },
  {
   "cell_type": "markdown",
   "id": "2ecf9ef1",
   "metadata": {},
   "source": [
    "## Xgboost"
   ]
  },
  {
   "cell_type": "code",
   "execution_count": 26,
   "id": "db792c4e",
   "metadata": {
    "ExecuteTime": {
     "end_time": "2023-02-04T23:51:50.382485Z",
     "start_time": "2023-02-04T23:51:48.062462Z"
    }
   },
   "outputs": [],
   "source": [
    "xgb_model = xgb.XGBClassifier(n_estimators=300,seed=42).fit(X_train,y_train.values.ravel())"
   ]
  },
  {
   "cell_type": "code",
   "execution_count": 28,
   "id": "aad174e6",
   "metadata": {
    "ExecuteTime": {
     "end_time": "2023-02-04T23:55:14.438884Z",
     "start_time": "2023-02-04T23:55:14.406544Z"
    }
   },
   "outputs": [],
   "source": [
    "yhat_xgb = xgb_model.predict(X_val)"
   ]
  },
  {
   "cell_type": "code",
   "execution_count": 39,
   "id": "a2083716",
   "metadata": {
    "ExecuteTime": {
     "end_time": "2023-02-04T23:59:20.476989Z",
     "start_time": "2023-02-04T23:59:20.446958Z"
    }
   },
   "outputs": [
    {
     "data": {
      "text/plain": [
       "array([0, 1, 2, 3, 4, 5], dtype=int64)"
      ]
     },
     "execution_count": 39,
     "metadata": {},
     "output_type": "execute_result"
    }
   ],
   "source": [
    "np.unique(y_val)"
   ]
  },
  {
   "cell_type": "code",
   "execution_count": 37,
   "id": "0575aa7f",
   "metadata": {
    "ExecuteTime": {
     "end_time": "2023-02-04T23:58:50.626818Z",
     "start_time": "2023-02-04T23:58:50.606786Z"
    }
   },
   "outputs": [
    {
     "data": {
      "text/plain": [
       "array([0, 1, 2, 3, 5], dtype=int64)"
      ]
     },
     "execution_count": 37,
     "metadata": {},
     "output_type": "execute_result"
    }
   ],
   "source": [
    "np.unique(yhat_xgb)"
   ]
  },
  {
   "cell_type": "code",
   "execution_count": 29,
   "id": "db773b08",
   "metadata": {
    "ExecuteTime": {
     "end_time": "2023-02-04T23:55:46.937112Z",
     "start_time": "2023-02-04T23:55:46.918113Z"
    }
   },
   "outputs": [
    {
     "data": {
      "text/plain": [
       "0.9820089955022488"
      ]
     },
     "execution_count": 29,
     "metadata": {},
     "output_type": "execute_result"
    }
   ],
   "source": [
    "accuracy_score(y_val,yhat_xgb)"
   ]
  },
  {
   "cell_type": "code",
   "execution_count": 30,
   "id": "721b97bc",
   "metadata": {
    "ExecuteTime": {
     "end_time": "2023-02-04T23:55:59.446639Z",
     "start_time": "2023-02-04T23:55:59.426927Z"
    }
   },
   "outputs": [
    {
     "data": {
      "text/plain": [
       "0.5165333026205637"
      ]
     },
     "execution_count": 30,
     "metadata": {},
     "output_type": "execute_result"
    }
   ],
   "source": [
    "balanced_accuracy_score(y_val,yhat_xgb)"
   ]
  }
 ],
 "metadata": {
  "kernelspec": {
   "display_name": "Python 3 (ipykernel)",
   "language": "python",
   "name": "python3"
  },
  "language_info": {
   "codemirror_mode": {
    "name": "ipython",
    "version": 3
   },
   "file_extension": ".py",
   "mimetype": "text/x-python",
   "name": "python",
   "nbconvert_exporter": "python",
   "pygments_lexer": "ipython3",
   "version": "3.8.16"
  }
 },
 "nbformat": 4,
 "nbformat_minor": 5
}
