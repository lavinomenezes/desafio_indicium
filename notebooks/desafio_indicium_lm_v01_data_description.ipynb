{
 "cells": [
  {
   "cell_type": "markdown",
   "id": "50dc7579",
   "metadata": {},
   "source": [
    "# imports"
   ]
  },
  {
   "cell_type": "code",
   "execution_count": 11,
   "id": "dc65721f",
   "metadata": {
    "ExecuteTime": {
     "end_time": "2023-02-02T12:13:07.291824Z",
     "start_time": "2023-02-02T12:13:07.278824Z"
    }
   },
   "outputs": [],
   "source": [
    "#manipulação de dados\n",
    "import pandas as pd\n",
    "import numpy  as np\n",
    "\n",
    "#visualização\n",
    "import matplotlib.pyplot as plt\n",
    "import seaborn           as sns\n",
    "from IPython.core.display import HTML\n"
   ]
  },
  {
   "cell_type": "markdown",
   "id": "682cb639",
   "metadata": {
    "heading_collapsed": true
   },
   "source": [
    "# Helper functions"
   ]
  },
  {
   "cell_type": "code",
   "execution_count": 12,
   "id": "f41c4a7b",
   "metadata": {
    "ExecuteTime": {
     "end_time": "2023-02-02T12:13:10.114901Z",
     "start_time": "2023-02-02T12:13:10.084219Z"
    },
    "hidden": true
   },
   "outputs": [
    {
     "name": "stdout",
     "output_type": "stream",
     "text": [
      "%pylab is deprecated, use %matplotlib inline and import the required libraries.\n",
      "Populating the interactive namespace from numpy and matplotlib\n"
     ]
    },
    {
     "data": {
      "text/html": [
       "<style>.container { width:100% !important; }</style>"
      ],
      "text/plain": [
       "<IPython.core.display.HTML object>"
      ]
     },
     "metadata": {},
     "output_type": "display_data"
    }
   ],
   "source": [
    "def jupyter_settings():\n",
    "    %matplotlib inline\n",
    "    %pylab inline\n",
    "    plt.style.use( 'bmh' )\n",
    "    plt.rcParams['figure.figsize'] = [25, 12]\n",
    "    plt.rcParams['font.size'] = 24\n",
    "    display( HTML( '<style>.container { width:100% !important; }</style>') )\n",
    "    sns.set()\n",
    "jupyter_settings()"
   ]
  },
  {
   "cell_type": "markdown",
   "id": "a478e774",
   "metadata": {},
   "source": [
    "# 1. Load Data"
   ]
  },
  {
   "cell_type": "code",
   "execution_count": 14,
   "id": "798a9d8f",
   "metadata": {
    "ExecuteTime": {
     "end_time": "2023-02-02T12:14:51.567849Z",
     "start_time": "2023-02-02T12:14:51.467513Z"
    }
   },
   "outputs": [],
   "source": [
    "df_raw = pd.read_csv('C:/Users/Lavin/Documents/desafios/desafio_indicium/data/raw/desafio_manutencao_preditiva_treino.csv')"
   ]
  },
  {
   "cell_type": "code",
   "execution_count": 15,
   "id": "48213327",
   "metadata": {
    "ExecuteTime": {
     "end_time": "2023-02-02T12:14:58.599154Z",
     "start_time": "2023-02-02T12:14:58.495097Z"
    }
   },
   "outputs": [
    {
     "data": {
      "text/html": [
       "<div>\n",
       "<style scoped>\n",
       "    .dataframe tbody tr th:only-of-type {\n",
       "        vertical-align: middle;\n",
       "    }\n",
       "\n",
       "    .dataframe tbody tr th {\n",
       "        vertical-align: top;\n",
       "    }\n",
       "\n",
       "    .dataframe thead th {\n",
       "        text-align: right;\n",
       "    }\n",
       "</style>\n",
       "<table border=\"1\" class=\"dataframe\">\n",
       "  <thead>\n",
       "    <tr style=\"text-align: right;\">\n",
       "      <th></th>\n",
       "      <th>udi</th>\n",
       "      <th>product_id</th>\n",
       "      <th>type</th>\n",
       "      <th>air_temperature_k</th>\n",
       "      <th>process_temperature_k</th>\n",
       "      <th>rotational_speed_rpm</th>\n",
       "      <th>torque_nm</th>\n",
       "      <th>tool_wear_min</th>\n",
       "      <th>failure_type</th>\n",
       "    </tr>\n",
       "  </thead>\n",
       "  <tbody>\n",
       "    <tr>\n",
       "      <th>0</th>\n",
       "      <td>1</td>\n",
       "      <td>M14860</td>\n",
       "      <td>M</td>\n",
       "      <td>298.1</td>\n",
       "      <td>308.6</td>\n",
       "      <td>1551</td>\n",
       "      <td>42.8</td>\n",
       "      <td>0</td>\n",
       "      <td>No Failure</td>\n",
       "    </tr>\n",
       "    <tr>\n",
       "      <th>1</th>\n",
       "      <td>2</td>\n",
       "      <td>L47181</td>\n",
       "      <td>L</td>\n",
       "      <td>298.2</td>\n",
       "      <td>308.7</td>\n",
       "      <td>1408</td>\n",
       "      <td>46.3</td>\n",
       "      <td>3</td>\n",
       "      <td>No Failure</td>\n",
       "    </tr>\n",
       "    <tr>\n",
       "      <th>2</th>\n",
       "      <td>5</td>\n",
       "      <td>L47184</td>\n",
       "      <td>L</td>\n",
       "      <td>298.2</td>\n",
       "      <td>308.7</td>\n",
       "      <td>1408</td>\n",
       "      <td>40.0</td>\n",
       "      <td>9</td>\n",
       "      <td>No Failure</td>\n",
       "    </tr>\n",
       "    <tr>\n",
       "      <th>3</th>\n",
       "      <td>6</td>\n",
       "      <td>M14865</td>\n",
       "      <td>M</td>\n",
       "      <td>298.1</td>\n",
       "      <td>308.6</td>\n",
       "      <td>1425</td>\n",
       "      <td>41.9</td>\n",
       "      <td>11</td>\n",
       "      <td>No Failure</td>\n",
       "    </tr>\n",
       "    <tr>\n",
       "      <th>4</th>\n",
       "      <td>7</td>\n",
       "      <td>L47186</td>\n",
       "      <td>L</td>\n",
       "      <td>298.1</td>\n",
       "      <td>308.6</td>\n",
       "      <td>1558</td>\n",
       "      <td>42.4</td>\n",
       "      <td>14</td>\n",
       "      <td>No Failure</td>\n",
       "    </tr>\n",
       "  </tbody>\n",
       "</table>\n",
       "</div>"
      ],
      "text/plain": [
       "   udi product_id type  air_temperature_k  process_temperature_k  \\\n",
       "0    1     M14860    M              298.1                  308.6   \n",
       "1    2     L47181    L              298.2                  308.7   \n",
       "2    5     L47184    L              298.2                  308.7   \n",
       "3    6     M14865    M              298.1                  308.6   \n",
       "4    7     L47186    L              298.1                  308.6   \n",
       "\n",
       "   rotational_speed_rpm  torque_nm  tool_wear_min failure_type  \n",
       "0                  1551       42.8              0   No Failure  \n",
       "1                  1408       46.3              3   No Failure  \n",
       "2                  1408       40.0              9   No Failure  \n",
       "3                  1425       41.9             11   No Failure  \n",
       "4                  1558       42.4             14   No Failure  "
      ]
     },
     "execution_count": 15,
     "metadata": {},
     "output_type": "execute_result"
    }
   ],
   "source": [
    "df_raw.head()"
   ]
  },
  {
   "cell_type": "markdown",
   "id": "70b14ff8",
   "metadata": {},
   "source": [
    "**dataset dimensions**"
   ]
  },
  {
   "cell_type": "code",
   "execution_count": 17,
   "id": "44d73090",
   "metadata": {
    "ExecuteTime": {
     "end_time": "2023-02-02T12:16:24.429591Z",
     "start_time": "2023-02-02T12:16:24.409590Z"
    }
   },
   "outputs": [
    {
     "data": {
      "text/plain": [
       "(6667, 9)"
      ]
     },
     "execution_count": 17,
     "metadata": {},
     "output_type": "execute_result"
    }
   ],
   "source": [
    "df_raw.shape"
   ]
  },
  {
   "cell_type": "markdown",
   "id": "008101d5",
   "metadata": {},
   "source": [
    "Temos um total de 6667 linhas com nove colunas no dataset de teste"
   ]
  },
  {
   "cell_type": "markdown",
   "id": "e95aee99",
   "metadata": {},
   "source": [
    "## 1.1 Checking data types "
   ]
  },
  {
   "cell_type": "code",
   "execution_count": 19,
   "id": "dada93ef",
   "metadata": {
    "ExecuteTime": {
     "end_time": "2023-02-02T12:18:48.807836Z",
     "start_time": "2023-02-02T12:18:48.792298Z"
    }
   },
   "outputs": [],
   "source": [
    "#copia para alterações não afetarem os dados originais\n",
    "df1 = df_raw.copy()"
   ]
  },
  {
   "cell_type": "code",
   "execution_count": 21,
   "id": "2416091d",
   "metadata": {
    "ExecuteTime": {
     "end_time": "2023-02-02T12:18:58.187575Z",
     "start_time": "2023-02-02T12:18:58.171941Z"
    }
   },
   "outputs": [
    {
     "data": {
      "text/plain": [
       "udi                        int64\n",
       "product_id                object\n",
       "type                      object\n",
       "air_temperature_k        float64\n",
       "process_temperature_k    float64\n",
       "rotational_speed_rpm       int64\n",
       "torque_nm                float64\n",
       "tool_wear_min              int64\n",
       "failure_type              object\n",
       "dtype: object"
      ]
     },
     "execution_count": 21,
     "metadata": {},
     "output_type": "execute_result"
    }
   ],
   "source": [
    "df1.dtypes"
   ]
  },
  {
   "cell_type": "markdown",
   "id": "47393224",
   "metadata": {},
   "source": [
    "Não será necessário nenhum modificação no tipo dos dados, visto que as colunas já estão em seus devidos formatos"
   ]
  },
  {
   "cell_type": "markdown",
   "id": "605dfb06",
   "metadata": {},
   "source": [
    "## 1.2 Checking NA"
   ]
  },
  {
   "cell_type": "code",
   "execution_count": 22,
   "id": "2ab15e86",
   "metadata": {
    "ExecuteTime": {
     "end_time": "2023-02-02T12:21:57.989145Z",
     "start_time": "2023-02-02T12:21:57.934188Z"
    }
   },
   "outputs": [
    {
     "data": {
      "text/plain": [
       "udi                      0\n",
       "product_id               0\n",
       "type                     0\n",
       "air_temperature_k        0\n",
       "process_temperature_k    0\n",
       "rotational_speed_rpm     0\n",
       "torque_nm                0\n",
       "tool_wear_min            0\n",
       "failure_type             0\n",
       "dtype: int64"
      ]
     },
     "execution_count": 22,
     "metadata": {},
     "output_type": "execute_result"
    }
   ],
   "source": [
    "df1.isnull().sum()"
   ]
  },
  {
   "cell_type": "markdown",
   "id": "69f80679",
   "metadata": {},
   "source": [
    "o dataset não apresenta nenhum dados faltante, então a analise inicial dos dados já pode ser feita"
   ]
  },
  {
   "cell_type": "markdown",
   "id": "8bf84829",
   "metadata": {},
   "source": [
    "# 2. Data description "
   ]
  },
  {
   "cell_type": "markdown",
   "id": "1cee2ed0",
   "metadata": {
    "ExecuteTime": {
     "end_time": "2023-02-02T12:26:31.384553Z",
     "start_time": "2023-02-02T12:26:31.306571Z"
    }
   },
   "source": [
    "'udi': categorico\n",
    "\n",
    "'product_id': categorico\n",
    "\n",
    "'type':categotico\n",
    "\n",
    "'air_temperature_k': numérico\n",
    "\n",
    "'process_temperature_k':numérico\n",
    "\n",
    "'rotational_speed_rpm':numérico\n",
    "\n",
    "'torque_nm':numérico\n",
    "\n",
    "'tool_wear_min':numérico\n",
    "\n",
    "'failure_type':categorico\n"
   ]
  },
  {
   "cell_type": "code",
   "execution_count": 27,
   "id": "d25e1196",
   "metadata": {
    "ExecuteTime": {
     "end_time": "2023-02-02T12:32:45.214745Z",
     "start_time": "2023-02-02T12:32:45.189754Z"
    }
   },
   "outputs": [],
   "source": [
    "cat_attribures = df1[['udi','product_id','type','failure_type']]\n",
    "num_attribures = df1[['air_temperature_k','process_temperature_k','rotational_speed_rpm','torque_nm','tool_wear_min']]"
   ]
  },
  {
   "cell_type": "markdown",
   "id": "a0142eaf",
   "metadata": {},
   "source": [
    "## 2.1 Numerical statistics"
   ]
  },
  {
   "cell_type": "code",
   "execution_count": 29,
   "id": "80b79237",
   "metadata": {
    "ExecuteTime": {
     "end_time": "2023-02-02T12:41:39.580297Z",
     "start_time": "2023-02-02T12:41:39.528303Z"
    }
   },
   "outputs": [
    {
     "data": {
      "text/html": [
       "<div>\n",
       "<style scoped>\n",
       "    .dataframe tbody tr th:only-of-type {\n",
       "        vertical-align: middle;\n",
       "    }\n",
       "\n",
       "    .dataframe tbody tr th {\n",
       "        vertical-align: top;\n",
       "    }\n",
       "\n",
       "    .dataframe thead th {\n",
       "        text-align: right;\n",
       "    }\n",
       "</style>\n",
       "<table border=\"1\" class=\"dataframe\">\n",
       "  <thead>\n",
       "    <tr style=\"text-align: right;\">\n",
       "      <th></th>\n",
       "      <th>min</th>\n",
       "      <th>max</th>\n",
       "      <th>mean</th>\n",
       "      <th>median</th>\n",
       "      <th>std</th>\n",
       "      <th>skew</th>\n",
       "      <th>kurtosis</th>\n",
       "    </tr>\n",
       "  </thead>\n",
       "  <tbody>\n",
       "    <tr>\n",
       "      <th>air_temperature_k</th>\n",
       "      <td>295.3</td>\n",
       "      <td>304.5</td>\n",
       "      <td>299.992515</td>\n",
       "      <td>300.0</td>\n",
       "      <td>1.994710</td>\n",
       "      <td>0.126800</td>\n",
       "      <td>-0.819938</td>\n",
       "    </tr>\n",
       "    <tr>\n",
       "      <th>process_temperature_k</th>\n",
       "      <td>305.7</td>\n",
       "      <td>313.8</td>\n",
       "      <td>309.992620</td>\n",
       "      <td>310.0</td>\n",
       "      <td>1.488101</td>\n",
       "      <td>0.016152</td>\n",
       "      <td>-0.508652</td>\n",
       "    </tr>\n",
       "    <tr>\n",
       "      <th>rotational_speed_rpm</th>\n",
       "      <td>1168.0</td>\n",
       "      <td>2886.0</td>\n",
       "      <td>1537.419529</td>\n",
       "      <td>1503.0</td>\n",
       "      <td>177.182908</td>\n",
       "      <td>1.952833</td>\n",
       "      <td>7.310365</td>\n",
       "    </tr>\n",
       "    <tr>\n",
       "      <th>torque_nm</th>\n",
       "      <td>3.8</td>\n",
       "      <td>76.6</td>\n",
       "      <td>40.058512</td>\n",
       "      <td>40.2</td>\n",
       "      <td>9.950804</td>\n",
       "      <td>0.011572</td>\n",
       "      <td>0.008249</td>\n",
       "    </tr>\n",
       "    <tr>\n",
       "      <th>tool_wear_min</th>\n",
       "      <td>0.0</td>\n",
       "      <td>251.0</td>\n",
       "      <td>108.098095</td>\n",
       "      <td>108.0</td>\n",
       "      <td>63.359915</td>\n",
       "      <td>0.019810</td>\n",
       "      <td>-1.157345</td>\n",
       "    </tr>\n",
       "  </tbody>\n",
       "</table>\n",
       "</div>"
      ],
      "text/plain": [
       "                          min     max         mean  median         std  \\\n",
       "air_temperature_k       295.3   304.5   299.992515   300.0    1.994710   \n",
       "process_temperature_k   305.7   313.8   309.992620   310.0    1.488101   \n",
       "rotational_speed_rpm   1168.0  2886.0  1537.419529  1503.0  177.182908   \n",
       "torque_nm                 3.8    76.6    40.058512    40.2    9.950804   \n",
       "tool_wear_min             0.0   251.0   108.098095   108.0   63.359915   \n",
       "\n",
       "                           skew  kurtosis  \n",
       "air_temperature_k      0.126800 -0.819938  \n",
       "process_temperature_k  0.016152 -0.508652  \n",
       "rotational_speed_rpm   1.952833  7.310365  \n",
       "torque_nm              0.011572  0.008249  \n",
       "tool_wear_min          0.019810 -1.157345  "
      ]
     },
     "execution_count": 29,
     "metadata": {},
     "output_type": "execute_result"
    }
   ],
   "source": [
    "num_attribures.agg(['min','max','mean','median','std','skew','kurtosis']).T"
   ]
  },
  {
   "cell_type": "markdown",
   "id": "58604eed",
   "metadata": {},
   "source": [
    "Todas as médias e medianas apresentaão valores próximos"
   ]
  }
 ],
 "metadata": {
  "kernelspec": {
   "display_name": "Python 3 (ipykernel)",
   "language": "python",
   "name": "python3"
  },
  "language_info": {
   "codemirror_mode": {
    "name": "ipython",
    "version": 3
   },
   "file_extension": ".py",
   "mimetype": "text/x-python",
   "name": "python",
   "nbconvert_exporter": "python",
   "pygments_lexer": "ipython3",
   "version": "3.8.16"
  }
 },
 "nbformat": 4,
 "nbformat_minor": 5
}
